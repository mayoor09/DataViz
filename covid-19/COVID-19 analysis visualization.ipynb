{
 "cells": [
  {
   "cell_type": "markdown",
   "metadata": {},
   "source": [
    "## Importing libraries"
   ]
  },
  {
   "cell_type": "code",
   "execution_count": 489,
   "metadata": {},
   "outputs": [],
   "source": [
    "import pandas as pd\n",
    "import numpy as np\n",
    "\n",
    "#Libraries for visualization\n",
    "import matplotlib.pyplot as plt \n",
    "import seaborn as sns\n",
    "\n",
    "import cufflinks as cf\n",
    "\n",
    "from plotly import __version__\n",
    "from plotly.offline import download_plotlyjs, init_notebook_mode, plot, iplot\n",
    "\n",
    "from scipy.interpolate import make_interp_spline, BSpline\n",
    "\n",
    "%matplotlib inline"
   ]
  },
  {
   "cell_type": "markdown",
   "metadata": {},
   "source": [
    "## Importing COVID-19 glibal data from the git repository"
   ]
  },
  {
   "cell_type": "code",
   "execution_count": 491,
   "metadata": {},
   "outputs": [],
   "source": [
    "covid_data = pd.read_csv('https://raw.githubusercontent.com/datasets/covid-19/master/data/time-series-19-covid-combined.csv')"
   ]
  },
  {
   "cell_type": "code",
   "execution_count": 498,
   "metadata": {},
   "outputs": [
    {
     "data": {
      "text/html": [
       "<div>\n",
       "<style scoped>\n",
       "    .dataframe tbody tr th:only-of-type {\n",
       "        vertical-align: middle;\n",
       "    }\n",
       "\n",
       "    .dataframe tbody tr th {\n",
       "        vertical-align: top;\n",
       "    }\n",
       "\n",
       "    .dataframe thead th {\n",
       "        text-align: right;\n",
       "    }\n",
       "</style>\n",
       "<table border=\"1\" class=\"dataframe\">\n",
       "  <thead>\n",
       "    <tr style=\"text-align: right;\">\n",
       "      <th></th>\n",
       "      <th>Date</th>\n",
       "      <th>Country/Region</th>\n",
       "      <th>Province/State</th>\n",
       "      <th>Lat</th>\n",
       "      <th>Long</th>\n",
       "      <th>Confirmed</th>\n",
       "      <th>Recovered</th>\n",
       "      <th>Deaths</th>\n",
       "    </tr>\n",
       "  </thead>\n",
       "  <tbody>\n",
       "    <tr>\n",
       "      <th>29035</th>\n",
       "      <td>2020-05-19</td>\n",
       "      <td>US</td>\n",
       "      <td>NaN</td>\n",
       "      <td>37.0902</td>\n",
       "      <td>-95.7129</td>\n",
       "      <td>1528568.0</td>\n",
       "      <td>289392.0</td>\n",
       "      <td>91921.0</td>\n",
       "    </tr>\n",
       "    <tr>\n",
       "      <th>24989</th>\n",
       "      <td>2020-05-19</td>\n",
       "      <td>Russia</td>\n",
       "      <td>NaN</td>\n",
       "      <td>60.0000</td>\n",
       "      <td>90.0000</td>\n",
       "      <td>299941.0</td>\n",
       "      <td>76130.0</td>\n",
       "      <td>2837.0</td>\n",
       "    </tr>\n",
       "    <tr>\n",
       "      <th>3688</th>\n",
       "      <td>2020-05-19</td>\n",
       "      <td>Brazil</td>\n",
       "      <td>NaN</td>\n",
       "      <td>-14.2350</td>\n",
       "      <td>-51.9253</td>\n",
       "      <td>271885.0</td>\n",
       "      <td>106794.0</td>\n",
       "      <td>17983.0</td>\n",
       "    </tr>\n",
       "    <tr>\n",
       "      <th>29511</th>\n",
       "      <td>2020-05-19</td>\n",
       "      <td>United Kingdom</td>\n",
       "      <td>NaN</td>\n",
       "      <td>55.3781</td>\n",
       "      <td>-3.4360</td>\n",
       "      <td>248818.0</td>\n",
       "      <td>0.0</td>\n",
       "      <td>35341.0</td>\n",
       "    </tr>\n",
       "    <tr>\n",
       "      <th>27131</th>\n",
       "      <td>2020-05-19</td>\n",
       "      <td>Spain</td>\n",
       "      <td>NaN</td>\n",
       "      <td>40.0000</td>\n",
       "      <td>-4.0000</td>\n",
       "      <td>232037.0</td>\n",
       "      <td>0.0</td>\n",
       "      <td>27778.0</td>\n",
       "    </tr>\n",
       "  </tbody>\n",
       "</table>\n",
       "</div>"
      ],
      "text/plain": [
       "             Date  Country/Region Province/State      Lat     Long  Confirmed  \\\n",
       "29035  2020-05-19              US            NaN  37.0902 -95.7129  1528568.0   \n",
       "24989  2020-05-19          Russia            NaN  60.0000  90.0000   299941.0   \n",
       "3688   2020-05-19          Brazil            NaN -14.2350 -51.9253   271885.0   \n",
       "29511  2020-05-19  United Kingdom            NaN  55.3781  -3.4360   248818.0   \n",
       "27131  2020-05-19           Spain            NaN  40.0000  -4.0000   232037.0   \n",
       "\n",
       "       Recovered   Deaths  \n",
       "29035   289392.0  91921.0  \n",
       "24989    76130.0   2837.0  \n",
       "3688    106794.0  17983.0  \n",
       "29511        0.0  35341.0  \n",
       "27131        0.0  27778.0  "
      ]
     },
     "execution_count": 498,
     "metadata": {},
     "output_type": "execute_result"
    }
   ],
   "source": [
    "covid_data[covid_data['Date'] == '2020-05-19'].sort_values('Confirmed',ascending=False).head()"
   ]
  },
  {
   "cell_type": "markdown",
   "metadata": {},
   "source": [
    "## Exploratory data analysis"
   ]
  },
  {
   "cell_type": "markdown",
   "metadata": {},
   "source": [
    "Dataset contains data as as per province and state as well, removing those data will give us country wise count.\n",
    "Fetching the the current date count will give the latest summed globel data "
   ]
  },
  {
   "cell_type": "code",
   "execution_count": 501,
   "metadata": {},
   "outputs": [],
   "source": [
    "temp = covid_data[covid_data['Province/State'].isnull()]"
   ]
  },
  {
   "cell_type": "code",
   "execution_count": 502,
   "metadata": {},
   "outputs": [],
   "source": [
    "df_countries = temp[temp['Date'] == '2020-05-19'].sort_values('Confirmed',ascending=False)"
   ]
  },
  {
   "cell_type": "code",
   "execution_count": 503,
   "metadata": {},
   "outputs": [],
   "source": [
    "df_countries = covid_data[covid_data['Date'] == '2020-05-19'].sort_values('Confirmed',ascending=False)"
   ]
  },
  {
   "cell_type": "code",
   "execution_count": 504,
   "metadata": {},
   "outputs": [
    {
     "data": {
      "text/html": [
       "<div>\n",
       "<style scoped>\n",
       "    .dataframe tbody tr th:only-of-type {\n",
       "        vertical-align: middle;\n",
       "    }\n",
       "\n",
       "    .dataframe tbody tr th {\n",
       "        vertical-align: top;\n",
       "    }\n",
       "\n",
       "    .dataframe thead th {\n",
       "        text-align: right;\n",
       "    }\n",
       "</style>\n",
       "<table border=\"1\" class=\"dataframe\">\n",
       "  <thead>\n",
       "    <tr style=\"text-align: right;\">\n",
       "      <th></th>\n",
       "      <th>Date</th>\n",
       "      <th>Country/Region</th>\n",
       "      <th>Province/State</th>\n",
       "      <th>Lat</th>\n",
       "      <th>Long</th>\n",
       "      <th>Confirmed</th>\n",
       "      <th>Recovered</th>\n",
       "      <th>Deaths</th>\n",
       "    </tr>\n",
       "  </thead>\n",
       "  <tbody>\n",
       "    <tr>\n",
       "      <th>29035</th>\n",
       "      <td>2020-05-19</td>\n",
       "      <td>US</td>\n",
       "      <td>NaN</td>\n",
       "      <td>37.0902</td>\n",
       "      <td>-95.7129</td>\n",
       "      <td>1528568.0</td>\n",
       "      <td>289392.0</td>\n",
       "      <td>91921.0</td>\n",
       "    </tr>\n",
       "    <tr>\n",
       "      <th>24989</th>\n",
       "      <td>2020-05-19</td>\n",
       "      <td>Russia</td>\n",
       "      <td>NaN</td>\n",
       "      <td>60.0000</td>\n",
       "      <td>90.0000</td>\n",
       "      <td>299941.0</td>\n",
       "      <td>76130.0</td>\n",
       "      <td>2837.0</td>\n",
       "    </tr>\n",
       "    <tr>\n",
       "      <th>3688</th>\n",
       "      <td>2020-05-19</td>\n",
       "      <td>Brazil</td>\n",
       "      <td>NaN</td>\n",
       "      <td>-14.2350</td>\n",
       "      <td>-51.9253</td>\n",
       "      <td>271885.0</td>\n",
       "      <td>106794.0</td>\n",
       "      <td>17983.0</td>\n",
       "    </tr>\n",
       "    <tr>\n",
       "      <th>29511</th>\n",
       "      <td>2020-05-19</td>\n",
       "      <td>United Kingdom</td>\n",
       "      <td>NaN</td>\n",
       "      <td>55.3781</td>\n",
       "      <td>-3.4360</td>\n",
       "      <td>248818.0</td>\n",
       "      <td>0.0</td>\n",
       "      <td>35341.0</td>\n",
       "    </tr>\n",
       "    <tr>\n",
       "      <th>27131</th>\n",
       "      <td>2020-05-19</td>\n",
       "      <td>Spain</td>\n",
       "      <td>NaN</td>\n",
       "      <td>40.0000</td>\n",
       "      <td>-4.0000</td>\n",
       "      <td>232037.0</td>\n",
       "      <td>0.0</td>\n",
       "      <td>27778.0</td>\n",
       "    </tr>\n",
       "  </tbody>\n",
       "</table>\n",
       "</div>"
      ],
      "text/plain": [
       "             Date  Country/Region Province/State      Lat     Long  Confirmed  \\\n",
       "29035  2020-05-19              US            NaN  37.0902 -95.7129  1528568.0   \n",
       "24989  2020-05-19          Russia            NaN  60.0000  90.0000   299941.0   \n",
       "3688   2020-05-19          Brazil            NaN -14.2350 -51.9253   271885.0   \n",
       "29511  2020-05-19  United Kingdom            NaN  55.3781  -3.4360   248818.0   \n",
       "27131  2020-05-19           Spain            NaN  40.0000  -4.0000   232037.0   \n",
       "\n",
       "       Recovered   Deaths  \n",
       "29035   289392.0  91921.0  \n",
       "24989    76130.0   2837.0  \n",
       "3688    106794.0  17983.0  \n",
       "29511        0.0  35341.0  \n",
       "27131        0.0  27778.0  "
      ]
     },
     "execution_count": 504,
     "metadata": {},
     "output_type": "execute_result"
    }
   ],
   "source": [
    "df_countries.head()"
   ]
  },
  {
   "cell_type": "code",
   "execution_count": 506,
   "metadata": {},
   "outputs": [],
   "source": [
    "#Remove unneccesary columns"
   ]
  },
  {
   "cell_type": "code",
   "execution_count": 507,
   "metadata": {},
   "outputs": [],
   "source": [
    "df_countries.drop(['Long','Lat','Province/State'],axis=1,inplace=True)"
   ]
  },
  {
   "cell_type": "code",
   "execution_count": 508,
   "metadata": {},
   "outputs": [],
   "source": [
    "df_countries.set_index('Country/Region',inplace=True)"
   ]
  },
  {
   "cell_type": "code",
   "execution_count": 509,
   "metadata": {},
   "outputs": [],
   "source": [
    "df_countries_10 = df_countries.head(10)"
   ]
  },
  {
   "cell_type": "code",
   "execution_count": 510,
   "metadata": {},
   "outputs": [
    {
     "data": {
      "text/html": [
       "<style  type=\"text/css\" >\n",
       "    #T_449bcc9a_9aef_11ea_a932_b0c09024592brow0_col1 {\n",
       "            background-color:  #08306b;\n",
       "            color:  #f1f1f1;\n",
       "        }    #T_449bcc9a_9aef_11ea_a932_b0c09024592brow0_col2 {\n",
       "            background-color:  #08306b;\n",
       "            color:  #f1f1f1;\n",
       "        }    #T_449bcc9a_9aef_11ea_a932_b0c09024592brow0_col3 {\n",
       "            background-color:  #08306b;\n",
       "            color:  #f1f1f1;\n",
       "        }    #T_449bcc9a_9aef_11ea_a932_b0c09024592brow1_col1 {\n",
       "            background-color:  #edf4fc;\n",
       "            color:  #000000;\n",
       "        }    #T_449bcc9a_9aef_11ea_a932_b0c09024592brow1_col2 {\n",
       "            background-color:  #c2d9ee;\n",
       "            color:  #000000;\n",
       "        }    #T_449bcc9a_9aef_11ea_a932_b0c09024592brow1_col3 {\n",
       "            background-color:  #f7fbff;\n",
       "            color:  #000000;\n",
       "        }    #T_449bcc9a_9aef_11ea_a932_b0c09024592brow2_col1 {\n",
       "            background-color:  #f2f7fd;\n",
       "            color:  #000000;\n",
       "        }    #T_449bcc9a_9aef_11ea_a932_b0c09024592brow2_col2 {\n",
       "            background-color:  #a0cbe2;\n",
       "            color:  #000000;\n",
       "        }    #T_449bcc9a_9aef_11ea_a932_b0c09024592brow2_col3 {\n",
       "            background-color:  #d6e5f4;\n",
       "            color:  #000000;\n",
       "        }    #T_449bcc9a_9aef_11ea_a932_b0c09024592brow3_col1 {\n",
       "            background-color:  #f5f9fe;\n",
       "            color:  #000000;\n",
       "        }    #T_449bcc9a_9aef_11ea_a932_b0c09024592brow3_col2 {\n",
       "            background-color:  #f7fbff;\n",
       "            color:  #000000;\n",
       "        }    #T_449bcc9a_9aef_11ea_a932_b0c09024592brow3_col3 {\n",
       "            background-color:  #a1cbe2;\n",
       "            color:  #000000;\n",
       "        }    #T_449bcc9a_9aef_11ea_a932_b0c09024592brow4_col1 {\n",
       "            background-color:  #f7fbff;\n",
       "            color:  #000000;\n",
       "        }    #T_449bcc9a_9aef_11ea_a932_b0c09024592brow4_col2 {\n",
       "            background-color:  #f7fbff;\n",
       "            color:  #000000;\n",
       "        }    #T_449bcc9a_9aef_11ea_a932_b0c09024592brow4_col3 {\n",
       "            background-color:  #bdd7ec;\n",
       "            color:  #000000;\n",
       "        }</style><table id=\"T_449bcc9a_9aef_11ea_a932_b0c09024592b\" ><thead>    <tr>        <th class=\"blank level0\" ></th>        <th class=\"col_heading level0 col0\" >Date</th>        <th class=\"col_heading level0 col1\" >Confirmed</th>        <th class=\"col_heading level0 col2\" >Recovered</th>        <th class=\"col_heading level0 col3\" >Deaths</th>    </tr>    <tr>        <th class=\"index_name level0\" >Country/Region</th>        <th class=\"blank\" ></th>        <th class=\"blank\" ></th>        <th class=\"blank\" ></th>        <th class=\"blank\" ></th>    </tr></thead><tbody>\n",
       "                <tr>\n",
       "                        <th id=\"T_449bcc9a_9aef_11ea_a932_b0c09024592blevel0_row0\" class=\"row_heading level0 row0\" >US</th>\n",
       "                        <td id=\"T_449bcc9a_9aef_11ea_a932_b0c09024592brow0_col0\" class=\"data row0 col0\" >2020-05-19</td>\n",
       "                        <td id=\"T_449bcc9a_9aef_11ea_a932_b0c09024592brow0_col1\" class=\"data row0 col1\" >1.52857e+06</td>\n",
       "                        <td id=\"T_449bcc9a_9aef_11ea_a932_b0c09024592brow0_col2\" class=\"data row0 col2\" >289392</td>\n",
       "                        <td id=\"T_449bcc9a_9aef_11ea_a932_b0c09024592brow0_col3\" class=\"data row0 col3\" >91921</td>\n",
       "            </tr>\n",
       "            <tr>\n",
       "                        <th id=\"T_449bcc9a_9aef_11ea_a932_b0c09024592blevel0_row1\" class=\"row_heading level0 row1\" >Russia</th>\n",
       "                        <td id=\"T_449bcc9a_9aef_11ea_a932_b0c09024592brow1_col0\" class=\"data row1 col0\" >2020-05-19</td>\n",
       "                        <td id=\"T_449bcc9a_9aef_11ea_a932_b0c09024592brow1_col1\" class=\"data row1 col1\" >299941</td>\n",
       "                        <td id=\"T_449bcc9a_9aef_11ea_a932_b0c09024592brow1_col2\" class=\"data row1 col2\" >76130</td>\n",
       "                        <td id=\"T_449bcc9a_9aef_11ea_a932_b0c09024592brow1_col3\" class=\"data row1 col3\" >2837</td>\n",
       "            </tr>\n",
       "            <tr>\n",
       "                        <th id=\"T_449bcc9a_9aef_11ea_a932_b0c09024592blevel0_row2\" class=\"row_heading level0 row2\" >Brazil</th>\n",
       "                        <td id=\"T_449bcc9a_9aef_11ea_a932_b0c09024592brow2_col0\" class=\"data row2 col0\" >2020-05-19</td>\n",
       "                        <td id=\"T_449bcc9a_9aef_11ea_a932_b0c09024592brow2_col1\" class=\"data row2 col1\" >271885</td>\n",
       "                        <td id=\"T_449bcc9a_9aef_11ea_a932_b0c09024592brow2_col2\" class=\"data row2 col2\" >106794</td>\n",
       "                        <td id=\"T_449bcc9a_9aef_11ea_a932_b0c09024592brow2_col3\" class=\"data row2 col3\" >17983</td>\n",
       "            </tr>\n",
       "            <tr>\n",
       "                        <th id=\"T_449bcc9a_9aef_11ea_a932_b0c09024592blevel0_row3\" class=\"row_heading level0 row3\" >United Kingdom</th>\n",
       "                        <td id=\"T_449bcc9a_9aef_11ea_a932_b0c09024592brow3_col0\" class=\"data row3 col0\" >2020-05-19</td>\n",
       "                        <td id=\"T_449bcc9a_9aef_11ea_a932_b0c09024592brow3_col1\" class=\"data row3 col1\" >248818</td>\n",
       "                        <td id=\"T_449bcc9a_9aef_11ea_a932_b0c09024592brow3_col2\" class=\"data row3 col2\" >0</td>\n",
       "                        <td id=\"T_449bcc9a_9aef_11ea_a932_b0c09024592brow3_col3\" class=\"data row3 col3\" >35341</td>\n",
       "            </tr>\n",
       "            <tr>\n",
       "                        <th id=\"T_449bcc9a_9aef_11ea_a932_b0c09024592blevel0_row4\" class=\"row_heading level0 row4\" >Spain</th>\n",
       "                        <td id=\"T_449bcc9a_9aef_11ea_a932_b0c09024592brow4_col0\" class=\"data row4 col0\" >2020-05-19</td>\n",
       "                        <td id=\"T_449bcc9a_9aef_11ea_a932_b0c09024592brow4_col1\" class=\"data row4 col1\" >232037</td>\n",
       "                        <td id=\"T_449bcc9a_9aef_11ea_a932_b0c09024592brow4_col2\" class=\"data row4 col2\" >0</td>\n",
       "                        <td id=\"T_449bcc9a_9aef_11ea_a932_b0c09024592brow4_col3\" class=\"data row4 col3\" >27778</td>\n",
       "            </tr>\n",
       "    </tbody></table>"
      ],
      "text/plain": [
       "<pandas.io.formats.style.Styler at 0x1d5bd28ae48>"
      ]
     },
     "execution_count": 510,
     "metadata": {},
     "output_type": "execute_result"
    }
   ],
   "source": [
    "df_countries_10.head().style.background_gradient(cmap='Blues')"
   ]
  },
  {
   "cell_type": "markdown",
   "metadata": {},
   "source": [
    "## Visualizing covid-19 global data"
   ]
  },
  {
   "cell_type": "code",
   "execution_count": 552,
   "metadata": {},
   "outputs": [
    {
     "data": {
      "image/png": "[encoded data removed]",
      "text/plain": [
       "<Figure size 1080x504 with 1 Axes>"
      ]
     },
     "metadata": {
      "needs_background": "light"
     },
     "output_type": "display_data"
    }
   ],
   "source": [
    "plt.figure(figsize=(15,7))\n",
    "plt.barh(df_countries_10['Confirmed'].sort_values().index,df_countries_10['Confirmed'].sort_values().values,data=df)\n",
    "\n",
    "plt.tick_params(size=10,labelsize = 18)\n",
    "plt.xlabel(\"Confirmed cases in millions\",fontsize=18)\n",
    "plt.title(\"Top 10 Countries (Confirmed Cases)\",fontsize=20)\n",
    "plt.grid(alpha=0.3)\n",
    "plt.savefig('Confirmed_cases.png')"
   ]
  },
  {
   "cell_type": "code",
   "execution_count": null,
   "metadata": {},
   "outputs": [],
   "source": []
  },
  {
   "cell_type": "code",
   "execution_count": 550,
   "metadata": {},
   "outputs": [
    {
     "data": {
      "image/png": "[encoded data removed]",
      "text/plain": [
       "<Figure size 1080x360 with 1 Axes>"
      ]
     },
     "metadata": {
      "needs_background": "light"
     },
     "output_type": "display_data"
    }
   ],
   "source": [
    "plt.figure(figsize=(15,7))\n",
    "plt.barh(df_countries_10['Deaths'].sort_values().index,df_countries_10['Deaths'].sort_values().values,data=df)\n",
    "\n",
    "plt.tick_params(size=10,labelsize = 18)\n",
    "plt.xlabel(\"Total Deaths\",fontsize=18)\n",
    "plt.title(\"Top 10 Countries total deaths\",fontsize=20)\n",
    "plt.grid(alpha=0.3)\n",
    "plt.savefig('Total_Deaths.png')"
   ]
  },
  {
   "cell_type": "code",
   "execution_count": null,
   "metadata": {},
   "outputs": [],
   "source": []
  },
  {
   "cell_type": "code",
   "execution_count": 549,
   "metadata": {},
   "outputs": [
    {
     "data": {
      "image/png": "[encoded data removed]",
      "text/plain": [
       "<Figure size 1080x504 with 1 Axes>"
      ]
     },
     "metadata": {
      "needs_background": "light"
     },
     "output_type": "display_data"
    }
   ],
   "source": [
    "plt.figure(figsize=(15,7))\n",
    "plt.barh(df_countries_10['Recovered'].sort_values().index,df_countries_10['Recovered'].sort_values().values,data=df)\n",
    "\n",
    "plt.tick_params(size=10,labelsize = 18)\n",
    "plt.xlabel(\"Total Recoveries\",fontsize=18)\n",
    "plt.title(\"Top 10 Countries total recoveries\",fontsize=20)\n",
    "plt.grid(alpha=0.3)\n",
    "plt.savefig('Total_Recoveries.png')"
   ]
  },
  {
   "cell_type": "code",
   "execution_count": null,
   "metadata": {},
   "outputs": [],
   "source": []
  },
  {
   "cell_type": "code",
   "execution_count": 516,
   "metadata": {},
   "outputs": [
    {
     "data": {
      "text/html": [
       "<style  type=\"text/css\" >\n",
       "    #T_72ce438a_9aef_11ea_b582_b0c09024592brow0_col0 {\n",
       "            background-color:  #67000d;\n",
       "            color:  #f1f1f1;\n",
       "        }    #T_72ce438a_9aef_11ea_b582_b0c09024592brow0_col1 {\n",
       "            background-color:  #fb7656;\n",
       "            color:  #000000;\n",
       "        }    #T_72ce438a_9aef_11ea_b582_b0c09024592brow0_col2 {\n",
       "            background-color:  #c5171c;\n",
       "            color:  #f1f1f1;\n",
       "        }    #T_72ce438a_9aef_11ea_b582_b0c09024592brow1_col0 {\n",
       "            background-color:  #fff5f0;\n",
       "            color:  #000000;\n",
       "        }    #T_72ce438a_9aef_11ea_b582_b0c09024592brow1_col1 {\n",
       "            background-color:  #67000d;\n",
       "            color:  #f1f1f1;\n",
       "        }    #T_72ce438a_9aef_11ea_b582_b0c09024592brow1_col2 {\n",
       "            background-color:  #fff5f0;\n",
       "            color:  #000000;\n",
       "        }    #T_72ce438a_9aef_11ea_b582_b0c09024592brow2_col0 {\n",
       "            background-color:  #f5523a;\n",
       "            color:  #000000;\n",
       "        }    #T_72ce438a_9aef_11ea_b582_b0c09024592brow2_col1 {\n",
       "            background-color:  #fff5f0;\n",
       "            color:  #000000;\n",
       "        }    #T_72ce438a_9aef_11ea_b582_b0c09024592brow2_col2 {\n",
       "            background-color:  #67000d;\n",
       "            color:  #f1f1f1;\n",
       "        }</style><table id=\"T_72ce438a_9aef_11ea_b582_b0c09024592b\" ><thead>    <tr>        <th class=\"blank level0\" ></th>        <th class=\"col_heading level0 col0\" >Confirmed</th>        <th class=\"col_heading level0 col1\" >Recovered</th>        <th class=\"col_heading level0 col2\" >Deaths</th>    </tr></thead><tbody>\n",
       "                <tr>\n",
       "                        <th id=\"T_72ce438a_9aef_11ea_b582_b0c09024592blevel0_row0\" class=\"row_heading level0 row0\" >Confirmed</th>\n",
       "                        <td id=\"T_72ce438a_9aef_11ea_b582_b0c09024592brow0_col0\" class=\"data row0 col0\" >1</td>\n",
       "                        <td id=\"T_72ce438a_9aef_11ea_b582_b0c09024592brow0_col1\" class=\"data row0 col1\" >0.757063</td>\n",
       "                        <td id=\"T_72ce438a_9aef_11ea_b582_b0c09024592brow0_col2\" class=\"data row0 col2\" >0.894041</td>\n",
       "            </tr>\n",
       "            <tr>\n",
       "                        <th id=\"T_72ce438a_9aef_11ea_b582_b0c09024592blevel0_row1\" class=\"row_heading level0 row1\" >Recovered</th>\n",
       "                        <td id=\"T_72ce438a_9aef_11ea_b582_b0c09024592brow1_col0\" class=\"data row1 col0\" >0.757063</td>\n",
       "                        <td id=\"T_72ce438a_9aef_11ea_b582_b0c09024592brow1_col1\" class=\"data row1 col1\" >1</td>\n",
       "                        <td id=\"T_72ce438a_9aef_11ea_b582_b0c09024592brow1_col2\" class=\"data row1 col2\" >0.547514</td>\n",
       "            </tr>\n",
       "            <tr>\n",
       "                        <th id=\"T_72ce438a_9aef_11ea_b582_b0c09024592blevel0_row2\" class=\"row_heading level0 row2\" >Deaths</th>\n",
       "                        <td id=\"T_72ce438a_9aef_11ea_b582_b0c09024592brow2_col0\" class=\"data row2 col0\" >0.894041</td>\n",
       "                        <td id=\"T_72ce438a_9aef_11ea_b582_b0c09024592brow2_col1\" class=\"data row2 col1\" >0.547514</td>\n",
       "                        <td id=\"T_72ce438a_9aef_11ea_b582_b0c09024592brow2_col2\" class=\"data row2 col2\" >1</td>\n",
       "            </tr>\n",
       "    </tbody></table>"
      ],
      "text/plain": [
       "<pandas.io.formats.style.Styler at 0x1d5cc99f5c0>"
      ]
     },
     "execution_count": 516,
     "metadata": {},
     "output_type": "execute_result"
    }
   ],
   "source": [
    "df_countries_10.corr().style.background_gradient(cmap='Reds')"
   ]
  },
  {
   "cell_type": "code",
   "execution_count": null,
   "metadata": {},
   "outputs": [],
   "source": []
  },
  {
   "cell_type": "code",
   "execution_count": 553,
   "metadata": {},
   "outputs": [
    {
     "data": {
      "text/html": [
       "        <script type=\"text/javascript\">\n",
       "        window.PlotlyConfig = {MathJaxConfig: 'local'};\n",
       "        if (window.MathJax) {MathJax.Hub.Config({SVG: {font: \"STIX-Web\"}});}\n",
       "        if (typeof require !== 'undefined') {\n",
       "        require.undef(\"plotly\");\n",
       "        requirejs.config({\n",
       "            paths: {\n",
       "                'plotly': ['https://cdn.plot.ly/plotly-latest.min']\n",
       "            }\n",
       "        });\n",
       "        require(['plotly'], function(Plotly) {\n",
       "            window._Plotly = Plotly;\n",
       "        });\n",
       "        }\n",
       "        </script>\n",
       "        "
      ]
     },
     "metadata": {},
     "output_type": "display_data"
    },
    {
     "data": {
      "application/vnd.plotly.v1+json": {
       "config": {
        "linkText": "Export to plot.ly",
        "plotlyServerURL": "https://plot.ly",
        "showLink": true
       },
       "data": [
        {
         "line": {
          "color": "rgba(219, 64, 82, 1.0)",
          "dash": "solid",
          "shape": "linear",
          "width": 1.3
         },
         "mode": "lines",
         "name": "Confirmed",
         "text": "",
         "type": "scatter",
         "x": [
          "US",
          "Russia",
          "Brazil",
          "United Kingdom",
          "Spain",
          "Italy",
          "France",
          "Germany",
          "Turkey",
          "Iran"
         ],
         "y": [
          1528568,
          299941,
          271885,
          248818,
          232037,
          226699,
          178428,
          177778,
          151615,
          124603
         ]
        },
        {
         "line": {
          "color": "rgba(55, 128, 191, 1.0)",
          "dash": "solid",
          "shape": "linear",
          "width": 1.3
         },
         "mode": "lines",
         "name": "Deaths",
         "text": "",
         "type": "scatter",
         "x": [
          "US",
          "Russia",
          "Brazil",
          "United Kingdom",
          "Spain",
          "Italy",
          "France",
          "Germany",
          "Turkey",
          "Iran"
         ],
         "y": [
          91921,
          2837,
          17983,
          35341,
          27778,
          32169,
          27976,
          8081,
          4199,
          7119
         ]
        },
        {
         "line": {
          "color": "rgba(0, 128, 0, 1.0)",
          "dash": "solid",
          "shape": "linear",
          "width": 1.3
         },
         "mode": "lines",
         "name": "Recovered",
         "text": "",
         "type": "scatter",
         "x": [
          "US",
          "Russia",
          "Brazil",
          "United Kingdom",
          "Spain",
          "Italy",
          "France",
          "Germany",
          "Turkey",
          "Iran"
         ],
         "y": [
          289392,
          76130,
          106794,
          0,
          0,
          129401,
          61246,
          155681,
          112895,
          97173
         ]
        }
       ],
       "layout": {
        "legend": {
         "bgcolor": "#F5F6F9",
         "font": {
          "color": "#4D5663"
         }
        },
        "paper_bgcolor": "#F5F6F9",
        "plot_bgcolor": "#F5F6F9",
        "template": {
         "data": {
          "bar": [
           {
            "error_x": {
             "color": "#2a3f5f"
            },
            "error_y": {
             "color": "#2a3f5f"
            },
            "marker": {
             "line": {
              "color": "#E5ECF6",
              "width": 0.5
             }
            },
            "type": "bar"
           }
          ],
          "barpolar": [
           {
            "marker": {
             "line": {
              "color": "#E5ECF6",
              "width": 0.5
             }
            },
            "type": "barpolar"
           }
          ],
          "carpet": [
           {
            "aaxis": {
             "endlinecolor": "#2a3f5f",
             "gridcolor": "white",
             "linecolor": "white",
             "minorgridcolor": "white",
             "startlinecolor": "#2a3f5f"
            },
            "baxis": {
             "endlinecolor": "#2a3f5f",
             "gridcolor": "white",
             "linecolor": "white",
             "minorgridcolor": "white",
             "startlinecolor": "#2a3f5f"
            },
            "type": "carpet"
           }
          ],
          "choropleth": [
           {
            "colorbar": {
             "outlinewidth": 0,
             "ticks": ""
            },
            "type": "choropleth"
           }
          ],
          "contour": [
           {
            "colorbar": {
             "outlinewidth": 0,
             "ticks": ""
            },
            "colorscale": [
             [
              0,
              "#0d0887"
             ],
             [
              0.1111111111111111,
              "#46039f"
             ],
             [
              0.2222222222222222,
              "#7201a8"
             ],
             [
              0.3333333333333333,
              "#9c179e"
             ],
             [
              0.4444444444444444,
              "#bd3786"
             ],
             [
              0.5555555555555556,
              "#d8576b"
             ],
             [
              0.6666666666666666,
              "#ed7953"
             ],
             [
              0.7777777777777778,
              "#fb9f3a"
             ],
             [
              0.8888888888888888,
              "#fdca26"
             ],
             [
              1,
              "#f0f921"
             ]
            ],
            "type": "contour"
           }
          ],
          "contourcarpet": [
           {
            "colorbar": {
             "outlinewidth": 0,
             "ticks": ""
            },
            "type": "contourcarpet"
           }
          ],
          "heatmap": [
           {
            "colorbar": {
             "outlinewidth": 0,
             "ticks": ""
            },
            "colorscale": [
             [
              0,
              "#0d0887"
             ],
             [
              0.1111111111111111,
              "#46039f"
             ],
             [
              0.2222222222222222,
              "#7201a8"
             ],
             [
              0.3333333333333333,
              "#9c179e"
             ],
             [
              0.4444444444444444,
              "#bd3786"
             ],
             [
              0.5555555555555556,
              "#d8576b"
             ],
             [
              0.6666666666666666,
              "#ed7953"
             ],
             [
              0.7777777777777778,
              "#fb9f3a"
             ],
             [
              0.8888888888888888,
              "#fdca26"
             ],
             [
              1,
              "#f0f921"
             ]
            ],
            "type": "heatmap"
           }
          ],
          "heatmapgl": [
           {
            "colorbar": {
             "outlinewidth": 0,
             "ticks": ""
            },
            "colorscale": [
             [
              0,
              "#0d0887"
             ],
             [
              0.1111111111111111,
              "#46039f"
             ],
             [
              0.2222222222222222,
              "#7201a8"
             ],
             [
              0.3333333333333333,
              "#9c179e"
             ],
             [
              0.4444444444444444,
              "#bd3786"
             ],
             [
              0.5555555555555556,
              "#d8576b"
             ],
             [
              0.6666666666666666,
              "#ed7953"
             ],
             [
              0.7777777777777778,
              "#fb9f3a"
             ],
             [
              0.8888888888888888,
              "#fdca26"
             ],
             [
              1,
              "#f0f921"
             ]
            ],
            "type": "heatmapgl"
           }
          ],
          "histogram": [
           {
            "marker": {
             "colorbar": {
              "outlinewidth": 0,
              "ticks": ""
             }
            },
            "type": "histogram"
           }
          ],
          "histogram2d": [
           {
            "colorbar": {
             "outlinewidth": 0,
             "ticks": ""
            },
            "colorscale": [
             [
              0,
              "#0d0887"
             ],
             [
              0.1111111111111111,
              "#46039f"
             ],
             [
              0.2222222222222222,
              "#7201a8"
             ],
             [
              0.3333333333333333,
              "#9c179e"
             ],
             [
              0.4444444444444444,
              "#bd3786"
             ],
             [
              0.5555555555555556,
              "#d8576b"
             ],
             [
              0.6666666666666666,
              "#ed7953"
             ],
             [
              0.7777777777777778,
              "#fb9f3a"
             ],
             [
              0.8888888888888888,
              "#fdca26"
             ],
             [
              1,
              "#f0f921"
             ]
            ],
            "type": "histogram2d"
           }
          ],
          "histogram2dcontour": [
           {
            "colorbar": {
             "outlinewidth": 0,
             "ticks": ""
            },
            "colorscale": [
             [
              0,
              "#0d0887"
             ],
             [
              0.1111111111111111,
              "#46039f"
             ],
             [
              0.2222222222222222,
              "#7201a8"
             ],
             [
              0.3333333333333333,
              "#9c179e"
             ],
             [
              0.4444444444444444,
              "#bd3786"
             ],
             [
              0.5555555555555556,
              "#d8576b"
             ],
             [
              0.6666666666666666,
              "#ed7953"
             ],
             [
              0.7777777777777778,
              "#fb9f3a"
             ],
             [
              0.8888888888888888,
              "#fdca26"
             ],
             [
              1,
              "#f0f921"
             ]
            ],
            "type": "histogram2dcontour"
           }
          ],
          "mesh3d": [
           {
            "colorbar": {
             "outlinewidth": 0,
             "ticks": ""
            },
            "type": "mesh3d"
           }
          ],
          "parcoords": [
           {
            "line": {
             "colorbar": {
              "outlinewidth": 0,
              "ticks": ""
             }
            },
            "type": "parcoords"
           }
          ],
          "pie": [
           {
            "automargin": true,
            "type": "pie"
           }
          ],
          "scatter": [
           {
            "marker": {
             "colorbar": {
              "outlinewidth": 0,
              "ticks": ""
             }
            },
            "type": "scatter"
           }
          ],
          "scatter3d": [
           {
            "line": {
             "colorbar": {
              "outlinewidth": 0,
              "ticks": ""
             }
            },
            "marker": {
             "colorbar": {
              "outlinewidth": 0,
              "ticks": ""
             }
            },
            "type": "scatter3d"
           }
          ],
          "scattercarpet": [
           {
            "marker": {
             "colorbar": {
              "outlinewidth": 0,
              "ticks": ""
             }
            },
            "type": "scattercarpet"
           }
          ],
          "scattergeo": [
           {
            "marker": {
             "colorbar": {
              "outlinewidth": 0,
              "ticks": ""
             }
            },
            "type": "scattergeo"
           }
          ],
          "scattergl": [
           {
            "marker": {
             "colorbar": {
              "outlinewidth": 0,
              "ticks": ""
             }
            },
            "type": "scattergl"
           }
          ],
          "scattermapbox": [
           {
            "marker": {
             "colorbar": {
              "outlinewidth": 0,
              "ticks": ""
             }
            },
            "type": "scattermapbox"
           }
          ],
          "scatterpolar": [
           {
            "marker": {
             "colorbar": {
              "outlinewidth": 0,
              "ticks": ""
             }
            },
            "type": "scatterpolar"
           }
          ],
          "scatterpolargl": [
           {
            "marker": {
             "colorbar": {
              "outlinewidth": 0,
              "ticks": ""
             }
            },
            "type": "scatterpolargl"
           }
          ],
          "scatterternary": [
           {
            "marker": {
             "colorbar": {
              "outlinewidth": 0,
              "ticks": ""
             }
            },
            "type": "scatterternary"
           }
          ],
          "surface": [
           {
            "colorbar": {
             "outlinewidth": 0,
             "ticks": ""
            },
            "colorscale": [
             [
              0,
              "#0d0887"
             ],
             [
              0.1111111111111111,
              "#46039f"
             ],
             [
              0.2222222222222222,
              "#7201a8"
             ],
             [
              0.3333333333333333,
              "#9c179e"
             ],
             [
              0.4444444444444444,
              "#bd3786"
             ],
             [
              0.5555555555555556,
              "#d8576b"
             ],
             [
              0.6666666666666666,
              "#ed7953"
             ],
             [
              0.7777777777777778,
              "#fb9f3a"
             ],
             [
              0.8888888888888888,
              "#fdca26"
             ],
             [
              1,
              "#f0f921"
             ]
            ],
            "type": "surface"
           }
          ],
          "table": [
           {
            "cells": {
             "fill": {
              "color": "#EBF0F8"
             },
             "line": {
              "color": "white"
             }
            },
            "header": {
             "fill": {
              "color": "#C8D4E3"
             },
             "line": {
              "color": "white"
             }
            },
            "type": "table"
           }
          ]
         },
         "layout": {
          "annotationdefaults": {
           "arrowcolor": "#2a3f5f",
           "arrowhead": 0,
           "arrowwidth": 1
          },
          "coloraxis": {
           "colorbar": {
            "outlinewidth": 0,
            "ticks": ""
           }
          },
          "colorscale": {
           "diverging": [
            [
             0,
             "#8e0152"
            ],
            [
             0.1,
             "#c51b7d"
            ],
            [
             0.2,
             "#de77ae"
            ],
            [
             0.3,
             "#f1b6da"
            ],
            [
             0.4,
             "#fde0ef"
            ],
            [
             0.5,
             "#f7f7f7"
            ],
            [
             0.6,
             "#e6f5d0"
            ],
            [
             0.7,
             "#b8e186"
            ],
            [
             0.8,
             "#7fbc41"
            ],
            [
             0.9,
             "#4d9221"
            ],
            [
             1,
             "#276419"
            ]
           ],
           "sequential": [
            [
             0,
             "#0d0887"
            ],
            [
             0.1111111111111111,
             "#46039f"
            ],
            [
             0.2222222222222222,
             "#7201a8"
            ],
            [
             0.3333333333333333,
             "#9c179e"
            ],
            [
             0.4444444444444444,
             "#bd3786"
            ],
            [
             0.5555555555555556,
             "#d8576b"
            ],
            [
             0.6666666666666666,
             "#ed7953"
            ],
            [
             0.7777777777777778,
             "#fb9f3a"
            ],
            [
             0.8888888888888888,
             "#fdca26"
            ],
            [
             1,
             "#f0f921"
            ]
           ],
           "sequentialminus": [
            [
             0,
             "#0d0887"
            ],
            [
             0.1111111111111111,
             "#46039f"
            ],
            [
             0.2222222222222222,
             "#7201a8"
            ],
            [
             0.3333333333333333,
             "#9c179e"
            ],
            [
             0.4444444444444444,
             "#bd3786"
            ],
            [
             0.5555555555555556,
             "#d8576b"
            ],
            [
             0.6666666666666666,
             "#ed7953"
            ],
            [
             0.7777777777777778,
             "#fb9f3a"
            ],
            [
             0.8888888888888888,
             "#fdca26"
            ],
            [
             1,
             "#f0f921"
            ]
           ]
          },
          "colorway": [
           "#636efa",
           "#EF553B",
           "#00cc96",
           "#ab63fa",
           "#FFA15A",
           "#19d3f3",
           "#FF6692",
           "#B6E880",
           "#FF97FF",
           "#FECB52"
          ],
          "font": {
           "color": "#2a3f5f"
          },
          "geo": {
           "bgcolor": "white",
           "lakecolor": "white",
           "landcolor": "#E5ECF6",
           "showlakes": true,
           "showland": true,
           "subunitcolor": "white"
          },
          "hoverlabel": {
           "align": "left"
          },
          "hovermode": "closest",
          "mapbox": {
           "style": "light"
          },
          "paper_bgcolor": "white",
          "plot_bgcolor": "#E5ECF6",
          "polar": {
           "angularaxis": {
            "gridcolor": "white",
            "linecolor": "white",
            "ticks": ""
           },
           "bgcolor": "#E5ECF6",
           "radialaxis": {
            "gridcolor": "white",
            "linecolor": "white",
            "ticks": ""
           }
          },
          "scene": {
           "xaxis": {
            "backgroundcolor": "#E5ECF6",
            "gridcolor": "white",
            "gridwidth": 2,
            "linecolor": "white",
            "showbackground": true,
            "ticks": "",
            "zerolinecolor": "white"
           },
           "yaxis": {
            "backgroundcolor": "#E5ECF6",
            "gridcolor": "white",
            "gridwidth": 2,
            "linecolor": "white",
            "showbackground": true,
            "ticks": "",
            "zerolinecolor": "white"
           },
           "zaxis": {
            "backgroundcolor": "#E5ECF6",
            "gridcolor": "white",
            "gridwidth": 2,
            "linecolor": "white",
            "showbackground": true,
            "ticks": "",
            "zerolinecolor": "white"
           }
          },
          "shapedefaults": {
           "line": {
            "color": "#2a3f5f"
           }
          },
          "ternary": {
           "aaxis": {
            "gridcolor": "white",
            "linecolor": "white",
            "ticks": ""
           },
           "baxis": {
            "gridcolor": "white",
            "linecolor": "white",
            "ticks": ""
           },
           "bgcolor": "#E5ECF6",
           "caxis": {
            "gridcolor": "white",
            "linecolor": "white",
            "ticks": ""
           }
          },
          "title": {
           "x": 0.05
          },
          "xaxis": {
           "automargin": true,
           "gridcolor": "white",
           "linecolor": "white",
           "ticks": "",
           "title": {
            "standoff": 15
           },
           "zerolinecolor": "white",
           "zerolinewidth": 2
          },
          "yaxis": {
           "automargin": true,
           "gridcolor": "white",
           "linecolor": "white",
           "ticks": "",
           "title": {
            "standoff": 15
           },
           "zerolinecolor": "white",
           "zerolinewidth": 2
          }
         }
        },
        "title": {
         "font": {
          "color": "#4D5663"
         },
         "text": "Top 10 countries comparision"
        },
        "xaxis": {
         "gridcolor": "Pink",
         "showgrid": true,
         "tickfont": {
          "color": "#4D5663"
         },
         "title": {
          "font": {
           "color": "#4D5663"
          },
          "text": "Country"
         },
         "zerolinecolor": "#E1E5ED"
        },
        "yaxis": {
         "gridcolor": "Pink",
         "showgrid": true,
         "tickfont": {
          "color": "#4D5663"
         },
         "title": {
          "font": {
           "color": "#4D5663"
          },
          "text": "Case Count"
         },
         "zerolinecolor": "#E1E5ED"
        }
       }
      },
      "text/html": [
       "<div>\n",
       "        \n",
       "        \n",
       "            <div id=\"5db7cbc4-a1e2-43d1-bd4c-4e967a5e0bab\" class=\"plotly-graph-div\" style=\"height:525px; width:100%;\"></div>\n",
       "            <script type=\"text/javascript\">\n",
       "                require([\"plotly\"], function(Plotly) {\n",
       "                    window.PLOTLYENV=window.PLOTLYENV || {};\n",
       "                    window.PLOTLYENV.BASE_URL='https://plot.ly';\n",
       "                    \n",
       "                if (document.getElementById(\"5db7cbc4-a1e2-43d1-bd4c-4e967a5e0bab\")) {\n",
       "                    Plotly.newPlot(\n",
       "                        '5db7cbc4-a1e2-43d1-bd4c-4e967a5e0bab',\n",
       "                        [{\"line\": {\"color\": \"rgba(219, 64, 82, 1.0)\", \"dash\": \"solid\", \"shape\": \"linear\", \"width\": 1.3}, \"mode\": \"lines\", \"name\": \"Confirmed\", \"text\": \"\", \"type\": \"scatter\", \"x\": [\"US\", \"Russia\", \"Brazil\", \"United Kingdom\", \"Spain\", \"Italy\", \"France\", \"Germany\", \"Turkey\", \"Iran\"], \"y\": [1528568.0, 299941.0, 271885.0, 248818.0, 232037.0, 226699.0, 178428.0, 177778.0, 151615.0, 124603.0]}, {\"line\": {\"color\": \"rgba(55, 128, 191, 1.0)\", \"dash\": \"solid\", \"shape\": \"linear\", \"width\": 1.3}, \"mode\": \"lines\", \"name\": \"Deaths\", \"text\": \"\", \"type\": \"scatter\", \"x\": [\"US\", \"Russia\", \"Brazil\", \"United Kingdom\", \"Spain\", \"Italy\", \"France\", \"Germany\", \"Turkey\", \"Iran\"], \"y\": [91921.0, 2837.0, 17983.0, 35341.0, 27778.0, 32169.0, 27976.0, 8081.0, 4199.0, 7119.0]}, {\"line\": {\"color\": \"rgba(0, 128, 0, 1.0)\", \"dash\": \"solid\", \"shape\": \"linear\", \"width\": 1.3}, \"mode\": \"lines\", \"name\": \"Recovered\", \"text\": \"\", \"type\": \"scatter\", \"x\": [\"US\", \"Russia\", \"Brazil\", \"United Kingdom\", \"Spain\", \"Italy\", \"France\", \"Germany\", \"Turkey\", \"Iran\"], \"y\": [289392.0, 76130.0, 106794.0, 0.0, 0.0, 129401.0, 61246.0, 155681.0, 112895.0, 97173.0]}],\n",
       "                        {\"legend\": {\"bgcolor\": \"#F5F6F9\", \"font\": {\"color\": \"#4D5663\"}}, \"paper_bgcolor\": \"#F5F6F9\", \"plot_bgcolor\": \"#F5F6F9\", \"template\": {\"data\": {\"bar\": [{\"error_x\": {\"color\": \"#2a3f5f\"}, \"error_y\": {\"color\": \"#2a3f5f\"}, \"marker\": {\"line\": {\"color\": \"#E5ECF6\", \"width\": 0.5}}, \"type\": \"bar\"}], \"barpolar\": [{\"marker\": {\"line\": {\"color\": \"#E5ECF6\", \"width\": 0.5}}, \"type\": \"barpolar\"}], \"carpet\": [{\"aaxis\": {\"endlinecolor\": \"#2a3f5f\", \"gridcolor\": \"white\", \"linecolor\": \"white\", \"minorgridcolor\": \"white\", \"startlinecolor\": \"#2a3f5f\"}, \"baxis\": {\"endlinecolor\": \"#2a3f5f\", \"gridcolor\": \"white\", \"linecolor\": \"white\", \"minorgridcolor\": \"white\", \"startlinecolor\": \"#2a3f5f\"}, \"type\": \"carpet\"}], \"choropleth\": [{\"colorbar\": {\"outlinewidth\": 0, \"ticks\": \"\"}, \"type\": \"choropleth\"}], \"contour\": [{\"colorbar\": {\"outlinewidth\": 0, \"ticks\": \"\"}, \"colorscale\": [[0.0, \"#0d0887\"], [0.1111111111111111, \"#46039f\"], [0.2222222222222222, \"#7201a8\"], [0.3333333333333333, \"#9c179e\"], [0.4444444444444444, \"#bd3786\"], [0.5555555555555556, \"#d8576b\"], [0.6666666666666666, \"#ed7953\"], [0.7777777777777778, \"#fb9f3a\"], [0.8888888888888888, \"#fdca26\"], [1.0, \"#f0f921\"]], \"type\": \"contour\"}], \"contourcarpet\": [{\"colorbar\": {\"outlinewidth\": 0, \"ticks\": \"\"}, \"type\": \"contourcarpet\"}], \"heatmap\": [{\"colorbar\": {\"outlinewidth\": 0, \"ticks\": \"\"}, \"colorscale\": [[0.0, \"#0d0887\"], [0.1111111111111111, \"#46039f\"], [0.2222222222222222, \"#7201a8\"], [0.3333333333333333, \"#9c179e\"], [0.4444444444444444, \"#bd3786\"], [0.5555555555555556, \"#d8576b\"], [0.6666666666666666, \"#ed7953\"], [0.7777777777777778, \"#fb9f3a\"], [0.8888888888888888, \"#fdca26\"], [1.0, \"#f0f921\"]], \"type\": \"heatmap\"}], \"heatmapgl\": [{\"colorbar\": {\"outlinewidth\": 0, \"ticks\": \"\"}, \"colorscale\": [[0.0, \"#0d0887\"], [0.1111111111111111, \"#46039f\"], [0.2222222222222222, \"#7201a8\"], [0.3333333333333333, \"#9c179e\"], [0.4444444444444444, \"#bd3786\"], [0.5555555555555556, \"#d8576b\"], [0.6666666666666666, \"#ed7953\"], [0.7777777777777778, \"#fb9f3a\"], [0.8888888888888888, \"#fdca26\"], [1.0, \"#f0f921\"]], \"type\": \"heatmapgl\"}], \"histogram\": [{\"marker\": {\"colorbar\": {\"outlinewidth\": 0, \"ticks\": \"\"}}, \"type\": \"histogram\"}], \"histogram2d\": [{\"colorbar\": {\"outlinewidth\": 0, \"ticks\": \"\"}, \"colorscale\": [[0.0, \"#0d0887\"], [0.1111111111111111, \"#46039f\"], [0.2222222222222222, \"#7201a8\"], [0.3333333333333333, \"#9c179e\"], [0.4444444444444444, \"#bd3786\"], [0.5555555555555556, \"#d8576b\"], [0.6666666666666666, \"#ed7953\"], [0.7777777777777778, \"#fb9f3a\"], [0.8888888888888888, \"#fdca26\"], [1.0, \"#f0f921\"]], \"type\": \"histogram2d\"}], \"histogram2dcontour\": [{\"colorbar\": {\"outlinewidth\": 0, \"ticks\": \"\"}, \"colorscale\": [[0.0, \"#0d0887\"], [0.1111111111111111, \"#46039f\"], [0.2222222222222222, \"#7201a8\"], [0.3333333333333333, \"#9c179e\"], [0.4444444444444444, \"#bd3786\"], [0.5555555555555556, \"#d8576b\"], [0.6666666666666666, \"#ed7953\"], [0.7777777777777778, \"#fb9f3a\"], [0.8888888888888888, \"#fdca26\"], [1.0, \"#f0f921\"]], \"type\": \"histogram2dcontour\"}], \"mesh3d\": [{\"colorbar\": {\"outlinewidth\": 0, \"ticks\": \"\"}, \"type\": \"mesh3d\"}], \"parcoords\": [{\"line\": {\"colorbar\": {\"outlinewidth\": 0, \"ticks\": \"\"}}, \"type\": \"parcoords\"}], \"pie\": [{\"automargin\": true, \"type\": \"pie\"}], \"scatter\": [{\"marker\": {\"colorbar\": {\"outlinewidth\": 0, \"ticks\": \"\"}}, \"type\": \"scatter\"}], \"scatter3d\": [{\"line\": {\"colorbar\": {\"outlinewidth\": 0, \"ticks\": \"\"}}, \"marker\": {\"colorbar\": {\"outlinewidth\": 0, \"ticks\": \"\"}}, \"type\": \"scatter3d\"}], \"scattercarpet\": [{\"marker\": {\"colorbar\": {\"outlinewidth\": 0, \"ticks\": \"\"}}, \"type\": \"scattercarpet\"}], \"scattergeo\": [{\"marker\": {\"colorbar\": {\"outlinewidth\": 0, \"ticks\": \"\"}}, \"type\": \"scattergeo\"}], \"scattergl\": [{\"marker\": {\"colorbar\": {\"outlinewidth\": 0, \"ticks\": \"\"}}, \"type\": \"scattergl\"}], \"scattermapbox\": [{\"marker\": {\"colorbar\": {\"outlinewidth\": 0, \"ticks\": \"\"}}, \"type\": \"scattermapbox\"}], \"scatterpolar\": [{\"marker\": {\"colorbar\": {\"outlinewidth\": 0, \"ticks\": \"\"}}, \"type\": \"scatterpolar\"}], \"scatterpolargl\": [{\"marker\": {\"colorbar\": {\"outlinewidth\": 0, \"ticks\": \"\"}}, \"type\": \"scatterpolargl\"}], \"scatterternary\": [{\"marker\": {\"colorbar\": {\"outlinewidth\": 0, \"ticks\": \"\"}}, \"type\": \"scatterternary\"}], \"surface\": [{\"colorbar\": {\"outlinewidth\": 0, \"ticks\": \"\"}, \"colorscale\": [[0.0, \"#0d0887\"], [0.1111111111111111, \"#46039f\"], [0.2222222222222222, \"#7201a8\"], [0.3333333333333333, \"#9c179e\"], [0.4444444444444444, \"#bd3786\"], [0.5555555555555556, \"#d8576b\"], [0.6666666666666666, \"#ed7953\"], [0.7777777777777778, \"#fb9f3a\"], [0.8888888888888888, \"#fdca26\"], [1.0, \"#f0f921\"]], \"type\": \"surface\"}], \"table\": [{\"cells\": {\"fill\": {\"color\": \"#EBF0F8\"}, \"line\": {\"color\": \"white\"}}, \"header\": {\"fill\": {\"color\": \"#C8D4E3\"}, \"line\": {\"color\": \"white\"}}, \"type\": \"table\"}]}, \"layout\": {\"annotationdefaults\": {\"arrowcolor\": \"#2a3f5f\", \"arrowhead\": 0, \"arrowwidth\": 1}, \"coloraxis\": {\"colorbar\": {\"outlinewidth\": 0, \"ticks\": \"\"}}, \"colorscale\": {\"diverging\": [[0, \"#8e0152\"], [0.1, \"#c51b7d\"], [0.2, \"#de77ae\"], [0.3, \"#f1b6da\"], [0.4, \"#fde0ef\"], [0.5, \"#f7f7f7\"], [0.6, \"#e6f5d0\"], [0.7, \"#b8e186\"], [0.8, \"#7fbc41\"], [0.9, \"#4d9221\"], [1, \"#276419\"]], \"sequential\": [[0.0, \"#0d0887\"], [0.1111111111111111, \"#46039f\"], [0.2222222222222222, \"#7201a8\"], [0.3333333333333333, \"#9c179e\"], [0.4444444444444444, \"#bd3786\"], [0.5555555555555556, \"#d8576b\"], [0.6666666666666666, \"#ed7953\"], [0.7777777777777778, \"#fb9f3a\"], [0.8888888888888888, \"#fdca26\"], [1.0, \"#f0f921\"]], \"sequentialminus\": [[0.0, \"#0d0887\"], [0.1111111111111111, \"#46039f\"], [0.2222222222222222, \"#7201a8\"], [0.3333333333333333, \"#9c179e\"], [0.4444444444444444, \"#bd3786\"], [0.5555555555555556, \"#d8576b\"], [0.6666666666666666, \"#ed7953\"], [0.7777777777777778, \"#fb9f3a\"], [0.8888888888888888, \"#fdca26\"], [1.0, \"#f0f921\"]]}, \"colorway\": [\"#636efa\", \"#EF553B\", \"#00cc96\", \"#ab63fa\", \"#FFA15A\", \"#19d3f3\", \"#FF6692\", \"#B6E880\", \"#FF97FF\", \"#FECB52\"], \"font\": {\"color\": \"#2a3f5f\"}, \"geo\": {\"bgcolor\": \"white\", \"lakecolor\": \"white\", \"landcolor\": \"#E5ECF6\", \"showlakes\": true, \"showland\": true, \"subunitcolor\": \"white\"}, \"hoverlabel\": {\"align\": \"left\"}, \"hovermode\": \"closest\", \"mapbox\": {\"style\": \"light\"}, \"paper_bgcolor\": \"white\", \"plot_bgcolor\": \"#E5ECF6\", \"polar\": {\"angularaxis\": {\"gridcolor\": \"white\", \"linecolor\": \"white\", \"ticks\": \"\"}, \"bgcolor\": \"#E5ECF6\", \"radialaxis\": {\"gridcolor\": \"white\", \"linecolor\": \"white\", \"ticks\": \"\"}}, \"scene\": {\"xaxis\": {\"backgroundcolor\": \"#E5ECF6\", \"gridcolor\": \"white\", \"gridwidth\": 2, \"linecolor\": \"white\", \"showbackground\": true, \"ticks\": \"\", \"zerolinecolor\": \"white\"}, \"yaxis\": {\"backgroundcolor\": \"#E5ECF6\", \"gridcolor\": \"white\", \"gridwidth\": 2, \"linecolor\": \"white\", \"showbackground\": true, \"ticks\": \"\", \"zerolinecolor\": \"white\"}, \"zaxis\": {\"backgroundcolor\": \"#E5ECF6\", \"gridcolor\": \"white\", \"gridwidth\": 2, \"linecolor\": \"white\", \"showbackground\": true, \"ticks\": \"\", \"zerolinecolor\": \"white\"}}, \"shapedefaults\": {\"line\": {\"color\": \"#2a3f5f\"}}, \"ternary\": {\"aaxis\": {\"gridcolor\": \"white\", \"linecolor\": \"white\", \"ticks\": \"\"}, \"baxis\": {\"gridcolor\": \"white\", \"linecolor\": \"white\", \"ticks\": \"\"}, \"bgcolor\": \"#E5ECF6\", \"caxis\": {\"gridcolor\": \"white\", \"linecolor\": \"white\", \"ticks\": \"\"}}, \"title\": {\"x\": 0.05}, \"xaxis\": {\"automargin\": true, \"gridcolor\": \"white\", \"linecolor\": \"white\", \"ticks\": \"\", \"title\": {\"standoff\": 15}, \"zerolinecolor\": \"white\", \"zerolinewidth\": 2}, \"yaxis\": {\"automargin\": true, \"gridcolor\": \"white\", \"linecolor\": \"white\", \"ticks\": \"\", \"title\": {\"standoff\": 15}, \"zerolinecolor\": \"white\", \"zerolinewidth\": 2}}}, \"title\": {\"font\": {\"color\": \"#4D5663\"}, \"text\": \"Top 10 countries comparision\"}, \"xaxis\": {\"gridcolor\": \"Pink\", \"showgrid\": true, \"tickfont\": {\"color\": \"#4D5663\"}, \"title\": {\"font\": {\"color\": \"#4D5663\"}, \"text\": \"Country\"}, \"zerolinecolor\": \"#E1E5ED\"}, \"yaxis\": {\"gridcolor\": \"Pink\", \"showgrid\": true, \"tickfont\": {\"color\": \"#4D5663\"}, \"title\": {\"font\": {\"color\": \"#4D5663\"}, \"text\": \"Case Count\"}, \"zerolinecolor\": \"#E1E5ED\"}},\n",
       "                        {\"showLink\": true, \"linkText\": \"Export to plot.ly\", \"plotlyServerURL\": \"https://plot.ly\", \"responsive\": true}\n",
       "                    ).then(function(){\n",
       "                            \n",
       "var gd = document.getElementById('5db7cbc4-a1e2-43d1-bd4c-4e967a5e0bab');\n",
       "var x = new MutationObserver(function (mutations, observer) {{\n",
       "        var display = window.getComputedStyle(gd).display;\n",
       "        if (!display || display === 'none') {{\n",
       "            console.log([gd, 'removed!']);\n",
       "            Plotly.purge(gd);\n",
       "            observer.disconnect();\n",
       "        }}\n",
       "}});\n",
       "\n",
       "// Listen for the removal of the full notebook cells\n",
       "var notebookContainer = gd.closest('#notebook-container');\n",
       "if (notebookContainer) {{\n",
       "    x.observe(notebookContainer, {childList: true});\n",
       "}}\n",
       "\n",
       "// Listen for the clearing of the current output cell\n",
       "var outputEl = gd.closest('.output');\n",
       "if (outputEl) {{\n",
       "    x.observe(outputEl, {childList: true});\n",
       "}}\n",
       "\n",
       "                        })\n",
       "                };\n",
       "                });\n",
       "            </script>\n",
       "        </div>"
      ]
     },
     "metadata": {},
     "output_type": "display_data"
    }
   ],
   "source": [
    "cf.go_offline()\n",
    "df_countries_10[['Confirmed','Deaths','Recovered']].iplot(kind='scatter',colors=['red','Blue','Green'],size=1,xTitle='Country',\n",
    "                                                          yTitle='Case Count',gridcolor='Pink',title='Top 10 countries comparision',\n",
    "                                                         filename=\"my_barplot\")\n",
    "#plt.savefig('top 10 countries comparision.png')"
   ]
  },
  {
   "cell_type": "code",
   "execution_count": null,
   "metadata": {},
   "outputs": [],
   "source": []
  },
  {
   "cell_type": "code",
   "execution_count": 518,
   "metadata": {},
   "outputs": [
    {
     "data": {
      "application/vnd.plotly.v1+json": {
       "config": {
        "linkText": "Export to plot.ly",
        "plotlyServerURL": "https://plot.ly",
        "showLink": true
       },
       "data": [
        {
         "colorscale": [
          [
           0,
           "rgb(165,0,38)"
          ],
          [
           0.1,
           "rgb(215,48,39)"
          ],
          [
           0.2,
           "rgb(244,109,67)"
          ],
          [
           0.3,
           "rgb(253,174,97)"
          ],
          [
           0.4,
           "rgb(254,224,144)"
          ],
          [
           0.5,
           "rgb(255,255,191)"
          ],
          [
           0.6,
           "rgb(224,243,248)"
          ],
          [
           0.7,
           "rgb(171,217,233)"
          ],
          [
           0.8,
           "rgb(116,173,209)"
          ],
          [
           0.9,
           "rgb(69,117,180)"
          ],
          [
           1,
           "rgb(49,54,149)"
          ]
         ],
         "type": "surface",
         "x": [
          0,
          1,
          2,
          3,
          4,
          5,
          6,
          7,
          8,
          9
         ],
         "y": [
          0,
          1,
          2
         ],
         "z": [
          [
           1528568,
           299941,
           271885,
           248818,
           232037,
           226699,
           178428,
           177778,
           151615,
           124603
          ],
          [
           91921,
           2837,
           17983,
           35341,
           27778,
           32169,
           27976,
           8081,
           4199,
           7119
          ],
          [
           289392,
           76130,
           106794,
           0,
           0,
           129401,
           61246,
           155681,
           112895,
           97173
          ]
         ]
        }
       ],
       "layout": {
        "legend": {
         "bgcolor": "#F5F6F9",
         "font": {
          "color": "#4D5663"
         }
        },
        "paper_bgcolor": "#F5F6F9",
        "plot_bgcolor": "#F5F6F9",
        "template": {
         "data": {
          "bar": [
           {
            "error_x": {
             "color": "#2a3f5f"
            },
            "error_y": {
             "color": "#2a3f5f"
            },
            "marker": {
             "line": {
              "color": "#E5ECF6",
              "width": 0.5
             }
            },
            "type": "bar"
           }
          ],
          "barpolar": [
           {
            "marker": {
             "line": {
              "color": "#E5ECF6",
              "width": 0.5
             }
            },
            "type": "barpolar"
           }
          ],
          "carpet": [
           {
            "aaxis": {
             "endlinecolor": "#2a3f5f",
             "gridcolor": "white",
             "linecolor": "white",
             "minorgridcolor": "white",
             "startlinecolor": "#2a3f5f"
            },
            "baxis": {
             "endlinecolor": "#2a3f5f",
             "gridcolor": "white",
             "linecolor": "white",
             "minorgridcolor": "white",
             "startlinecolor": "#2a3f5f"
            },
            "type": "carpet"
           }
          ],
          "choropleth": [
           {
            "colorbar": {
             "outlinewidth": 0,
             "ticks": ""
            },
            "type": "choropleth"
           }
          ],
          "contour": [
           {
            "colorbar": {
             "outlinewidth": 0,
             "ticks": ""
            },
            "colorscale": [
             [
              0,
              "#0d0887"
             ],
             [
              0.1111111111111111,
              "#46039f"
             ],
             [
              0.2222222222222222,
              "#7201a8"
             ],
             [
              0.3333333333333333,
              "#9c179e"
             ],
             [
              0.4444444444444444,
              "#bd3786"
             ],
             [
              0.5555555555555556,
              "#d8576b"
             ],
             [
              0.6666666666666666,
              "#ed7953"
             ],
             [
              0.7777777777777778,
              "#fb9f3a"
             ],
             [
              0.8888888888888888,
              "#fdca26"
             ],
             [
              1,
              "#f0f921"
             ]
            ],
            "type": "contour"
           }
          ],
          "contourcarpet": [
           {
            "colorbar": {
             "outlinewidth": 0,
             "ticks": ""
            },
            "type": "contourcarpet"
           }
          ],
          "heatmap": [
           {
            "colorbar": {
             "outlinewidth": 0,
             "ticks": ""
            },
            "colorscale": [
             [
              0,
              "#0d0887"
             ],
             [
              0.1111111111111111,
              "#46039f"
             ],
             [
              0.2222222222222222,
              "#7201a8"
             ],
             [
              0.3333333333333333,
              "#9c179e"
             ],
             [
              0.4444444444444444,
              "#bd3786"
             ],
             [
              0.5555555555555556,
              "#d8576b"
             ],
             [
              0.6666666666666666,
              "#ed7953"
             ],
             [
              0.7777777777777778,
              "#fb9f3a"
             ],
             [
              0.8888888888888888,
              "#fdca26"
             ],
             [
              1,
              "#f0f921"
             ]
            ],
            "type": "heatmap"
           }
          ],
          "heatmapgl": [
           {
            "colorbar": {
             "outlinewidth": 0,
             "ticks": ""
            },
            "colorscale": [
             [
              0,
              "#0d0887"
             ],
             [
              0.1111111111111111,
              "#46039f"
             ],
             [
              0.2222222222222222,
              "#7201a8"
             ],
             [
              0.3333333333333333,
              "#9c179e"
             ],
             [
              0.4444444444444444,
              "#bd3786"
             ],
             [
              0.5555555555555556,
              "#d8576b"
             ],
             [
              0.6666666666666666,
              "#ed7953"
             ],
             [
              0.7777777777777778,
              "#fb9f3a"
             ],
             [
              0.8888888888888888,
              "#fdca26"
             ],
             [
              1,
              "#f0f921"
             ]
            ],
            "type": "heatmapgl"
           }
          ],
          "histogram": [
           {
            "marker": {
             "colorbar": {
              "outlinewidth": 0,
              "ticks": ""
             }
            },
            "type": "histogram"
           }
          ],
          "histogram2d": [
           {
            "colorbar": {
             "outlinewidth": 0,
             "ticks": ""
            },
            "colorscale": [
             [
              0,
              "#0d0887"
             ],
             [
              0.1111111111111111,
              "#46039f"
             ],
             [
              0.2222222222222222,
              "#7201a8"
             ],
             [
              0.3333333333333333,
              "#9c179e"
             ],
             [
              0.4444444444444444,
              "#bd3786"
             ],
             [
              0.5555555555555556,
              "#d8576b"
             ],
             [
              0.6666666666666666,
              "#ed7953"
             ],
             [
              0.7777777777777778,
              "#fb9f3a"
             ],
             [
              0.8888888888888888,
              "#fdca26"
             ],
             [
              1,
              "#f0f921"
             ]
            ],
            "type": "histogram2d"
           }
          ],
          "histogram2dcontour": [
           {
            "colorbar": {
             "outlinewidth": 0,
             "ticks": ""
            },
            "colorscale": [
             [
              0,
              "#0d0887"
             ],
             [
              0.1111111111111111,
              "#46039f"
             ],
             [
              0.2222222222222222,
              "#7201a8"
             ],
             [
              0.3333333333333333,
              "#9c179e"
             ],
             [
              0.4444444444444444,
              "#bd3786"
             ],
             [
              0.5555555555555556,
              "#d8576b"
             ],
             [
              0.6666666666666666,
              "#ed7953"
             ],
             [
              0.7777777777777778,
              "#fb9f3a"
             ],
             [
              0.8888888888888888,
              "#fdca26"
             ],
             [
              1,
              "#f0f921"
             ]
            ],
            "type": "histogram2dcontour"
           }
          ],
          "mesh3d": [
           {
            "colorbar": {
             "outlinewidth": 0,
             "ticks": ""
            },
            "type": "mesh3d"
           }
          ],
          "parcoords": [
           {
            "line": {
             "colorbar": {
              "outlinewidth": 0,
              "ticks": ""
             }
            },
            "type": "parcoords"
           }
          ],
          "pie": [
           {
            "automargin": true,
            "type": "pie"
           }
          ],
          "scatter": [
           {
            "marker": {
             "colorbar": {
              "outlinewidth": 0,
              "ticks": ""
             }
            },
            "type": "scatter"
           }
          ],
          "scatter3d": [
           {
            "line": {
             "colorbar": {
              "outlinewidth": 0,
              "ticks": ""
             }
            },
            "marker": {
             "colorbar": {
              "outlinewidth": 0,
              "ticks": ""
             }
            },
            "type": "scatter3d"
           }
          ],
          "scattercarpet": [
           {
            "marker": {
             "colorbar": {
              "outlinewidth": 0,
              "ticks": ""
             }
            },
            "type": "scattercarpet"
           }
          ],
          "scattergeo": [
           {
            "marker": {
             "colorbar": {
              "outlinewidth": 0,
              "ticks": ""
             }
            },
            "type": "scattergeo"
           }
          ],
          "scattergl": [
           {
            "marker": {
             "colorbar": {
              "outlinewidth": 0,
              "ticks": ""
             }
            },
            "type": "scattergl"
           }
          ],
          "scattermapbox": [
           {
            "marker": {
             "colorbar": {
              "outlinewidth": 0,
              "ticks": ""
             }
            },
            "type": "scattermapbox"
           }
          ],
          "scatterpolar": [
           {
            "marker": {
             "colorbar": {
              "outlinewidth": 0,
              "ticks": ""
             }
            },
            "type": "scatterpolar"
           }
          ],
          "scatterpolargl": [
           {
            "marker": {
             "colorbar": {
              "outlinewidth": 0,
              "ticks": ""
             }
            },
            "type": "scatterpolargl"
           }
          ],
          "scatterternary": [
           {
            "marker": {
             "colorbar": {
              "outlinewidth": 0,
              "ticks": ""
             }
            },
            "type": "scatterternary"
           }
          ],
          "surface": [
           {
            "colorbar": {
             "outlinewidth": 0,
             "ticks": ""
            },
            "colorscale": [
             [
              0,
              "#0d0887"
             ],
             [
              0.1111111111111111,
              "#46039f"
             ],
             [
              0.2222222222222222,
              "#7201a8"
             ],
             [
              0.3333333333333333,
              "#9c179e"
             ],
             [
              0.4444444444444444,
              "#bd3786"
             ],
             [
              0.5555555555555556,
              "#d8576b"
             ],
             [
              0.6666666666666666,
              "#ed7953"
             ],
             [
              0.7777777777777778,
              "#fb9f3a"
             ],
             [
              0.8888888888888888,
              "#fdca26"
             ],
             [
              1,
              "#f0f921"
             ]
            ],
            "type": "surface"
           }
          ],
          "table": [
           {
            "cells": {
             "fill": {
              "color": "#EBF0F8"
             },
             "line": {
              "color": "white"
             }
            },
            "header": {
             "fill": {
              "color": "#C8D4E3"
             },
             "line": {
              "color": "white"
             }
            },
            "type": "table"
           }
          ]
         },
         "layout": {
          "annotationdefaults": {
           "arrowcolor": "#2a3f5f",
           "arrowhead": 0,
           "arrowwidth": 1
          },
          "coloraxis": {
           "colorbar": {
            "outlinewidth": 0,
            "ticks": ""
           }
          },
          "colorscale": {
           "diverging": [
            [
             0,
             "#8e0152"
            ],
            [
             0.1,
             "#c51b7d"
            ],
            [
             0.2,
             "#de77ae"
            ],
            [
             0.3,
             "#f1b6da"
            ],
            [
             0.4,
             "#fde0ef"
            ],
            [
             0.5,
             "#f7f7f7"
            ],
            [
             0.6,
             "#e6f5d0"
            ],
            [
             0.7,
             "#b8e186"
            ],
            [
             0.8,
             "#7fbc41"
            ],
            [
             0.9,
             "#4d9221"
            ],
            [
             1,
             "#276419"
            ]
           ],
           "sequential": [
            [
             0,
             "#0d0887"
            ],
            [
             0.1111111111111111,
             "#46039f"
            ],
            [
             0.2222222222222222,
             "#7201a8"
            ],
            [
             0.3333333333333333,
             "#9c179e"
            ],
            [
             0.4444444444444444,
             "#bd3786"
            ],
            [
             0.5555555555555556,
             "#d8576b"
            ],
            [
             0.6666666666666666,
             "#ed7953"
            ],
            [
             0.7777777777777778,
             "#fb9f3a"
            ],
            [
             0.8888888888888888,
             "#fdca26"
            ],
            [
             1,
             "#f0f921"
            ]
           ],
           "sequentialminus": [
            [
             0,
             "#0d0887"
            ],
            [
             0.1111111111111111,
             "#46039f"
            ],
            [
             0.2222222222222222,
             "#7201a8"
            ],
            [
             0.3333333333333333,
             "#9c179e"
            ],
            [
             0.4444444444444444,
             "#bd3786"
            ],
            [
             0.5555555555555556,
             "#d8576b"
            ],
            [
             0.6666666666666666,
             "#ed7953"
            ],
            [
             0.7777777777777778,
             "#fb9f3a"
            ],
            [
             0.8888888888888888,
             "#fdca26"
            ],
            [
             1,
             "#f0f921"
            ]
           ]
          },
          "colorway": [
           "#636efa",
           "#EF553B",
           "#00cc96",
           "#ab63fa",
           "#FFA15A",
           "#19d3f3",
           "#FF6692",
           "#B6E880",
           "#FF97FF",
           "#FECB52"
          ],
          "font": {
           "color": "#2a3f5f"
          },
          "geo": {
           "bgcolor": "white",
           "lakecolor": "white",
           "landcolor": "#E5ECF6",
           "showlakes": true,
           "showland": true,
           "subunitcolor": "white"
          },
          "hoverlabel": {
           "align": "left"
          },
          "hovermode": "closest",
          "mapbox": {
           "style": "light"
          },
          "paper_bgcolor": "white",
          "plot_bgcolor": "#E5ECF6",
          "polar": {
           "angularaxis": {
            "gridcolor": "white",
            "linecolor": "white",
            "ticks": ""
           },
           "bgcolor": "#E5ECF6",
           "radialaxis": {
            "gridcolor": "white",
            "linecolor": "white",
            "ticks": ""
           }
          },
          "scene": {
           "xaxis": {
            "backgroundcolor": "#E5ECF6",
            "gridcolor": "white",
            "gridwidth": 2,
            "linecolor": "white",
            "showbackground": true,
            "ticks": "",
            "zerolinecolor": "white"
           },
           "yaxis": {
            "backgroundcolor": "#E5ECF6",
            "gridcolor": "white",
            "gridwidth": 2,
            "linecolor": "white",
            "showbackground": true,
            "ticks": "",
            "zerolinecolor": "white"
           },
           "zaxis": {
            "backgroundcolor": "#E5ECF6",
            "gridcolor": "white",
            "gridwidth": 2,
            "linecolor": "white",
            "showbackground": true,
            "ticks": "",
            "zerolinecolor": "white"
           }
          },
          "shapedefaults": {
           "line": {
            "color": "#2a3f5f"
           }
          },
          "ternary": {
           "aaxis": {
            "gridcolor": "white",
            "linecolor": "white",
            "ticks": ""
           },
           "baxis": {
            "gridcolor": "white",
            "linecolor": "white",
            "ticks": ""
           },
           "bgcolor": "#E5ECF6",
           "caxis": {
            "gridcolor": "white",
            "linecolor": "white",
            "ticks": ""
           }
          },
          "title": {
           "x": 0.05
          },
          "xaxis": {
           "automargin": true,
           "gridcolor": "white",
           "linecolor": "white",
           "ticks": "",
           "title": {
            "standoff": 15
           },
           "zerolinecolor": "white",
           "zerolinewidth": 2
          },
          "yaxis": {
           "automargin": true,
           "gridcolor": "white",
           "linecolor": "white",
           "ticks": "",
           "title": {
            "standoff": 15
           },
           "zerolinecolor": "white",
           "zerolinewidth": 2
          }
         }
        },
        "title": {
         "font": {
          "color": "#4D5663"
         }
        },
        "xaxis": {
         "gridcolor": "#E1E5ED",
         "showgrid": true,
         "tickfont": {
          "color": "#4D5663"
         },
         "title": {
          "font": {
           "color": "#4D5663"
          },
          "text": ""
         },
         "zerolinecolor": "#E1E5ED"
        },
        "yaxis": {
         "gridcolor": "#E1E5ED",
         "showgrid": true,
         "tickfont": {
          "color": "#4D5663"
         },
         "title": {
          "font": {
           "color": "#4D5663"
          },
          "text": ""
         },
         "zerolinecolor": "#E1E5ED"
        }
       }
      },
      "text/html": [
       "<div>\n",
       "        \n",
       "        \n",
       "            <div id=\"a61f7d1e-454f-499c-877c-b3da2ee92a53\" class=\"plotly-graph-div\" style=\"height:525px; width:100%;\"></div>\n",
       "            <script type=\"text/javascript\">\n",
       "                require([\"plotly\"], function(Plotly) {\n",
       "                    window.PLOTLYENV=window.PLOTLYENV || {};\n",
       "                    window.PLOTLYENV.BASE_URL='https://plot.ly';\n",
       "                    \n",
       "                if (document.getElementById(\"a61f7d1e-454f-499c-877c-b3da2ee92a53\")) {\n",
       "                    Plotly.newPlot(\n",
       "                        'a61f7d1e-454f-499c-877c-b3da2ee92a53',\n",
       "                        [{\"colorscale\": [[0.0, \"rgb(165,0,38)\"], [0.1, \"rgb(215,48,39)\"], [0.2, \"rgb(244,109,67)\"], [0.3, \"rgb(253,174,97)\"], [0.4, \"rgb(254,224,144)\"], [0.5, \"rgb(255,255,191)\"], [0.6, \"rgb(224,243,248)\"], [0.7, \"rgb(171,217,233)\"], [0.8, \"rgb(116,173,209)\"], [0.9, \"rgb(69,117,180)\"], [1.0, \"rgb(49,54,149)\"]], \"type\": \"surface\", \"x\": [0, 1, 2, 3, 4, 5, 6, 7, 8, 9], \"y\": [0, 1, 2], \"z\": [[1528568.0, 299941.0, 271885.0, 248818.0, 232037.0, 226699.0, 178428.0, 177778.0, 151615.0, 124603.0], [91921.0, 2837.0, 17983.0, 35341.0, 27778.0, 32169.0, 27976.0, 8081.0, 4199.0, 7119.0], [289392.0, 76130.0, 106794.0, 0.0, 0.0, 129401.0, 61246.0, 155681.0, 112895.0, 97173.0]]}],\n",
       "                        {\"legend\": {\"bgcolor\": \"#F5F6F9\", \"font\": {\"color\": \"#4D5663\"}}, \"paper_bgcolor\": \"#F5F6F9\", \"plot_bgcolor\": \"#F5F6F9\", \"template\": {\"data\": {\"bar\": [{\"error_x\": {\"color\": \"#2a3f5f\"}, \"error_y\": {\"color\": \"#2a3f5f\"}, \"marker\": {\"line\": {\"color\": \"#E5ECF6\", \"width\": 0.5}}, \"type\": \"bar\"}], \"barpolar\": [{\"marker\": {\"line\": {\"color\": \"#E5ECF6\", \"width\": 0.5}}, \"type\": \"barpolar\"}], \"carpet\": [{\"aaxis\": {\"endlinecolor\": \"#2a3f5f\", \"gridcolor\": \"white\", \"linecolor\": \"white\", \"minorgridcolor\": \"white\", \"startlinecolor\": \"#2a3f5f\"}, \"baxis\": {\"endlinecolor\": \"#2a3f5f\", \"gridcolor\": \"white\", \"linecolor\": \"white\", \"minorgridcolor\": \"white\", \"startlinecolor\": \"#2a3f5f\"}, \"type\": \"carpet\"}], \"choropleth\": [{\"colorbar\": {\"outlinewidth\": 0, \"ticks\": \"\"}, \"type\": \"choropleth\"}], \"contour\": [{\"colorbar\": {\"outlinewidth\": 0, \"ticks\": \"\"}, \"colorscale\": [[0.0, \"#0d0887\"], [0.1111111111111111, \"#46039f\"], [0.2222222222222222, \"#7201a8\"], [0.3333333333333333, \"#9c179e\"], [0.4444444444444444, \"#bd3786\"], [0.5555555555555556, \"#d8576b\"], [0.6666666666666666, \"#ed7953\"], [0.7777777777777778, \"#fb9f3a\"], [0.8888888888888888, \"#fdca26\"], [1.0, \"#f0f921\"]], \"type\": \"contour\"}], \"contourcarpet\": [{\"colorbar\": {\"outlinewidth\": 0, \"ticks\": \"\"}, \"type\": \"contourcarpet\"}], \"heatmap\": [{\"colorbar\": {\"outlinewidth\": 0, \"ticks\": \"\"}, \"colorscale\": [[0.0, \"#0d0887\"], [0.1111111111111111, \"#46039f\"], [0.2222222222222222, \"#7201a8\"], [0.3333333333333333, \"#9c179e\"], [0.4444444444444444, \"#bd3786\"], [0.5555555555555556, \"#d8576b\"], [0.6666666666666666, \"#ed7953\"], [0.7777777777777778, \"#fb9f3a\"], [0.8888888888888888, \"#fdca26\"], [1.0, \"#f0f921\"]], \"type\": \"heatmap\"}], \"heatmapgl\": [{\"colorbar\": {\"outlinewidth\": 0, \"ticks\": \"\"}, \"colorscale\": [[0.0, \"#0d0887\"], [0.1111111111111111, \"#46039f\"], [0.2222222222222222, \"#7201a8\"], [0.3333333333333333, \"#9c179e\"], [0.4444444444444444, \"#bd3786\"], [0.5555555555555556, \"#d8576b\"], [0.6666666666666666, \"#ed7953\"], [0.7777777777777778, \"#fb9f3a\"], [0.8888888888888888, \"#fdca26\"], [1.0, \"#f0f921\"]], \"type\": \"heatmapgl\"}], \"histogram\": [{\"marker\": {\"colorbar\": {\"outlinewidth\": 0, \"ticks\": \"\"}}, \"type\": \"histogram\"}], \"histogram2d\": [{\"colorbar\": {\"outlinewidth\": 0, \"ticks\": \"\"}, \"colorscale\": [[0.0, \"#0d0887\"], [0.1111111111111111, \"#46039f\"], [0.2222222222222222, \"#7201a8\"], [0.3333333333333333, \"#9c179e\"], [0.4444444444444444, \"#bd3786\"], [0.5555555555555556, \"#d8576b\"], [0.6666666666666666, \"#ed7953\"], [0.7777777777777778, \"#fb9f3a\"], [0.8888888888888888, \"#fdca26\"], [1.0, \"#f0f921\"]], \"type\": \"histogram2d\"}], \"histogram2dcontour\": [{\"colorbar\": {\"outlinewidth\": 0, \"ticks\": \"\"}, \"colorscale\": [[0.0, \"#0d0887\"], [0.1111111111111111, \"#46039f\"], [0.2222222222222222, \"#7201a8\"], [0.3333333333333333, \"#9c179e\"], [0.4444444444444444, \"#bd3786\"], [0.5555555555555556, \"#d8576b\"], [0.6666666666666666, \"#ed7953\"], [0.7777777777777778, \"#fb9f3a\"], [0.8888888888888888, \"#fdca26\"], [1.0, \"#f0f921\"]], \"type\": \"histogram2dcontour\"}], \"mesh3d\": [{\"colorbar\": {\"outlinewidth\": 0, \"ticks\": \"\"}, \"type\": \"mesh3d\"}], \"parcoords\": [{\"line\": {\"colorbar\": {\"outlinewidth\": 0, \"ticks\": \"\"}}, \"type\": \"parcoords\"}], \"pie\": [{\"automargin\": true, \"type\": \"pie\"}], \"scatter\": [{\"marker\": {\"colorbar\": {\"outlinewidth\": 0, \"ticks\": \"\"}}, \"type\": \"scatter\"}], \"scatter3d\": [{\"line\": {\"colorbar\": {\"outlinewidth\": 0, \"ticks\": \"\"}}, \"marker\": {\"colorbar\": {\"outlinewidth\": 0, \"ticks\": \"\"}}, \"type\": \"scatter3d\"}], \"scattercarpet\": [{\"marker\": {\"colorbar\": {\"outlinewidth\": 0, \"ticks\": \"\"}}, \"type\": \"scattercarpet\"}], \"scattergeo\": [{\"marker\": {\"colorbar\": {\"outlinewidth\": 0, \"ticks\": \"\"}}, \"type\": \"scattergeo\"}], \"scattergl\": [{\"marker\": {\"colorbar\": {\"outlinewidth\": 0, \"ticks\": \"\"}}, \"type\": \"scattergl\"}], \"scattermapbox\": [{\"marker\": {\"colorbar\": {\"outlinewidth\": 0, \"ticks\": \"\"}}, \"type\": \"scattermapbox\"}], \"scatterpolar\": [{\"marker\": {\"colorbar\": {\"outlinewidth\": 0, \"ticks\": \"\"}}, \"type\": \"scatterpolar\"}], \"scatterpolargl\": [{\"marker\": {\"colorbar\": {\"outlinewidth\": 0, \"ticks\": \"\"}}, \"type\": \"scatterpolargl\"}], \"scatterternary\": [{\"marker\": {\"colorbar\": {\"outlinewidth\": 0, \"ticks\": \"\"}}, \"type\": \"scatterternary\"}], \"surface\": [{\"colorbar\": {\"outlinewidth\": 0, \"ticks\": \"\"}, \"colorscale\": [[0.0, \"#0d0887\"], [0.1111111111111111, \"#46039f\"], [0.2222222222222222, \"#7201a8\"], [0.3333333333333333, \"#9c179e\"], [0.4444444444444444, \"#bd3786\"], [0.5555555555555556, \"#d8576b\"], [0.6666666666666666, \"#ed7953\"], [0.7777777777777778, \"#fb9f3a\"], [0.8888888888888888, \"#fdca26\"], [1.0, \"#f0f921\"]], \"type\": \"surface\"}], \"table\": [{\"cells\": {\"fill\": {\"color\": \"#EBF0F8\"}, \"line\": {\"color\": \"white\"}}, \"header\": {\"fill\": {\"color\": \"#C8D4E3\"}, \"line\": {\"color\": \"white\"}}, \"type\": \"table\"}]}, \"layout\": {\"annotationdefaults\": {\"arrowcolor\": \"#2a3f5f\", \"arrowhead\": 0, \"arrowwidth\": 1}, \"coloraxis\": {\"colorbar\": {\"outlinewidth\": 0, \"ticks\": \"\"}}, \"colorscale\": {\"diverging\": [[0, \"#8e0152\"], [0.1, \"#c51b7d\"], [0.2, \"#de77ae\"], [0.3, \"#f1b6da\"], [0.4, \"#fde0ef\"], [0.5, \"#f7f7f7\"], [0.6, \"#e6f5d0\"], [0.7, \"#b8e186\"], [0.8, \"#7fbc41\"], [0.9, \"#4d9221\"], [1, \"#276419\"]], \"sequential\": [[0.0, \"#0d0887\"], [0.1111111111111111, \"#46039f\"], [0.2222222222222222, \"#7201a8\"], [0.3333333333333333, \"#9c179e\"], [0.4444444444444444, \"#bd3786\"], [0.5555555555555556, \"#d8576b\"], [0.6666666666666666, \"#ed7953\"], [0.7777777777777778, \"#fb9f3a\"], [0.8888888888888888, \"#fdca26\"], [1.0, \"#f0f921\"]], \"sequentialminus\": [[0.0, \"#0d0887\"], [0.1111111111111111, \"#46039f\"], [0.2222222222222222, \"#7201a8\"], [0.3333333333333333, \"#9c179e\"], [0.4444444444444444, \"#bd3786\"], [0.5555555555555556, \"#d8576b\"], [0.6666666666666666, \"#ed7953\"], [0.7777777777777778, \"#fb9f3a\"], [0.8888888888888888, \"#fdca26\"], [1.0, \"#f0f921\"]]}, \"colorway\": [\"#636efa\", \"#EF553B\", \"#00cc96\", \"#ab63fa\", \"#FFA15A\", \"#19d3f3\", \"#FF6692\", \"#B6E880\", \"#FF97FF\", \"#FECB52\"], \"font\": {\"color\": \"#2a3f5f\"}, \"geo\": {\"bgcolor\": \"white\", \"lakecolor\": \"white\", \"landcolor\": \"#E5ECF6\", \"showlakes\": true, \"showland\": true, \"subunitcolor\": \"white\"}, \"hoverlabel\": {\"align\": \"left\"}, \"hovermode\": \"closest\", \"mapbox\": {\"style\": \"light\"}, \"paper_bgcolor\": \"white\", \"plot_bgcolor\": \"#E5ECF6\", \"polar\": {\"angularaxis\": {\"gridcolor\": \"white\", \"linecolor\": \"white\", \"ticks\": \"\"}, \"bgcolor\": \"#E5ECF6\", \"radialaxis\": {\"gridcolor\": \"white\", \"linecolor\": \"white\", \"ticks\": \"\"}}, \"scene\": {\"xaxis\": {\"backgroundcolor\": \"#E5ECF6\", \"gridcolor\": \"white\", \"gridwidth\": 2, \"linecolor\": \"white\", \"showbackground\": true, \"ticks\": \"\", \"zerolinecolor\": \"white\"}, \"yaxis\": {\"backgroundcolor\": \"#E5ECF6\", \"gridcolor\": \"white\", \"gridwidth\": 2, \"linecolor\": \"white\", \"showbackground\": true, \"ticks\": \"\", \"zerolinecolor\": \"white\"}, \"zaxis\": {\"backgroundcolor\": \"#E5ECF6\", \"gridcolor\": \"white\", \"gridwidth\": 2, \"linecolor\": \"white\", \"showbackground\": true, \"ticks\": \"\", \"zerolinecolor\": \"white\"}}, \"shapedefaults\": {\"line\": {\"color\": \"#2a3f5f\"}}, \"ternary\": {\"aaxis\": {\"gridcolor\": \"white\", \"linecolor\": \"white\", \"ticks\": \"\"}, \"baxis\": {\"gridcolor\": \"white\", \"linecolor\": \"white\", \"ticks\": \"\"}, \"bgcolor\": \"#E5ECF6\", \"caxis\": {\"gridcolor\": \"white\", \"linecolor\": \"white\", \"ticks\": \"\"}}, \"title\": {\"x\": 0.05}, \"xaxis\": {\"automargin\": true, \"gridcolor\": \"white\", \"linecolor\": \"white\", \"ticks\": \"\", \"title\": {\"standoff\": 15}, \"zerolinecolor\": \"white\", \"zerolinewidth\": 2}, \"yaxis\": {\"automargin\": true, \"gridcolor\": \"white\", \"linecolor\": \"white\", \"ticks\": \"\", \"title\": {\"standoff\": 15}, \"zerolinecolor\": \"white\", \"zerolinewidth\": 2}}}, \"title\": {\"font\": {\"color\": \"#4D5663\"}}, \"xaxis\": {\"gridcolor\": \"#E1E5ED\", \"showgrid\": true, \"tickfont\": {\"color\": \"#4D5663\"}, \"title\": {\"font\": {\"color\": \"#4D5663\"}, \"text\": \"\"}, \"zerolinecolor\": \"#E1E5ED\"}, \"yaxis\": {\"gridcolor\": \"#E1E5ED\", \"showgrid\": true, \"tickfont\": {\"color\": \"#4D5663\"}, \"title\": {\"font\": {\"color\": \"#4D5663\"}, \"text\": \"\"}, \"zerolinecolor\": \"#E1E5ED\"}},\n",
       "                        {\"showLink\": true, \"linkText\": \"Export to plot.ly\", \"plotlyServerURL\": \"https://plot.ly\", \"responsive\": true}\n",
       "                    ).then(function(){\n",
       "                            \n",
       "var gd = document.getElementById('a61f7d1e-454f-499c-877c-b3da2ee92a53');\n",
       "var x = new MutationObserver(function (mutations, observer) {{\n",
       "        var display = window.getComputedStyle(gd).display;\n",
       "        if (!display || display === 'none') {{\n",
       "            console.log([gd, 'removed!']);\n",
       "            Plotly.purge(gd);\n",
       "            observer.disconnect();\n",
       "        }}\n",
       "}});\n",
       "\n",
       "// Listen for the removal of the full notebook cells\n",
       "var notebookContainer = gd.closest('#notebook-container');\n",
       "if (notebookContainer) {{\n",
       "    x.observe(notebookContainer, {childList: true});\n",
       "}}\n",
       "\n",
       "// Listen for the clearing of the current output cell\n",
       "var outputEl = gd.closest('.output');\n",
       "if (outputEl) {{\n",
       "    x.observe(outputEl, {childList: true});\n",
       "}}\n",
       "\n",
       "                        })\n",
       "                };\n",
       "                });\n",
       "            </script>\n",
       "        </div>"
      ]
     },
     "metadata": {},
     "output_type": "display_data"
    }
   ],
   "source": [
    "df3 = df_countries_10[['Confirmed','Deaths','Recovered']].values\n",
    "df3 = pd.DataFrame(df3)\n",
    "df3\n",
    "df3.iplot(kind='surface',colorscale='rdylbu')\n"
   ]
  },
  {
   "cell_type": "markdown",
   "metadata": {},
   "source": [
    "## Global spread of covid-19 on world geographical map"
   ]
  },
  {
   "cell_type": "code",
   "execution_count": 571,
   "metadata": {},
   "outputs": [
    {
     "data": {
      "text/html": [
       "        <script type=\"text/javascript\">\n",
       "        window.PlotlyConfig = {MathJaxConfig: 'local'};\n",
       "        if (window.MathJax) {MathJax.Hub.Config({SVG: {font: \"STIX-Web\"}});}\n",
       "        if (typeof require !== 'undefined') {\n",
       "        require.undef(\"plotly\");\n",
       "        requirejs.config({\n",
       "            paths: {\n",
       "                'plotly': ['https://cdn.plot.ly/plotly-latest.min']\n",
       "            }\n",
       "        });\n",
       "        require(['plotly'], function(Plotly) {\n",
       "            window._Plotly = Plotly;\n",
       "        });\n",
       "        }\n",
       "        </script>\n",
       "        "
      ]
     },
     "metadata": {},
     "output_type": "display_data"
    }
   ],
   "source": [
    "init_notebook_mode(connected=True) \n",
    "import plotly.graph_objs as go "
   ]
  },
  {
   "cell_type": "code",
   "execution_count": 572,
   "metadata": {},
   "outputs": [
    {
     "data": {
      "text/plain": [
       "Index(['US', 'Russia', 'Brazil', 'United Kingdom', 'Spain', 'Italy', 'France',\n",
       "       'Germany', 'Turkey', 'Iran'],\n",
       "      dtype='object', name='Country/Region')"
      ]
     },
     "execution_count": 572,
     "metadata": {},
     "output_type": "execute_result"
    }
   ],
   "source": [
    "df_countries_10.index"
   ]
  },
  {
   "cell_type": "code",
   "execution_count": null,
   "metadata": {},
   "outputs": [],
   "source": []
  },
  {
   "cell_type": "code",
   "execution_count": 545,
   "metadata": {},
   "outputs": [
    {
     "data": {
      "application/vnd.plotly.v1+json": {
       "config": {
        "linkText": "Export to plot.ly",
        "plotlyServerURL": "https://plot.ly",
        "showLink": false
       },
       "data": [
        {
         "colorbar": {
          "bgcolor": "White",
          "title": {
           "text": "Confirmd number of cases "
          }
         },
         "colorscale": [
          [
           0,
           "rgb(252, 222, 156)"
          ],
          [
           0.16666666666666666,
           "rgb(250, 164, 118)"
          ],
          [
           0.3333333333333333,
           "rgb(240, 116, 110)"
          ],
          [
           0.5,
           "rgb(227, 79, 111)"
          ],
          [
           0.6666666666666666,
           "rgb(220, 57, 119)"
          ],
          [
           0.8333333333333334,
           "rgb(185, 37, 122)"
          ],
          [
           1,
           "rgb(124, 29, 111)"
          ]
         ],
         "locationmode": "country names",
         "locations": [
          "US",
          "Russia",
          "Brazil",
          "United Kingdom",
          "Spain",
          "Italy",
          "France",
          "Germany",
          "Turkey",
          "Iran",
          "India",
          "Peru",
          "China",
          "Saudi Arabia",
          "Belgium",
          "Mexico",
          "Chile",
          "Netherlands",
          "Canada",
          "Pakistan",
          "Qatar",
          "Ecuador",
          "Belarus",
          "Sweden",
          "Switzerland",
          "Portugal",
          "Singapore",
          "Bangladesh",
          "United Arab Emirates",
          "Canada",
          "Ireland",
          "Poland",
          "Ukraine",
          "Indonesia",
          "South Africa",
          "Romania",
          "Colombia",
          "Kuwait",
          "Israel",
          "Japan",
          "Austria",
          "Egypt",
          "Dominican Republic",
          "Philippines",
          "Korea, South",
          "Denmark",
          "Serbia",
          "Panama",
          "Argentina",
          "Czechia",
          "Norway",
          "Afghanistan",
          "Bahrain",
          "Algeria",
          "Morocco",
          "Malaysia",
          "Kazakhstan",
          "Canada",
          "Nigeria",
          "Finland",
          "Moldova",
          "Ghana",
          "Oman",
          "Armenia",
          "Bolivia",
          "Luxembourg",
          "Iraq",
          "Hungary",
          "Cameroon",
          "Azerbaijan",
          "Australia",
          "Thailand",
          "Honduras",
          "Guinea",
          "Uzbekistan",
          "Greece",
          "Sudan",
          "Senegal",
          "Canada",
          "Bosnia and Herzegovina",
          "Bulgaria",
          "Croatia",
          "Cote d'Ivoire",
          "Guatemala",
          "Tajikistan",
          "Cuba",
          "North Macedonia",
          "Iceland",
          "Estonia",
          "Congo (Kinshasa)",
          "Djibouti",
          "China",
          "Australia",
          "Lithuania",
          "New Zealand",
          "Gabon",
          "Somalia",
          "El Salvador",
          "Slovakia",
          "Slovenia",
          "France",
          "China",
          "China",
          "Kyrgyzstan",
          "Maldives",
          "Australia",
          "China",
          "Canada",
          "Tunisia",
          "Guinea-Bissau",
          "Sri Lanka",
          "China",
          "Latvia",
          "China",
          "Kosovo",
          "Kenya",
          "Lebanon",
          "Albania",
          "China",
          "China",
          "Cyprus",
          "Niger",
          "Mali",
          "Costa Rica",
          "Paraguay",
          "Equatorial Guinea",
          "Burkina Faso",
          "China",
          "Zambia",
          "Andorra",
          "Venezuela",
          "Uruguay",
          "Diamond Princess",
          "Georgia",
          "China",
          "San Marino",
          "China",
          "Jordan",
          "Canada",
          "China",
          "China",
          "Malta",
          "China",
          "Australia",
          "United Kingdom",
          "Chad",
          "Sierra Leone",
          "Haiti",
          "Jamaica",
          "Tanzania",
          "France",
          "Taiwan*",
          "Australia",
          "Congo (Brazzaville)",
          "Nepal",
          "West Bank and Gaza",
          "Central African Republic",
          "Ethiopia",
          "China",
          "Togo",
          "United Kingdom",
          "Cabo Verde",
          "Mauritius",
          "China",
          "Madagascar",
          "Montenegro",
          "Vietnam",
          "Rwanda",
          "China",
          "South Sudan",
          "Canada",
          "Uganda",
          "Canada",
          "China",
          "Nicaragua",
          "Sao Tome and Principe",
          "Liberia",
          "Australia",
          "France",
          "China",
          "Eswatini",
          "China",
          "Burma",
          "France",
          "China",
          "Denmark",
          "China",
          "China",
          "Yemen",
          "France",
          "China",
          "China",
          "United Kingdom",
          "China",
          "Mozambique",
          "Brunei",
          "Mongolia",
          "China",
          "Mauritania",
          "Benin",
          "United Kingdom",
          "Guyana",
          "Cambodia",
          "Canada",
          "Trinidad and Tobago",
          "United Kingdom",
          "Australia",
          "Netherlands",
          "Monaco",
          "Bahamas",
          "Barbados",
          "Liechtenstein",
          "Netherlands",
          "China",
          "China",
          "Malawi",
          "Libya",
          "France",
          "Syria",
          "Angola",
          "Zimbabwe",
          "China",
          "Burundi",
          "France",
          "Eritrea",
          "Australia",
          "Canada",
          "Botswana",
          "Antigua and Barbuda",
          "Gambia",
          "Timor-Leste",
          "Grenada",
          "Bhutan",
          "Laos",
          "Belize",
          "Saint Lucia",
          "China",
          "France",
          "Fiji",
          "Saint Vincent and the Grenadines",
          "Dominica",
          "Netherlands",
          "Namibia",
          "Saint Kitts and Nevis",
          "Canada",
          "United Kingdom",
          "Holy See",
          "United Kingdom",
          "United Kingdom",
          "Canada",
          "Seychelles",
          "Comoros",
          "Suriname",
          "Denmark",
          "MS Zaandam",
          "United Kingdom",
          "Papua New Guinea",
          "France",
          "Western Sahara",
          "Netherlands",
          "Canada",
          "United Kingdom",
          "China",
          "Canada",
          "France",
          "Lesotho",
          "Canada"
         ],
         "reversescale": true,
         "text": [
          "US",
          "Russia",
          "Brazil",
          "United Kingdom",
          "Spain",
          "Italy",
          "France",
          "Germany",
          "Turkey",
          "Iran",
          "India",
          "Peru",
          "China",
          "Saudi Arabia",
          "Belgium",
          "Mexico",
          "Chile",
          "Netherlands",
          "Canada",
          "Pakistan",
          "Qatar",
          "Ecuador",
          "Belarus",
          "Sweden",
          "Switzerland",
          "Portugal",
          "Singapore",
          "Bangladesh",
          "United Arab Emirates",
          "Canada",
          "Ireland",
          "Poland",
          "Ukraine",
          "Indonesia",
          "South Africa",
          "Romania",
          "Colombia",
          "Kuwait",
          "Israel",
          "Japan",
          "Austria",
          "Egypt",
          "Dominican Republic",
          "Philippines",
          "Korea, South",
          "Denmark",
          "Serbia",
          "Panama",
          "Argentina",
          "Czechia",
          "Norway",
          "Afghanistan",
          "Bahrain",
          "Algeria",
          "Morocco",
          "Malaysia",
          "Kazakhstan",
          "Canada",
          "Nigeria",
          "Finland",
          "Moldova",
          "Ghana",
          "Oman",
          "Armenia",
          "Bolivia",
          "Luxembourg",
          "Iraq",
          "Hungary",
          "Cameroon",
          "Azerbaijan",
          "Australia",
          "Thailand",
          "Honduras",
          "Guinea",
          "Uzbekistan",
          "Greece",
          "Sudan",
          "Senegal",
          "Canada",
          "Bosnia and Herzegovina",
          "Bulgaria",
          "Croatia",
          "Cote d'Ivoire",
          "Guatemala",
          "Tajikistan",
          "Cuba",
          "North Macedonia",
          "Iceland",
          "Estonia",
          "Congo (Kinshasa)",
          "Djibouti",
          "China",
          "Australia",
          "Lithuania",
          "New Zealand",
          "Gabon",
          "Somalia",
          "El Salvador",
          "Slovakia",
          "Slovenia",
          "France",
          "China",
          "China",
          "Kyrgyzstan",
          "Maldives",
          "Australia",
          "China",
          "Canada",
          "Tunisia",
          "Guinea-Bissau",
          "Sri Lanka",
          "China",
          "Latvia",
          "China",
          "Kosovo",
          "Kenya",
          "Lebanon",
          "Albania",
          "China",
          "China",
          "Cyprus",
          "Niger",
          "Mali",
          "Costa Rica",
          "Paraguay",
          "Equatorial Guinea",
          "Burkina Faso",
          "China",
          "Zambia",
          "Andorra",
          "Venezuela",
          "Uruguay",
          "Diamond Princess",
          "Georgia",
          "China",
          "San Marino",
          "China",
          "Jordan",
          "Canada",
          "China",
          "China",
          "Malta",
          "China",
          "Australia",
          "United Kingdom",
          "Chad",
          "Sierra Leone",
          "Haiti",
          "Jamaica",
          "Tanzania",
          "France",
          "Taiwan*",
          "Australia",
          "Congo (Brazzaville)",
          "Nepal",
          "West Bank and Gaza",
          "Central African Republic",
          "Ethiopia",
          "China",
          "Togo",
          "United Kingdom",
          "Cabo Verde",
          "Mauritius",
          "China",
          "Madagascar",
          "Montenegro",
          "Vietnam",
          "Rwanda",
          "China",
          "South Sudan",
          "Canada",
          "Uganda",
          "Canada",
          "China",
          "Nicaragua",
          "Sao Tome and Principe",
          "Liberia",
          "Australia",
          "France",
          "China",
          "Eswatini",
          "China",
          "Burma",
          "France",
          "China",
          "Denmark",
          "China",
          "China",
          "Yemen",
          "France",
          "China",
          "China",
          "United Kingdom",
          "China",
          "Mozambique",
          "Brunei",
          "Mongolia",
          "China",
          "Mauritania",
          "Benin",
          "United Kingdom",
          "Guyana",
          "Cambodia",
          "Canada",
          "Trinidad and Tobago",
          "United Kingdom",
          "Australia",
          "Netherlands",
          "Monaco",
          "Bahamas",
          "Barbados",
          "Liechtenstein",
          "Netherlands",
          "China",
          "China",
          "Malawi",
          "Libya",
          "France",
          "Syria",
          "Angola",
          "Zimbabwe",
          "China",
          "Burundi",
          "France",
          "Eritrea",
          "Australia",
          "Canada",
          "Botswana",
          "Antigua and Barbuda",
          "Gambia",
          "Timor-Leste",
          "Grenada",
          "Bhutan",
          "Laos",
          "Belize",
          "Saint Lucia",
          "China",
          "France",
          "Fiji",
          "Saint Vincent and the Grenadines",
          "Dominica",
          "Netherlands",
          "Namibia",
          "Saint Kitts and Nevis",
          "Canada",
          "United Kingdom",
          "Holy See",
          "United Kingdom",
          "United Kingdom",
          "Canada",
          "Seychelles",
          "Comoros",
          "Suriname",
          "Denmark",
          "MS Zaandam",
          "United Kingdom",
          "Papua New Guinea",
          "France",
          "Western Sahara",
          "Netherlands",
          "Canada",
          "United Kingdom",
          "China",
          "Canada",
          "France",
          "Lesotho",
          "Canada"
         ],
         "type": "choropleth",
         "z": [
          1528568,
          299941,
          271885,
          248818,
          232037,
          226699,
          178428,
          177778,
          151615,
          124603,
          106475,
          99483,
          68135,
          59854,
          55791,
          54346,
          49579,
          44249,
          44206,
          43966,
          35606,
          34151,
          31508,
          30799,
          30618,
          29432,
          28794,
          25121,
          25063,
          24755,
          24251,
          19268,
          18876,
          18496,
          17200,
          17191,
          16935,
          16764,
          16659,
          16367,
          16321,
          13484,
          13223,
          12942,
          11110,
          11044,
          10733,
          9867,
          8809,
          8647,
          8267,
          7653,
          7532,
          7377,
          7023,
          6978,
          6751,
          6716,
          6401,
          6399,
          6340,
          6096,
          5671,
          5041,
          4481,
          3958,
          3611,
          3556,
          3529,
          3518,
          3081,
          3033,
          2955,
          2863,
          2855,
          2840,
          2728,
          2617,
          2446,
          2321,
          2259,
          2232,
          2153,
          2133,
          1936,
          1887,
          1839,
          1802,
          1791,
          1629,
          1618,
          1590,
          1573,
          1562,
          1503,
          1502,
          1502,
          1498,
          1495,
          1467,
          1370,
          1276,
          1268,
          1243,
          1143,
          1058,
          1055,
          1044,
          1044,
          1038,
          1027,
          1019,
          1012,
          991,
          989,
          963,
          954,
          949,
          945,
          937,
          918,
          914,
          901,
          882,
          829,
          825,
          796,
          788,
          772,
          761,
          749,
          738,
          712,
          707,
          666,
          655,
          653,
          649,
          599,
          593,
          579,
          569,
          561,
          557,
          555,
          545,
          534,
          533,
          520,
          509,
          446,
          440,
          439,
          420,
          402,
          391,
          366,
          365,
          356,
          338,
          335,
          335,
          332,
          328,
          326,
          324,
          324,
          308,
          308,
          290,
          290,
          260,
          260,
          254,
          254,
          251,
          233,
          228,
          218,
          216,
          208,
          198,
          193,
          192,
          192,
          187,
          185,
          169,
          167,
          155,
          151,
          149,
          147,
          147,
          146,
          141,
          140,
          139,
          131,
          130,
          125,
          125,
          122,
          120,
          116,
          111,
          107,
          101,
          97,
          96,
          90,
          82,
          77,
          76,
          75,
          70,
          68,
          60,
          58,
          52,
          46,
          45,
          42,
          39,
          39,
          29,
          27,
          25,
          25,
          24,
          24,
          22,
          21,
          19,
          18,
          18,
          18,
          18,
          18,
          17,
          16,
          16,
          16,
          15,
          13,
          13,
          12,
          12,
          11,
          11,
          11,
          11,
          11,
          11,
          9,
          8,
          8,
          6,
          6,
          6,
          5,
          3,
          1,
          1,
          1,
          1,
          null
         ]
        }
       ],
       "layout": {
        "geo": {
         "showframe": false
        },
        "template": {
         "data": {
          "bar": [
           {
            "error_x": {
             "color": "#2a3f5f"
            },
            "error_y": {
             "color": "#2a3f5f"
            },
            "marker": {
             "line": {
              "color": "#E5ECF6",
              "width": 0.5
             }
            },
            "type": "bar"
           }
          ],
          "barpolar": [
           {
            "marker": {
             "line": {
              "color": "#E5ECF6",
              "width": 0.5
             }
            },
            "type": "barpolar"
           }
          ],
          "carpet": [
           {
            "aaxis": {
             "endlinecolor": "#2a3f5f",
             "gridcolor": "white",
             "linecolor": "white",
             "minorgridcolor": "white",
             "startlinecolor": "#2a3f5f"
            },
            "baxis": {
             "endlinecolor": "#2a3f5f",
             "gridcolor": "white",
             "linecolor": "white",
             "minorgridcolor": "white",
             "startlinecolor": "#2a3f5f"
            },
            "type": "carpet"
           }
          ],
          "choropleth": [
           {
            "colorbar": {
             "outlinewidth": 0,
             "ticks": ""
            },
            "type": "choropleth"
           }
          ],
          "contour": [
           {
            "colorbar": {
             "outlinewidth": 0,
             "ticks": ""
            },
            "colorscale": [
             [
              0,
              "#0d0887"
             ],
             [
              0.1111111111111111,
              "#46039f"
             ],
             [
              0.2222222222222222,
              "#7201a8"
             ],
             [
              0.3333333333333333,
              "#9c179e"
             ],
             [
              0.4444444444444444,
              "#bd3786"
             ],
             [
              0.5555555555555556,
              "#d8576b"
             ],
             [
              0.6666666666666666,
              "#ed7953"
             ],
             [
              0.7777777777777778,
              "#fb9f3a"
             ],
             [
              0.8888888888888888,
              "#fdca26"
             ],
             [
              1,
              "#f0f921"
             ]
            ],
            "type": "contour"
           }
          ],
          "contourcarpet": [
           {
            "colorbar": {
             "outlinewidth": 0,
             "ticks": ""
            },
            "type": "contourcarpet"
           }
          ],
          "heatmap": [
           {
            "colorbar": {
             "outlinewidth": 0,
             "ticks": ""
            },
            "colorscale": [
             [
              0,
              "#0d0887"
             ],
             [
              0.1111111111111111,
              "#46039f"
             ],
             [
              0.2222222222222222,
              "#7201a8"
             ],
             [
              0.3333333333333333,
              "#9c179e"
             ],
             [
              0.4444444444444444,
              "#bd3786"
             ],
             [
              0.5555555555555556,
              "#d8576b"
             ],
             [
              0.6666666666666666,
              "#ed7953"
             ],
             [
              0.7777777777777778,
              "#fb9f3a"
             ],
             [
              0.8888888888888888,
              "#fdca26"
             ],
             [
              1,
              "#f0f921"
             ]
            ],
            "type": "heatmap"
           }
          ],
          "heatmapgl": [
           {
            "colorbar": {
             "outlinewidth": 0,
             "ticks": ""
            },
            "colorscale": [
             [
              0,
              "#0d0887"
             ],
             [
              0.1111111111111111,
              "#46039f"
             ],
             [
              0.2222222222222222,
              "#7201a8"
             ],
             [
              0.3333333333333333,
              "#9c179e"
             ],
             [
              0.4444444444444444,
              "#bd3786"
             ],
             [
              0.5555555555555556,
              "#d8576b"
             ],
             [
              0.6666666666666666,
              "#ed7953"
             ],
             [
              0.7777777777777778,
              "#fb9f3a"
             ],
             [
              0.8888888888888888,
              "#fdca26"
             ],
             [
              1,
              "#f0f921"
             ]
            ],
            "type": "heatmapgl"
           }
          ],
          "histogram": [
           {
            "marker": {
             "colorbar": {
              "outlinewidth": 0,
              "ticks": ""
             }
            },
            "type": "histogram"
           }
          ],
          "histogram2d": [
           {
            "colorbar": {
             "outlinewidth": 0,
             "ticks": ""
            },
            "colorscale": [
             [
              0,
              "#0d0887"
             ],
             [
              0.1111111111111111,
              "#46039f"
             ],
             [
              0.2222222222222222,
              "#7201a8"
             ],
             [
              0.3333333333333333,
              "#9c179e"
             ],
             [
              0.4444444444444444,
              "#bd3786"
             ],
             [
              0.5555555555555556,
              "#d8576b"
             ],
             [
              0.6666666666666666,
              "#ed7953"
             ],
             [
              0.7777777777777778,
              "#fb9f3a"
             ],
             [
              0.8888888888888888,
              "#fdca26"
             ],
             [
              1,
              "#f0f921"
             ]
            ],
            "type": "histogram2d"
           }
          ],
          "histogram2dcontour": [
           {
            "colorbar": {
             "outlinewidth": 0,
             "ticks": ""
            },
            "colorscale": [
             [
              0,
              "#0d0887"
             ],
             [
              0.1111111111111111,
              "#46039f"
             ],
             [
              0.2222222222222222,
              "#7201a8"
             ],
             [
              0.3333333333333333,
              "#9c179e"
             ],
             [
              0.4444444444444444,
              "#bd3786"
             ],
             [
              0.5555555555555556,
              "#d8576b"
             ],
             [
              0.6666666666666666,
              "#ed7953"
             ],
             [
              0.7777777777777778,
              "#fb9f3a"
             ],
             [
              0.8888888888888888,
              "#fdca26"
             ],
             [
              1,
              "#f0f921"
             ]
            ],
            "type": "histogram2dcontour"
           }
          ],
          "mesh3d": [
           {
            "colorbar": {
             "outlinewidth": 0,
             "ticks": ""
            },
            "type": "mesh3d"
           }
          ],
          "parcoords": [
           {
            "line": {
             "colorbar": {
              "outlinewidth": 0,
              "ticks": ""
             }
            },
            "type": "parcoords"
           }
          ],
          "pie": [
           {
            "automargin": true,
            "type": "pie"
           }
          ],
          "scatter": [
           {
            "marker": {
             "colorbar": {
              "outlinewidth": 0,
              "ticks": ""
             }
            },
            "type": "scatter"
           }
          ],
          "scatter3d": [
           {
            "line": {
             "colorbar": {
              "outlinewidth": 0,
              "ticks": ""
             }
            },
            "marker": {
             "colorbar": {
              "outlinewidth": 0,
              "ticks": ""
             }
            },
            "type": "scatter3d"
           }
          ],
          "scattercarpet": [
           {
            "marker": {
             "colorbar": {
              "outlinewidth": 0,
              "ticks": ""
             }
            },
            "type": "scattercarpet"
           }
          ],
          "scattergeo": [
           {
            "marker": {
             "colorbar": {
              "outlinewidth": 0,
              "ticks": ""
             }
            },
            "type": "scattergeo"
           }
          ],
          "scattergl": [
           {
            "marker": {
             "colorbar": {
              "outlinewidth": 0,
              "ticks": ""
             }
            },
            "type": "scattergl"
           }
          ],
          "scattermapbox": [
           {
            "marker": {
             "colorbar": {
              "outlinewidth": 0,
              "ticks": ""
             }
            },
            "type": "scattermapbox"
           }
          ],
          "scatterpolar": [
           {
            "marker": {
             "colorbar": {
              "outlinewidth": 0,
              "ticks": ""
             }
            },
            "type": "scatterpolar"
           }
          ],
          "scatterpolargl": [
           {
            "marker": {
             "colorbar": {
              "outlinewidth": 0,
              "ticks": ""
             }
            },
            "type": "scatterpolargl"
           }
          ],
          "scatterternary": [
           {
            "marker": {
             "colorbar": {
              "outlinewidth": 0,
              "ticks": ""
             }
            },
            "type": "scatterternary"
           }
          ],
          "surface": [
           {
            "colorbar": {
             "outlinewidth": 0,
             "ticks": ""
            },
            "colorscale": [
             [
              0,
              "#0d0887"
             ],
             [
              0.1111111111111111,
              "#46039f"
             ],
             [
              0.2222222222222222,
              "#7201a8"
             ],
             [
              0.3333333333333333,
              "#9c179e"
             ],
             [
              0.4444444444444444,
              "#bd3786"
             ],
             [
              0.5555555555555556,
              "#d8576b"
             ],
             [
              0.6666666666666666,
              "#ed7953"
             ],
             [
              0.7777777777777778,
              "#fb9f3a"
             ],
             [
              0.8888888888888888,
              "#fdca26"
             ],
             [
              1,
              "#f0f921"
             ]
            ],
            "type": "surface"
           }
          ],
          "table": [
           {
            "cells": {
             "fill": {
              "color": "#EBF0F8"
             },
             "line": {
              "color": "white"
             }
            },
            "header": {
             "fill": {
              "color": "#C8D4E3"
             },
             "line": {
              "color": "white"
             }
            },
            "type": "table"
           }
          ]
         },
         "layout": {
          "annotationdefaults": {
           "arrowcolor": "#2a3f5f",
           "arrowhead": 0,
           "arrowwidth": 1
          },
          "coloraxis": {
           "colorbar": {
            "outlinewidth": 0,
            "ticks": ""
           }
          },
          "colorscale": {
           "diverging": [
            [
             0,
             "#8e0152"
            ],
            [
             0.1,
             "#c51b7d"
            ],
            [
             0.2,
             "#de77ae"
            ],
            [
             0.3,
             "#f1b6da"
            ],
            [
             0.4,
             "#fde0ef"
            ],
            [
             0.5,
             "#f7f7f7"
            ],
            [
             0.6,
             "#e6f5d0"
            ],
            [
             0.7,
             "#b8e186"
            ],
            [
             0.8,
             "#7fbc41"
            ],
            [
             0.9,
             "#4d9221"
            ],
            [
             1,
             "#276419"
            ]
           ],
           "sequential": [
            [
             0,
             "#0d0887"
            ],
            [
             0.1111111111111111,
             "#46039f"
            ],
            [
             0.2222222222222222,
             "#7201a8"
            ],
            [
             0.3333333333333333,
             "#9c179e"
            ],
            [
             0.4444444444444444,
             "#bd3786"
            ],
            [
             0.5555555555555556,
             "#d8576b"
            ],
            [
             0.6666666666666666,
             "#ed7953"
            ],
            [
             0.7777777777777778,
             "#fb9f3a"
            ],
            [
             0.8888888888888888,
             "#fdca26"
            ],
            [
             1,
             "#f0f921"
            ]
           ],
           "sequentialminus": [
            [
             0,
             "#0d0887"
            ],
            [
             0.1111111111111111,
             "#46039f"
            ],
            [
             0.2222222222222222,
             "#7201a8"
            ],
            [
             0.3333333333333333,
             "#9c179e"
            ],
            [
             0.4444444444444444,
             "#bd3786"
            ],
            [
             0.5555555555555556,
             "#d8576b"
            ],
            [
             0.6666666666666666,
             "#ed7953"
            ],
            [
             0.7777777777777778,
             "#fb9f3a"
            ],
            [
             0.8888888888888888,
             "#fdca26"
            ],
            [
             1,
             "#f0f921"
            ]
           ]
          },
          "colorway": [
           "#636efa",
           "#EF553B",
           "#00cc96",
           "#ab63fa",
           "#FFA15A",
           "#19d3f3",
           "#FF6692",
           "#B6E880",
           "#FF97FF",
           "#FECB52"
          ],
          "font": {
           "color": "#2a3f5f"
          },
          "geo": {
           "bgcolor": "white",
           "lakecolor": "white",
           "landcolor": "#E5ECF6",
           "showlakes": true,
           "showland": true,
           "subunitcolor": "white"
          },
          "hoverlabel": {
           "align": "left"
          },
          "hovermode": "closest",
          "mapbox": {
           "style": "light"
          },
          "paper_bgcolor": "white",
          "plot_bgcolor": "#E5ECF6",
          "polar": {
           "angularaxis": {
            "gridcolor": "white",
            "linecolor": "white",
            "ticks": ""
           },
           "bgcolor": "#E5ECF6",
           "radialaxis": {
            "gridcolor": "white",
            "linecolor": "white",
            "ticks": ""
           }
          },
          "scene": {
           "xaxis": {
            "backgroundcolor": "#E5ECF6",
            "gridcolor": "white",
            "gridwidth": 2,
            "linecolor": "white",
            "showbackground": true,
            "ticks": "",
            "zerolinecolor": "white"
           },
           "yaxis": {
            "backgroundcolor": "#E5ECF6",
            "gridcolor": "white",
            "gridwidth": 2,
            "linecolor": "white",
            "showbackground": true,
            "ticks": "",
            "zerolinecolor": "white"
           },
           "zaxis": {
            "backgroundcolor": "#E5ECF6",
            "gridcolor": "white",
            "gridwidth": 2,
            "linecolor": "white",
            "showbackground": true,
            "ticks": "",
            "zerolinecolor": "white"
           }
          },
          "shapedefaults": {
           "line": {
            "color": "#2a3f5f"
           }
          },
          "ternary": {
           "aaxis": {
            "gridcolor": "white",
            "linecolor": "white",
            "ticks": ""
           },
           "baxis": {
            "gridcolor": "white",
            "linecolor": "white",
            "ticks": ""
           },
           "bgcolor": "#E5ECF6",
           "caxis": {
            "gridcolor": "white",
            "linecolor": "white",
            "ticks": ""
           }
          },
          "title": {
           "x": 0.05
          },
          "xaxis": {
           "automargin": true,
           "gridcolor": "white",
           "linecolor": "white",
           "ticks": "",
           "title": {
            "standoff": 15
           },
           "zerolinecolor": "white",
           "zerolinewidth": 2
          },
          "yaxis": {
           "automargin": true,
           "gridcolor": "white",
           "linecolor": "white",
           "ticks": "",
           "title": {
            "standoff": 15
           },
           "zerolinecolor": "white",
           "zerolinewidth": 2
          }
         }
        },
        "title": {
         "text": "COVID-19 spread across world"
        }
       }
      },
      "text/html": [
       "<div>\n",
       "        \n",
       "        \n",
       "            <div id=\"601b4c04-3f65-4997-abde-1ca6b2784c9e\" class=\"plotly-graph-div\" style=\"height:525px; width:100%;\"></div>\n",
       "            <script type=\"text/javascript\">\n",
       "                require([\"plotly\"], function(Plotly) {\n",
       "                    window.PLOTLYENV=window.PLOTLYENV || {};\n",
       "                    \n",
       "                if (document.getElementById(\"601b4c04-3f65-4997-abde-1ca6b2784c9e\")) {\n",
       "                    Plotly.newPlot(\n",
       "                        '601b4c04-3f65-4997-abde-1ca6b2784c9e',\n",
       "                        [{\"colorbar\": {\"bgcolor\": \"White\", \"title\": {\"text\": \"Confirmd number of cases \"}}, \"colorscale\": [[0.0, \"rgb(252, 222, 156)\"], [0.16666666666666666, \"rgb(250, 164, 118)\"], [0.3333333333333333, \"rgb(240, 116, 110)\"], [0.5, \"rgb(227, 79, 111)\"], [0.6666666666666666, \"rgb(220, 57, 119)\"], [0.8333333333333334, \"rgb(185, 37, 122)\"], [1.0, \"rgb(124, 29, 111)\"]], \"locationmode\": \"country names\", \"locations\": [\"US\", \"Russia\", \"Brazil\", \"United Kingdom\", \"Spain\", \"Italy\", \"France\", \"Germany\", \"Turkey\", \"Iran\", \"India\", \"Peru\", \"China\", \"Saudi Arabia\", \"Belgium\", \"Mexico\", \"Chile\", \"Netherlands\", \"Canada\", \"Pakistan\", \"Qatar\", \"Ecuador\", \"Belarus\", \"Sweden\", \"Switzerland\", \"Portugal\", \"Singapore\", \"Bangladesh\", \"United Arab Emirates\", \"Canada\", \"Ireland\", \"Poland\", \"Ukraine\", \"Indonesia\", \"South Africa\", \"Romania\", \"Colombia\", \"Kuwait\", \"Israel\", \"Japan\", \"Austria\", \"Egypt\", \"Dominican Republic\", \"Philippines\", \"Korea, South\", \"Denmark\", \"Serbia\", \"Panama\", \"Argentina\", \"Czechia\", \"Norway\", \"Afghanistan\", \"Bahrain\", \"Algeria\", \"Morocco\", \"Malaysia\", \"Kazakhstan\", \"Canada\", \"Nigeria\", \"Finland\", \"Moldova\", \"Ghana\", \"Oman\", \"Armenia\", \"Bolivia\", \"Luxembourg\", \"Iraq\", \"Hungary\", \"Cameroon\", \"Azerbaijan\", \"Australia\", \"Thailand\", \"Honduras\", \"Guinea\", \"Uzbekistan\", \"Greece\", \"Sudan\", \"Senegal\", \"Canada\", \"Bosnia and Herzegovina\", \"Bulgaria\", \"Croatia\", \"Cote d'Ivoire\", \"Guatemala\", \"Tajikistan\", \"Cuba\", \"North Macedonia\", \"Iceland\", \"Estonia\", \"Congo (Kinshasa)\", \"Djibouti\", \"China\", \"Australia\", \"Lithuania\", \"New Zealand\", \"Gabon\", \"Somalia\", \"El Salvador\", \"Slovakia\", \"Slovenia\", \"France\", \"China\", \"China\", \"Kyrgyzstan\", \"Maldives\", \"Australia\", \"China\", \"Canada\", \"Tunisia\", \"Guinea-Bissau\", \"Sri Lanka\", \"China\", \"Latvia\", \"China\", \"Kosovo\", \"Kenya\", \"Lebanon\", \"Albania\", \"China\", \"China\", \"Cyprus\", \"Niger\", \"Mali\", \"Costa Rica\", \"Paraguay\", \"Equatorial Guinea\", \"Burkina Faso\", \"China\", \"Zambia\", \"Andorra\", \"Venezuela\", \"Uruguay\", \"Diamond Princess\", \"Georgia\", \"China\", \"San Marino\", \"China\", \"Jordan\", \"Canada\", \"China\", \"China\", \"Malta\", \"China\", \"Australia\", \"United Kingdom\", \"Chad\", \"Sierra Leone\", \"Haiti\", \"Jamaica\", \"Tanzania\", \"France\", \"Taiwan*\", \"Australia\", \"Congo (Brazzaville)\", \"Nepal\", \"West Bank and Gaza\", \"Central African Republic\", \"Ethiopia\", \"China\", \"Togo\", \"United Kingdom\", \"Cabo Verde\", \"Mauritius\", \"China\", \"Madagascar\", \"Montenegro\", \"Vietnam\", \"Rwanda\", \"China\", \"South Sudan\", \"Canada\", \"Uganda\", \"Canada\", \"China\", \"Nicaragua\", \"Sao Tome and Principe\", \"Liberia\", \"Australia\", \"France\", \"China\", \"Eswatini\", \"China\", \"Burma\", \"France\", \"China\", \"Denmark\", \"China\", \"China\", \"Yemen\", \"France\", \"China\", \"China\", \"United Kingdom\", \"China\", \"Mozambique\", \"Brunei\", \"Mongolia\", \"China\", \"Mauritania\", \"Benin\", \"United Kingdom\", \"Guyana\", \"Cambodia\", \"Canada\", \"Trinidad and Tobago\", \"United Kingdom\", \"Australia\", \"Netherlands\", \"Monaco\", \"Bahamas\", \"Barbados\", \"Liechtenstein\", \"Netherlands\", \"China\", \"China\", \"Malawi\", \"Libya\", \"France\", \"Syria\", \"Angola\", \"Zimbabwe\", \"China\", \"Burundi\", \"France\", \"Eritrea\", \"Australia\", \"Canada\", \"Botswana\", \"Antigua and Barbuda\", \"Gambia\", \"Timor-Leste\", \"Grenada\", \"Bhutan\", \"Laos\", \"Belize\", \"Saint Lucia\", \"China\", \"France\", \"Fiji\", \"Saint Vincent and the Grenadines\", \"Dominica\", \"Netherlands\", \"Namibia\", \"Saint Kitts and Nevis\", \"Canada\", \"United Kingdom\", \"Holy See\", \"United Kingdom\", \"United Kingdom\", \"Canada\", \"Seychelles\", \"Comoros\", \"Suriname\", \"Denmark\", \"MS Zaandam\", \"United Kingdom\", \"Papua New Guinea\", \"France\", \"Western Sahara\", \"Netherlands\", \"Canada\", \"United Kingdom\", \"China\", \"Canada\", \"France\", \"Lesotho\", \"Canada\"], \"reversescale\": true, \"text\": [\"US\", \"Russia\", \"Brazil\", \"United Kingdom\", \"Spain\", \"Italy\", \"France\", \"Germany\", \"Turkey\", \"Iran\", \"India\", \"Peru\", \"China\", \"Saudi Arabia\", \"Belgium\", \"Mexico\", \"Chile\", \"Netherlands\", \"Canada\", \"Pakistan\", \"Qatar\", \"Ecuador\", \"Belarus\", \"Sweden\", \"Switzerland\", \"Portugal\", \"Singapore\", \"Bangladesh\", \"United Arab Emirates\", \"Canada\", \"Ireland\", \"Poland\", \"Ukraine\", \"Indonesia\", \"South Africa\", \"Romania\", \"Colombia\", \"Kuwait\", \"Israel\", \"Japan\", \"Austria\", \"Egypt\", \"Dominican Republic\", \"Philippines\", \"Korea, South\", \"Denmark\", \"Serbia\", \"Panama\", \"Argentina\", \"Czechia\", \"Norway\", \"Afghanistan\", \"Bahrain\", \"Algeria\", \"Morocco\", \"Malaysia\", \"Kazakhstan\", \"Canada\", \"Nigeria\", \"Finland\", \"Moldova\", \"Ghana\", \"Oman\", \"Armenia\", \"Bolivia\", \"Luxembourg\", \"Iraq\", \"Hungary\", \"Cameroon\", \"Azerbaijan\", \"Australia\", \"Thailand\", \"Honduras\", \"Guinea\", \"Uzbekistan\", \"Greece\", \"Sudan\", \"Senegal\", \"Canada\", \"Bosnia and Herzegovina\", \"Bulgaria\", \"Croatia\", \"Cote d'Ivoire\", \"Guatemala\", \"Tajikistan\", \"Cuba\", \"North Macedonia\", \"Iceland\", \"Estonia\", \"Congo (Kinshasa)\", \"Djibouti\", \"China\", \"Australia\", \"Lithuania\", \"New Zealand\", \"Gabon\", \"Somalia\", \"El Salvador\", \"Slovakia\", \"Slovenia\", \"France\", \"China\", \"China\", \"Kyrgyzstan\", \"Maldives\", \"Australia\", \"China\", \"Canada\", \"Tunisia\", \"Guinea-Bissau\", \"Sri Lanka\", \"China\", \"Latvia\", \"China\", \"Kosovo\", \"Kenya\", \"Lebanon\", \"Albania\", \"China\", \"China\", \"Cyprus\", \"Niger\", \"Mali\", \"Costa Rica\", \"Paraguay\", \"Equatorial Guinea\", \"Burkina Faso\", \"China\", \"Zambia\", \"Andorra\", \"Venezuela\", \"Uruguay\", \"Diamond Princess\", \"Georgia\", \"China\", \"San Marino\", \"China\", \"Jordan\", \"Canada\", \"China\", \"China\", \"Malta\", \"China\", \"Australia\", \"United Kingdom\", \"Chad\", \"Sierra Leone\", \"Haiti\", \"Jamaica\", \"Tanzania\", \"France\", \"Taiwan*\", \"Australia\", \"Congo (Brazzaville)\", \"Nepal\", \"West Bank and Gaza\", \"Central African Republic\", \"Ethiopia\", \"China\", \"Togo\", \"United Kingdom\", \"Cabo Verde\", \"Mauritius\", \"China\", \"Madagascar\", \"Montenegro\", \"Vietnam\", \"Rwanda\", \"China\", \"South Sudan\", \"Canada\", \"Uganda\", \"Canada\", \"China\", \"Nicaragua\", \"Sao Tome and Principe\", \"Liberia\", \"Australia\", \"France\", \"China\", \"Eswatini\", \"China\", \"Burma\", \"France\", \"China\", \"Denmark\", \"China\", \"China\", \"Yemen\", \"France\", \"China\", \"China\", \"United Kingdom\", \"China\", \"Mozambique\", \"Brunei\", \"Mongolia\", \"China\", \"Mauritania\", \"Benin\", \"United Kingdom\", \"Guyana\", \"Cambodia\", \"Canada\", \"Trinidad and Tobago\", \"United Kingdom\", \"Australia\", \"Netherlands\", \"Monaco\", \"Bahamas\", \"Barbados\", \"Liechtenstein\", \"Netherlands\", \"China\", \"China\", \"Malawi\", \"Libya\", \"France\", \"Syria\", \"Angola\", \"Zimbabwe\", \"China\", \"Burundi\", \"France\", \"Eritrea\", \"Australia\", \"Canada\", \"Botswana\", \"Antigua and Barbuda\", \"Gambia\", \"Timor-Leste\", \"Grenada\", \"Bhutan\", \"Laos\", \"Belize\", \"Saint Lucia\", \"China\", \"France\", \"Fiji\", \"Saint Vincent and the Grenadines\", \"Dominica\", \"Netherlands\", \"Namibia\", \"Saint Kitts and Nevis\", \"Canada\", \"United Kingdom\", \"Holy See\", \"United Kingdom\", \"United Kingdom\", \"Canada\", \"Seychelles\", \"Comoros\", \"Suriname\", \"Denmark\", \"MS Zaandam\", \"United Kingdom\", \"Papua New Guinea\", \"France\", \"Western Sahara\", \"Netherlands\", \"Canada\", \"United Kingdom\", \"China\", \"Canada\", \"France\", \"Lesotho\", \"Canada\"], \"type\": \"choropleth\", \"z\": [1528568.0, 299941.0, 271885.0, 248818.0, 232037.0, 226699.0, 178428.0, 177778.0, 151615.0, 124603.0, 106475.0, 99483.0, 68135.0, 59854.0, 55791.0, 54346.0, 49579.0, 44249.0, 44206.0, 43966.0, 35606.0, 34151.0, 31508.0, 30799.0, 30618.0, 29432.0, 28794.0, 25121.0, 25063.0, 24755.0, 24251.0, 19268.0, 18876.0, 18496.0, 17200.0, 17191.0, 16935.0, 16764.0, 16659.0, 16367.0, 16321.0, 13484.0, 13223.0, 12942.0, 11110.0, 11044.0, 10733.0, 9867.0, 8809.0, 8647.0, 8267.0, 7653.0, 7532.0, 7377.0, 7023.0, 6978.0, 6751.0, 6716.0, 6401.0, 6399.0, 6340.0, 6096.0, 5671.0, 5041.0, 4481.0, 3958.0, 3611.0, 3556.0, 3529.0, 3518.0, 3081.0, 3033.0, 2955.0, 2863.0, 2855.0, 2840.0, 2728.0, 2617.0, 2446.0, 2321.0, 2259.0, 2232.0, 2153.0, 2133.0, 1936.0, 1887.0, 1839.0, 1802.0, 1791.0, 1629.0, 1618.0, 1590.0, 1573.0, 1562.0, 1503.0, 1502.0, 1502.0, 1498.0, 1495.0, 1467.0, 1370.0, 1276.0, 1268.0, 1243.0, 1143.0, 1058.0, 1055.0, 1044.0, 1044.0, 1038.0, 1027.0, 1019.0, 1012.0, 991.0, 989.0, 963.0, 954.0, 949.0, 945.0, 937.0, 918.0, 914.0, 901.0, 882.0, 829.0, 825.0, 796.0, 788.0, 772.0, 761.0, 749.0, 738.0, 712.0, 707.0, 666.0, 655.0, 653.0, 649.0, 599.0, 593.0, 579.0, 569.0, 561.0, 557.0, 555.0, 545.0, 534.0, 533.0, 520.0, 509.0, 446.0, 440.0, 439.0, 420.0, 402.0, 391.0, 366.0, 365.0, 356.0, 338.0, 335.0, 335.0, 332.0, 328.0, 326.0, 324.0, 324.0, 308.0, 308.0, 290.0, 290.0, 260.0, 260.0, 254.0, 254.0, 251.0, 233.0, 228.0, 218.0, 216.0, 208.0, 198.0, 193.0, 192.0, 192.0, 187.0, 185.0, 169.0, 167.0, 155.0, 151.0, 149.0, 147.0, 147.0, 146.0, 141.0, 140.0, 139.0, 131.0, 130.0, 125.0, 125.0, 122.0, 120.0, 116.0, 111.0, 107.0, 101.0, 97.0, 96.0, 90.0, 82.0, 77.0, 76.0, 75.0, 70.0, 68.0, 60.0, 58.0, 52.0, 46.0, 45.0, 42.0, 39.0, 39.0, 29.0, 27.0, 25.0, 25.0, 24.0, 24.0, 22.0, 21.0, 19.0, 18.0, 18.0, 18.0, 18.0, 18.0, 17.0, 16.0, 16.0, 16.0, 15.0, 13.0, 13.0, 12.0, 12.0, 11.0, 11.0, 11.0, 11.0, 11.0, 11.0, 9.0, 8.0, 8.0, 6.0, 6.0, 6.0, 5.0, 3.0, 1.0, 1.0, 1.0, 1.0, null]}],\n",
       "                        {\"geo\": {\"showframe\": false}, \"template\": {\"data\": {\"bar\": [{\"error_x\": {\"color\": \"#2a3f5f\"}, \"error_y\": {\"color\": \"#2a3f5f\"}, \"marker\": {\"line\": {\"color\": \"#E5ECF6\", \"width\": 0.5}}, \"type\": \"bar\"}], \"barpolar\": [{\"marker\": {\"line\": {\"color\": \"#E5ECF6\", \"width\": 0.5}}, \"type\": \"barpolar\"}], \"carpet\": [{\"aaxis\": {\"endlinecolor\": \"#2a3f5f\", \"gridcolor\": \"white\", \"linecolor\": \"white\", \"minorgridcolor\": \"white\", \"startlinecolor\": \"#2a3f5f\"}, \"baxis\": {\"endlinecolor\": \"#2a3f5f\", \"gridcolor\": \"white\", \"linecolor\": \"white\", \"minorgridcolor\": \"white\", \"startlinecolor\": \"#2a3f5f\"}, \"type\": \"carpet\"}], \"choropleth\": [{\"colorbar\": {\"outlinewidth\": 0, \"ticks\": \"\"}, \"type\": \"choropleth\"}], \"contour\": [{\"colorbar\": {\"outlinewidth\": 0, \"ticks\": \"\"}, \"colorscale\": [[0.0, \"#0d0887\"], [0.1111111111111111, \"#46039f\"], [0.2222222222222222, \"#7201a8\"], [0.3333333333333333, \"#9c179e\"], [0.4444444444444444, \"#bd3786\"], [0.5555555555555556, \"#d8576b\"], [0.6666666666666666, \"#ed7953\"], [0.7777777777777778, \"#fb9f3a\"], [0.8888888888888888, \"#fdca26\"], [1.0, \"#f0f921\"]], \"type\": \"contour\"}], \"contourcarpet\": [{\"colorbar\": {\"outlinewidth\": 0, \"ticks\": \"\"}, \"type\": \"contourcarpet\"}], \"heatmap\": [{\"colorbar\": {\"outlinewidth\": 0, \"ticks\": \"\"}, \"colorscale\": [[0.0, \"#0d0887\"], [0.1111111111111111, \"#46039f\"], [0.2222222222222222, \"#7201a8\"], [0.3333333333333333, \"#9c179e\"], [0.4444444444444444, \"#bd3786\"], [0.5555555555555556, \"#d8576b\"], [0.6666666666666666, \"#ed7953\"], [0.7777777777777778, \"#fb9f3a\"], [0.8888888888888888, \"#fdca26\"], [1.0, \"#f0f921\"]], \"type\": \"heatmap\"}], \"heatmapgl\": [{\"colorbar\": {\"outlinewidth\": 0, \"ticks\": \"\"}, \"colorscale\": [[0.0, \"#0d0887\"], [0.1111111111111111, \"#46039f\"], [0.2222222222222222, \"#7201a8\"], [0.3333333333333333, \"#9c179e\"], [0.4444444444444444, \"#bd3786\"], [0.5555555555555556, \"#d8576b\"], [0.6666666666666666, \"#ed7953\"], [0.7777777777777778, \"#fb9f3a\"], [0.8888888888888888, \"#fdca26\"], [1.0, \"#f0f921\"]], \"type\": \"heatmapgl\"}], \"histogram\": [{\"marker\": {\"colorbar\": {\"outlinewidth\": 0, \"ticks\": \"\"}}, \"type\": \"histogram\"}], \"histogram2d\": [{\"colorbar\": {\"outlinewidth\": 0, \"ticks\": \"\"}, \"colorscale\": [[0.0, \"#0d0887\"], [0.1111111111111111, \"#46039f\"], [0.2222222222222222, \"#7201a8\"], [0.3333333333333333, \"#9c179e\"], [0.4444444444444444, \"#bd3786\"], [0.5555555555555556, \"#d8576b\"], [0.6666666666666666, \"#ed7953\"], [0.7777777777777778, \"#fb9f3a\"], [0.8888888888888888, \"#fdca26\"], [1.0, \"#f0f921\"]], \"type\": \"histogram2d\"}], \"histogram2dcontour\": [{\"colorbar\": {\"outlinewidth\": 0, \"ticks\": \"\"}, \"colorscale\": [[0.0, \"#0d0887\"], [0.1111111111111111, \"#46039f\"], [0.2222222222222222, \"#7201a8\"], [0.3333333333333333, \"#9c179e\"], [0.4444444444444444, \"#bd3786\"], [0.5555555555555556, \"#d8576b\"], [0.6666666666666666, \"#ed7953\"], [0.7777777777777778, \"#fb9f3a\"], [0.8888888888888888, \"#fdca26\"], [1.0, \"#f0f921\"]], \"type\": \"histogram2dcontour\"}], \"mesh3d\": [{\"colorbar\": {\"outlinewidth\": 0, \"ticks\": \"\"}, \"type\": \"mesh3d\"}], \"parcoords\": [{\"line\": {\"colorbar\": {\"outlinewidth\": 0, \"ticks\": \"\"}}, \"type\": \"parcoords\"}], \"pie\": [{\"automargin\": true, \"type\": \"pie\"}], \"scatter\": [{\"marker\": {\"colorbar\": {\"outlinewidth\": 0, \"ticks\": \"\"}}, \"type\": \"scatter\"}], \"scatter3d\": [{\"line\": {\"colorbar\": {\"outlinewidth\": 0, \"ticks\": \"\"}}, \"marker\": {\"colorbar\": {\"outlinewidth\": 0, \"ticks\": \"\"}}, \"type\": \"scatter3d\"}], \"scattercarpet\": [{\"marker\": {\"colorbar\": {\"outlinewidth\": 0, \"ticks\": \"\"}}, \"type\": \"scattercarpet\"}], \"scattergeo\": [{\"marker\": {\"colorbar\": {\"outlinewidth\": 0, \"ticks\": \"\"}}, \"type\": \"scattergeo\"}], \"scattergl\": [{\"marker\": {\"colorbar\": {\"outlinewidth\": 0, \"ticks\": \"\"}}, \"type\": \"scattergl\"}], \"scattermapbox\": [{\"marker\": {\"colorbar\": {\"outlinewidth\": 0, \"ticks\": \"\"}}, \"type\": \"scattermapbox\"}], \"scatterpolar\": [{\"marker\": {\"colorbar\": {\"outlinewidth\": 0, \"ticks\": \"\"}}, \"type\": \"scatterpolar\"}], \"scatterpolargl\": [{\"marker\": {\"colorbar\": {\"outlinewidth\": 0, \"ticks\": \"\"}}, \"type\": \"scatterpolargl\"}], \"scatterternary\": [{\"marker\": {\"colorbar\": {\"outlinewidth\": 0, \"ticks\": \"\"}}, \"type\": \"scatterternary\"}], \"surface\": [{\"colorbar\": {\"outlinewidth\": 0, \"ticks\": \"\"}, \"colorscale\": [[0.0, \"#0d0887\"], [0.1111111111111111, \"#46039f\"], [0.2222222222222222, \"#7201a8\"], [0.3333333333333333, \"#9c179e\"], [0.4444444444444444, \"#bd3786\"], [0.5555555555555556, \"#d8576b\"], [0.6666666666666666, \"#ed7953\"], [0.7777777777777778, \"#fb9f3a\"], [0.8888888888888888, \"#fdca26\"], [1.0, \"#f0f921\"]], \"type\": \"surface\"}], \"table\": [{\"cells\": {\"fill\": {\"color\": \"#EBF0F8\"}, \"line\": {\"color\": \"white\"}}, \"header\": {\"fill\": {\"color\": \"#C8D4E3\"}, \"line\": {\"color\": \"white\"}}, \"type\": \"table\"}]}, \"layout\": {\"annotationdefaults\": {\"arrowcolor\": \"#2a3f5f\", \"arrowhead\": 0, \"arrowwidth\": 1}, \"coloraxis\": {\"colorbar\": {\"outlinewidth\": 0, \"ticks\": \"\"}}, \"colorscale\": {\"diverging\": [[0, \"#8e0152\"], [0.1, \"#c51b7d\"], [0.2, \"#de77ae\"], [0.3, \"#f1b6da\"], [0.4, \"#fde0ef\"], [0.5, \"#f7f7f7\"], [0.6, \"#e6f5d0\"], [0.7, \"#b8e186\"], [0.8, \"#7fbc41\"], [0.9, \"#4d9221\"], [1, \"#276419\"]], \"sequential\": [[0.0, \"#0d0887\"], [0.1111111111111111, \"#46039f\"], [0.2222222222222222, \"#7201a8\"], [0.3333333333333333, \"#9c179e\"], [0.4444444444444444, \"#bd3786\"], [0.5555555555555556, \"#d8576b\"], [0.6666666666666666, \"#ed7953\"], [0.7777777777777778, \"#fb9f3a\"], [0.8888888888888888, \"#fdca26\"], [1.0, \"#f0f921\"]], \"sequentialminus\": [[0.0, \"#0d0887\"], [0.1111111111111111, \"#46039f\"], [0.2222222222222222, \"#7201a8\"], [0.3333333333333333, \"#9c179e\"], [0.4444444444444444, \"#bd3786\"], [0.5555555555555556, \"#d8576b\"], [0.6666666666666666, \"#ed7953\"], [0.7777777777777778, \"#fb9f3a\"], [0.8888888888888888, \"#fdca26\"], [1.0, \"#f0f921\"]]}, \"colorway\": [\"#636efa\", \"#EF553B\", \"#00cc96\", \"#ab63fa\", \"#FFA15A\", \"#19d3f3\", \"#FF6692\", \"#B6E880\", \"#FF97FF\", \"#FECB52\"], \"font\": {\"color\": \"#2a3f5f\"}, \"geo\": {\"bgcolor\": \"white\", \"lakecolor\": \"white\", \"landcolor\": \"#E5ECF6\", \"showlakes\": true, \"showland\": true, \"subunitcolor\": \"white\"}, \"hoverlabel\": {\"align\": \"left\"}, \"hovermode\": \"closest\", \"mapbox\": {\"style\": \"light\"}, \"paper_bgcolor\": \"white\", \"plot_bgcolor\": \"#E5ECF6\", \"polar\": {\"angularaxis\": {\"gridcolor\": \"white\", \"linecolor\": \"white\", \"ticks\": \"\"}, \"bgcolor\": \"#E5ECF6\", \"radialaxis\": {\"gridcolor\": \"white\", \"linecolor\": \"white\", \"ticks\": \"\"}}, \"scene\": {\"xaxis\": {\"backgroundcolor\": \"#E5ECF6\", \"gridcolor\": \"white\", \"gridwidth\": 2, \"linecolor\": \"white\", \"showbackground\": true, \"ticks\": \"\", \"zerolinecolor\": \"white\"}, \"yaxis\": {\"backgroundcolor\": \"#E5ECF6\", \"gridcolor\": \"white\", \"gridwidth\": 2, \"linecolor\": \"white\", \"showbackground\": true, \"ticks\": \"\", \"zerolinecolor\": \"white\"}, \"zaxis\": {\"backgroundcolor\": \"#E5ECF6\", \"gridcolor\": \"white\", \"gridwidth\": 2, \"linecolor\": \"white\", \"showbackground\": true, \"ticks\": \"\", \"zerolinecolor\": \"white\"}}, \"shapedefaults\": {\"line\": {\"color\": \"#2a3f5f\"}}, \"ternary\": {\"aaxis\": {\"gridcolor\": \"white\", \"linecolor\": \"white\", \"ticks\": \"\"}, \"baxis\": {\"gridcolor\": \"white\", \"linecolor\": \"white\", \"ticks\": \"\"}, \"bgcolor\": \"#E5ECF6\", \"caxis\": {\"gridcolor\": \"white\", \"linecolor\": \"white\", \"ticks\": \"\"}}, \"title\": {\"x\": 0.05}, \"xaxis\": {\"automargin\": true, \"gridcolor\": \"white\", \"linecolor\": \"white\", \"ticks\": \"\", \"title\": {\"standoff\": 15}, \"zerolinecolor\": \"white\", \"zerolinewidth\": 2}, \"yaxis\": {\"automargin\": true, \"gridcolor\": \"white\", \"linecolor\": \"white\", \"ticks\": \"\", \"title\": {\"standoff\": 15}, \"zerolinecolor\": \"white\", \"zerolinewidth\": 2}}}, \"title\": {\"text\": \"COVID-19 spread across world\"}},\n",
       "                        {\"responsive\": true}\n",
       "                    ).then(function(){\n",
       "                            \n",
       "var gd = document.getElementById('601b4c04-3f65-4997-abde-1ca6b2784c9e');\n",
       "var x = new MutationObserver(function (mutations, observer) {{\n",
       "        var display = window.getComputedStyle(gd).display;\n",
       "        if (!display || display === 'none') {{\n",
       "            console.log([gd, 'removed!']);\n",
       "            Plotly.purge(gd);\n",
       "            observer.disconnect();\n",
       "        }}\n",
       "}});\n",
       "\n",
       "// Listen for the removal of the full notebook cells\n",
       "var notebookContainer = gd.closest('#notebook-container');\n",
       "if (notebookContainer) {{\n",
       "    x.observe(notebookContainer, {childList: true});\n",
       "}}\n",
       "\n",
       "// Listen for the clearing of the current output cell\n",
       "var outputEl = gd.closest('.output');\n",
       "if (outputEl) {{\n",
       "    x.observe(outputEl, {childList: true});\n",
       "}}\n",
       "\n",
       "                        })\n",
       "                };\n",
       "                });\n",
       "            </script>\n",
       "        </div>"
      ]
     },
     "metadata": {},
     "output_type": "display_data"
    },
    {
     "data": {
      "text/plain": [
       "<Figure size 432x288 with 0 Axes>"
      ]
     },
     "metadata": {},
     "output_type": "display_data"
    }
   ],
   "source": [
    "data = dict(\n",
    "        type = 'choropleth',\n",
    "        colorscale = 'sunsetdark',\n",
    "        reversescale = True,\n",
    "        locations = df_countries.index,\n",
    "        locationmode = \"country names\",\n",
    "        z = df_countries['Confirmed'],\n",
    "        text = df_countries.index,\n",
    "        colorbar = {'title' : 'Confirmd number of cases ',\n",
    "                    #'titlefont':'',\n",
    "                    'bgcolor':'White'}\n",
    "      ) \n",
    "\n",
    "layout = dict(title = 'COVID-19 spread across world',\n",
    "                geo = dict(showframe = False)\n",
    "             )\n",
    "choromap = go.Figure(data = [data],layout = layout)\n",
    "iplot(choromap)\n",
    "plt.savefig('Global spread.png')"
   ]
  },
  {
   "cell_type": "code",
   "execution_count": null,
   "metadata": {},
   "outputs": [],
   "source": []
  },
  {
   "cell_type": "code",
   "execution_count": 570,
   "metadata": {},
   "outputs": [],
   "source": [
    "#covid_data['Province/State'].isnull()"
   ]
  },
  {
   "cell_type": "code",
   "execution_count": 527,
   "metadata": {},
   "outputs": [],
   "source": [
    "ctr_date_data = covid_data[covid_data['Province/State'].isnull()]\n",
    "ctr_date_data.drop(['Province/State','Lat','Long'],axis=1,inplace=True)"
   ]
  },
  {
   "cell_type": "code",
   "execution_count": null,
   "metadata": {},
   "outputs": [],
   "source": []
  },
  {
   "cell_type": "code",
   "execution_count": null,
   "metadata": {},
   "outputs": [],
   "source": []
  },
  {
   "cell_type": "code",
   "execution_count": 528,
   "metadata": {},
   "outputs": [],
   "source": [
    "#df_countries_11 = df_countries.head(11)\n",
    "ctr_date_data  = ctr_date_data.reset_index().rename(columns={'Country/Region':'Country'})\n",
    "ctr_date_data.set_index('Country',inplace=True)"
   ]
  },
  {
   "cell_type": "code",
   "execution_count": null,
   "metadata": {},
   "outputs": [],
   "source": []
  },
  {
   "cell_type": "code",
   "execution_count": 470,
   "metadata": {
    "scrolled": true
   },
   "outputs": [
    {
     "data": {
      "text/html": [
       "<div>\n",
       "<style scoped>\n",
       "    .dataframe tbody tr th:only-of-type {\n",
       "        vertical-align: middle;\n",
       "    }\n",
       "\n",
       "    .dataframe tbody tr th {\n",
       "        vertical-align: top;\n",
       "    }\n",
       "\n",
       "    .dataframe thead th {\n",
       "        text-align: right;\n",
       "    }\n",
       "</style>\n",
       "<table border=\"1\" class=\"dataframe\">\n",
       "  <thead>\n",
       "    <tr style=\"text-align: right;\">\n",
       "      <th></th>\n",
       "      <th>Date</th>\n",
       "      <th>Confirmed</th>\n",
       "      <th>Recovered</th>\n",
       "      <th>Deaths</th>\n",
       "    </tr>\n",
       "    <tr>\n",
       "      <th>Country</th>\n",
       "      <th></th>\n",
       "      <th></th>\n",
       "      <th></th>\n",
       "      <th></th>\n",
       "    </tr>\n",
       "  </thead>\n",
       "  <tbody>\n",
       "    <tr>\n",
       "      <th>Afghanistan</th>\n",
       "      <td>2020-01-22</td>\n",
       "      <td>0.0</td>\n",
       "      <td>0.0</td>\n",
       "      <td>0.0</td>\n",
       "    </tr>\n",
       "    <tr>\n",
       "      <th>Afghanistan</th>\n",
       "      <td>2020-01-23</td>\n",
       "      <td>0.0</td>\n",
       "      <td>0.0</td>\n",
       "      <td>0.0</td>\n",
       "    </tr>\n",
       "    <tr>\n",
       "      <th>Afghanistan</th>\n",
       "      <td>2020-01-24</td>\n",
       "      <td>0.0</td>\n",
       "      <td>0.0</td>\n",
       "      <td>0.0</td>\n",
       "    </tr>\n",
       "    <tr>\n",
       "      <th>Afghanistan</th>\n",
       "      <td>2020-01-25</td>\n",
       "      <td>0.0</td>\n",
       "      <td>0.0</td>\n",
       "      <td>0.0</td>\n",
       "    </tr>\n",
       "    <tr>\n",
       "      <th>Afghanistan</th>\n",
       "      <td>2020-01-26</td>\n",
       "      <td>0.0</td>\n",
       "      <td>0.0</td>\n",
       "      <td>0.0</td>\n",
       "    </tr>\n",
       "  </tbody>\n",
       "</table>\n",
       "</div>"
      ],
      "text/plain": [
       "                   Date  Confirmed  Recovered  Deaths\n",
       "Country                                              \n",
       "Afghanistan  2020-01-22        0.0        0.0     0.0\n",
       "Afghanistan  2020-01-23        0.0        0.0     0.0\n",
       "Afghanistan  2020-01-24        0.0        0.0     0.0\n",
       "Afghanistan  2020-01-25        0.0        0.0     0.0\n",
       "Afghanistan  2020-01-26        0.0        0.0     0.0"
      ]
     },
     "execution_count": 470,
     "metadata": {},
     "output_type": "execute_result"
    }
   ],
   "source": [
    "ctr_date_data.head()"
   ]
  },
  {
   "cell_type": "markdown",
   "metadata": {},
   "source": [
    "## Counting the number of days since the dayt 0th corona patient found"
   ]
  },
  {
   "cell_type": "code",
   "execution_count": 537,
   "metadata": {},
   "outputs": [],
   "source": [
    "ctr_date_data.drop('index',axis=1,inplace=True)"
   ]
  },
  {
   "cell_type": "code",
   "execution_count": 608,
   "metadata": {},
   "outputs": [],
   "source": [
    "days = ctr_date_data[ctr_date_data.index == 'Afghanistan'].count()\n",
    "day = days['Date']\n",
    "#day = days[days.index == 'Afghanistan']\n",
    "#day"
   ]
  },
  {
   "cell_type": "markdown",
   "metadata": {},
   "source": [
    "## Plotting a graph for top 10 countries and comparing it with India"
   ]
  },
  {
   "cell_type": "code",
   "execution_count": 633,
   "metadata": {},
   "outputs": [
    {
     "data": {
      "image/png": "[encoded data removed]",
      "text/plain": [
       "<Figure size 1080x864 with 1 Axes>"
      ]
     },
     "metadata": {
      "needs_background": "light"
     },
     "output_type": "display_data"
    }
   ],
   "source": [
    "#day\n",
    "f = plt.figure(figsize=(15,12))\n",
    "ax = f.add_subplot(111)\n",
    "for i,country in enumerate(ctr_date_data.groupby('Country').count().index):\n",
    "    t = ctr_date_data.loc[ctr_date_data.index== country].values\n",
    "    date = np.arange(0,len(t[:day]))\n",
    "    xnew = np.linspace(date.min(), date.max(), day)\n",
    "    #t[:-1]\n",
    "    f = make_interp_spline(date, t[:,1:2], k=1)\n",
    "    norm = f(xnew)\n",
    "    if country in ('US','India','Spain','Russia','United Kingdome','Italy','Germany','Turkey','France','Brazil'):\n",
    "        if country == 'India':\n",
    "            marker_style = dict(linewidth=4, linestyle='-', marker='o',markersize=10, markerfacecolor='#150783')\n",
    "            plt.plot(xnew,norm,\"--\",label = country,**marker_style)\n",
    "        else:\n",
    "            plt.plot(xnew,norm,'-o',label = country,linewidth =3, markevery=[-1])\n",
    "\n",
    "plt.tick_params(labelsize = 14)        \n",
    "plt.xticks(np.arange(0,day,7),[ \"D\"+str(i) for i in range(day)][::7]) \n",
    "\n",
    "\n",
    "plt.xlabel(\"Days\",fontsize=17)\n",
    "plt.ylabel(\"Total Confirmed Cases\",fontsize=17)\n",
    "plt.title(\"Comparison of Different Countries and India\",fontsize=15)\n",
    "plt.legend(loc = \"center right\")\n",
    "plt.yscale(\"symlog\")\n",
    "plt.grid(which=\"both\",color='gray', linestyle='-', linewidth=1)\n",
    "plt.savefig('Trend Comparison with India (confirmed).png')\n",
    "plt.show()\n"
   ]
  },
  {
   "cell_type": "code",
   "execution_count": null,
   "metadata": {},
   "outputs": [],
   "source": []
  },
  {
   "cell_type": "code",
   "execution_count": null,
   "metadata": {},
   "outputs": [],
   "source": []
  },
  {
   "cell_type": "code",
   "execution_count": null,
   "metadata": {},
   "outputs": [],
   "source": []
  },
  {
   "cell_type": "code",
   "execution_count": null,
   "metadata": {},
   "outputs": [],
   "source": []
  },
  {
   "cell_type": "code",
   "execution_count": null,
   "metadata": {},
   "outputs": [],
   "source": []
  },
  {
   "cell_type": "code",
   "execution_count": null,
   "metadata": {},
   "outputs": [],
   "source": []
  },
  {
   "cell_type": "code",
   "execution_count": null,
   "metadata": {},
   "outputs": [],
   "source": []
  },
  {
   "cell_type": "code",
   "execution_count": null,
   "metadata": {},
   "outputs": [],
   "source": []
  },
  {
   "cell_type": "code",
   "execution_count": null,
   "metadata": {},
   "outputs": [],
   "source": []
  },
  {
   "cell_type": "code",
   "execution_count": null,
   "metadata": {},
   "outputs": [],
   "source": []
  }
 ],
 "metadata": {
  "kernelspec": {
   "display_name": "Python 3",
   "language": "python",
   "name": "python3"
  },
  "language_info": {
   "codemirror_mode": {
    "name": "ipython",
    "version": 3
   },
   "file_extension": ".py",
   "mimetype": "text/x-python",
   "name": "python",
   "nbconvert_exporter": "python",
   "pygments_lexer": "ipython3",
   "version": "3.7.3"
  }
 },
 "nbformat": 4,
 "nbformat_minor": 2
}
