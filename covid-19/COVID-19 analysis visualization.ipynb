{
 "cells": [
  {
   "cell_type": "markdown",
   "metadata": {},
   "source": [
    "## Importing libraries"
   ]
  },
  {
   "cell_type": "code",
   "execution_count": 640,
   "metadata": {},
   "outputs": [],
   "source": [
    "import pandas as pd\n",
    "import numpy as np\n",
    "\n",
    "#Libraries for visualization\n",
    "import matplotlib.pyplot as plt \n",
    "import seaborn as sns\n",
    "\n",
    "import cufflinks as cf\n",
    "\n",
    "from plotly import __version__\n",
    "from plotly.offline import download_plotlyjs, init_notebook_mode, plot, iplot\n",
    "\n",
    "from scipy.interpolate import make_interp_spline, BSpline\n",
    "\n",
    "%matplotlib inline"
   ]
  },
  {
   "cell_type": "markdown",
   "metadata": {},
   "source": [
    "## Importing COVID-19 glibal data from the git repository"
   ]
  },
  {
   "cell_type": "code",
   "execution_count": 641,
   "metadata": {},
   "outputs": [],
   "source": [
    "covid_data = pd.read_csv('https://raw.githubusercontent.com/datasets/covid-19/master/data/time-series-19-covid-combined.csv')"
   ]
  },
  {
   "cell_type": "code",
   "execution_count": 644,
   "metadata": {},
   "outputs": [
    {
     "data": {
      "text/html": [
       "<div>\n",
       "<style scoped>\n",
       "    .dataframe tbody tr th:only-of-type {\n",
       "        vertical-align: middle;\n",
       "    }\n",
       "\n",
       "    .dataframe tbody tr th {\n",
       "        vertical-align: top;\n",
       "    }\n",
       "\n",
       "    .dataframe thead th {\n",
       "        text-align: right;\n",
       "    }\n",
       "</style>\n",
       "<table border=\"1\" class=\"dataframe\">\n",
       "  <thead>\n",
       "    <tr style=\"text-align: right;\">\n",
       "      <th></th>\n",
       "      <th>Date</th>\n",
       "      <th>Country/Region</th>\n",
       "      <th>Province/State</th>\n",
       "      <th>Lat</th>\n",
       "      <th>Long</th>\n",
       "      <th>Confirmed</th>\n",
       "      <th>Recovered</th>\n",
       "      <th>Deaths</th>\n",
       "    </tr>\n",
       "  </thead>\n",
       "  <tbody>\n",
       "    <tr>\n",
       "      <th>29523</th>\n",
       "      <td>2020-05-21</td>\n",
       "      <td>US</td>\n",
       "      <td>NaN</td>\n",
       "      <td>37.0902</td>\n",
       "      <td>-95.7129</td>\n",
       "      <td>1577147.0</td>\n",
       "      <td>298418.0</td>\n",
       "      <td>94702.0</td>\n",
       "    </tr>\n",
       "    <tr>\n",
       "      <th>25409</th>\n",
       "      <td>2020-05-21</td>\n",
       "      <td>Russia</td>\n",
       "      <td>NaN</td>\n",
       "      <td>60.0000</td>\n",
       "      <td>90.0000</td>\n",
       "      <td>317554.0</td>\n",
       "      <td>92681.0</td>\n",
       "      <td>3099.0</td>\n",
       "    </tr>\n",
       "    <tr>\n",
       "      <th>3750</th>\n",
       "      <td>2020-05-21</td>\n",
       "      <td>Brazil</td>\n",
       "      <td>NaN</td>\n",
       "      <td>-14.2350</td>\n",
       "      <td>-51.9253</td>\n",
       "      <td>310087.0</td>\n",
       "      <td>125960.0</td>\n",
       "      <td>20047.0</td>\n",
       "    </tr>\n",
       "    <tr>\n",
       "      <th>30007</th>\n",
       "      <td>2020-05-21</td>\n",
       "      <td>United Kingdom</td>\n",
       "      <td>NaN</td>\n",
       "      <td>55.3781</td>\n",
       "      <td>-3.4360</td>\n",
       "      <td>250908.0</td>\n",
       "      <td>0.0</td>\n",
       "      <td>36042.0</td>\n",
       "    </tr>\n",
       "    <tr>\n",
       "      <th>27587</th>\n",
       "      <td>2020-05-21</td>\n",
       "      <td>Spain</td>\n",
       "      <td>NaN</td>\n",
       "      <td>40.0000</td>\n",
       "      <td>-4.0000</td>\n",
       "      <td>233037.0</td>\n",
       "      <td>150376.0</td>\n",
       "      <td>27940.0</td>\n",
       "    </tr>\n",
       "  </tbody>\n",
       "</table>\n",
       "</div>"
      ],
      "text/plain": [
       "             Date  Country/Region Province/State      Lat     Long  Confirmed  \\\n",
       "29523  2020-05-21              US            NaN  37.0902 -95.7129  1577147.0   \n",
       "25409  2020-05-21          Russia            NaN  60.0000  90.0000   317554.0   \n",
       "3750   2020-05-21          Brazil            NaN -14.2350 -51.9253   310087.0   \n",
       "30007  2020-05-21  United Kingdom            NaN  55.3781  -3.4360   250908.0   \n",
       "27587  2020-05-21           Spain            NaN  40.0000  -4.0000   233037.0   \n",
       "\n",
       "       Recovered   Deaths  \n",
       "29523   298418.0  94702.0  \n",
       "25409    92681.0   3099.0  \n",
       "3750    125960.0  20047.0  \n",
       "30007        0.0  36042.0  \n",
       "27587   150376.0  27940.0  "
      ]
     },
     "execution_count": 644,
     "metadata": {},
     "output_type": "execute_result"
    }
   ],
   "source": [
    "covid_data[covid_data['Date'] == '2020-05-21'].sort_values('Confirmed',ascending=False).head()"
   ]
  },
  {
   "cell_type": "markdown",
   "metadata": {},
   "source": [
    "## Exploratory data analysis"
   ]
  },
  {
   "cell_type": "markdown",
   "metadata": {},
   "source": [
    "Dataset contains data as as per province and state as well, removing those data will give us country wise count.\n",
    "Fetching the the current date count will give the latest summed globel data "
   ]
  },
  {
   "cell_type": "code",
   "execution_count": 649,
   "metadata": {},
   "outputs": [],
   "source": [
    "temp = covid_data[covid_data['Province/State'].isnull()]"
   ]
  },
  {
   "cell_type": "code",
   "execution_count": 650,
   "metadata": {},
   "outputs": [],
   "source": [
    "df_countries = temp[temp['Date'] == '2020-05-21'].sort_values('Confirmed',ascending=False)"
   ]
  },
  {
   "cell_type": "code",
   "execution_count": 651,
   "metadata": {},
   "outputs": [],
   "source": [
    "df_countries = covid_data[covid_data['Date'] == '2020-05-21'].sort_values('Confirmed',ascending=False)"
   ]
  },
  {
   "cell_type": "code",
   "execution_count": 652,
   "metadata": {},
   "outputs": [
    {
     "data": {
      "text/html": [
       "<div>\n",
       "<style scoped>\n",
       "    .dataframe tbody tr th:only-of-type {\n",
       "        vertical-align: middle;\n",
       "    }\n",
       "\n",
       "    .dataframe tbody tr th {\n",
       "        vertical-align: top;\n",
       "    }\n",
       "\n",
       "    .dataframe thead th {\n",
       "        text-align: right;\n",
       "    }\n",
       "</style>\n",
       "<table border=\"1\" class=\"dataframe\">\n",
       "  <thead>\n",
       "    <tr style=\"text-align: right;\">\n",
       "      <th></th>\n",
       "      <th>Date</th>\n",
       "      <th>Country/Region</th>\n",
       "      <th>Province/State</th>\n",
       "      <th>Lat</th>\n",
       "      <th>Long</th>\n",
       "      <th>Confirmed</th>\n",
       "      <th>Recovered</th>\n",
       "      <th>Deaths</th>\n",
       "    </tr>\n",
       "  </thead>\n",
       "  <tbody>\n",
       "    <tr>\n",
       "      <th>29523</th>\n",
       "      <td>2020-05-21</td>\n",
       "      <td>US</td>\n",
       "      <td>NaN</td>\n",
       "      <td>37.0902</td>\n",
       "      <td>-95.7129</td>\n",
       "      <td>1577147.0</td>\n",
       "      <td>298418.0</td>\n",
       "      <td>94702.0</td>\n",
       "    </tr>\n",
       "    <tr>\n",
       "      <th>25409</th>\n",
       "      <td>2020-05-21</td>\n",
       "      <td>Russia</td>\n",
       "      <td>NaN</td>\n",
       "      <td>60.0000</td>\n",
       "      <td>90.0000</td>\n",
       "      <td>317554.0</td>\n",
       "      <td>92681.0</td>\n",
       "      <td>3099.0</td>\n",
       "    </tr>\n",
       "    <tr>\n",
       "      <th>3750</th>\n",
       "      <td>2020-05-21</td>\n",
       "      <td>Brazil</td>\n",
       "      <td>NaN</td>\n",
       "      <td>-14.2350</td>\n",
       "      <td>-51.9253</td>\n",
       "      <td>310087.0</td>\n",
       "      <td>125960.0</td>\n",
       "      <td>20047.0</td>\n",
       "    </tr>\n",
       "    <tr>\n",
       "      <th>30007</th>\n",
       "      <td>2020-05-21</td>\n",
       "      <td>United Kingdom</td>\n",
       "      <td>NaN</td>\n",
       "      <td>55.3781</td>\n",
       "      <td>-3.4360</td>\n",
       "      <td>250908.0</td>\n",
       "      <td>0.0</td>\n",
       "      <td>36042.0</td>\n",
       "    </tr>\n",
       "    <tr>\n",
       "      <th>27587</th>\n",
       "      <td>2020-05-21</td>\n",
       "      <td>Spain</td>\n",
       "      <td>NaN</td>\n",
       "      <td>40.0000</td>\n",
       "      <td>-4.0000</td>\n",
       "      <td>233037.0</td>\n",
       "      <td>150376.0</td>\n",
       "      <td>27940.0</td>\n",
       "    </tr>\n",
       "  </tbody>\n",
       "</table>\n",
       "</div>"
      ],
      "text/plain": [
       "             Date  Country/Region Province/State      Lat     Long  Confirmed  \\\n",
       "29523  2020-05-21              US            NaN  37.0902 -95.7129  1577147.0   \n",
       "25409  2020-05-21          Russia            NaN  60.0000  90.0000   317554.0   \n",
       "3750   2020-05-21          Brazil            NaN -14.2350 -51.9253   310087.0   \n",
       "30007  2020-05-21  United Kingdom            NaN  55.3781  -3.4360   250908.0   \n",
       "27587  2020-05-21           Spain            NaN  40.0000  -4.0000   233037.0   \n",
       "\n",
       "       Recovered   Deaths  \n",
       "29523   298418.0  94702.0  \n",
       "25409    92681.0   3099.0  \n",
       "3750    125960.0  20047.0  \n",
       "30007        0.0  36042.0  \n",
       "27587   150376.0  27940.0  "
      ]
     },
     "execution_count": 652,
     "metadata": {},
     "output_type": "execute_result"
    }
   ],
   "source": [
    "df_countries.head()"
   ]
  },
  {
   "cell_type": "code",
   "execution_count": 653,
   "metadata": {},
   "outputs": [],
   "source": [
    "#Remove unneccesary columns"
   ]
  },
  {
   "cell_type": "code",
   "execution_count": 654,
   "metadata": {},
   "outputs": [],
   "source": [
    "df_countries.drop(['Long','Lat','Province/State'],axis=1,inplace=True)"
   ]
  },
  {
   "cell_type": "code",
   "execution_count": 655,
   "metadata": {},
   "outputs": [],
   "source": [
    "df_countries.set_index('Country/Region',inplace=True)"
   ]
  },
  {
   "cell_type": "code",
   "execution_count": 656,
   "metadata": {},
   "outputs": [],
   "source": [
    "df_countries_10 = df_countries.head(10)"
   ]
  },
  {
   "cell_type": "code",
   "execution_count": 657,
   "metadata": {},
   "outputs": [
    {
     "data": {
      "text/html": [
       "<style  type=\"text/css\" >\n",
       "    #T_a9e273fa_9c90_11ea_ab99_b0c09024592brow0_col1 {\n",
       "            background-color:  #08306b;\n",
       "            color:  #f1f1f1;\n",
       "        }    #T_a9e273fa_9c90_11ea_ab99_b0c09024592brow0_col2 {\n",
       "            background-color:  #08306b;\n",
       "            color:  #f1f1f1;\n",
       "        }    #T_a9e273fa_9c90_11ea_ab99_b0c09024592brow0_col3 {\n",
       "            background-color:  #08306b;\n",
       "            color:  #f1f1f1;\n",
       "        }    #T_a9e273fa_9c90_11ea_ab99_b0c09024592brow1_col1 {\n",
       "            background-color:  #eaf3fb;\n",
       "            color:  #000000;\n",
       "        }    #T_a9e273fa_9c90_11ea_ab99_b0c09024592brow1_col2 {\n",
       "            background-color:  #b3d3e8;\n",
       "            color:  #000000;\n",
       "        }    #T_a9e273fa_9c90_11ea_ab99_b0c09024592brow1_col3 {\n",
       "            background-color:  #f7fbff;\n",
       "            color:  #000000;\n",
       "        }    #T_a9e273fa_9c90_11ea_ab99_b0c09024592brow2_col1 {\n",
       "            background-color:  #ecf4fb;\n",
       "            color:  #000000;\n",
       "        }    #T_a9e273fa_9c90_11ea_ab99_b0c09024592brow2_col2 {\n",
       "            background-color:  #8abfdd;\n",
       "            color:  #000000;\n",
       "        }    #T_a9e273fa_9c90_11ea_ab99_b0c09024592brow2_col3 {\n",
       "            background-color:  #d3e3f3;\n",
       "            color:  #000000;\n",
       "        }    #T_a9e273fa_9c90_11ea_ab99_b0c09024592brow3_col1 {\n",
       "            background-color:  #f5f9fe;\n",
       "            color:  #000000;\n",
       "        }    #T_a9e273fa_9c90_11ea_ab99_b0c09024592brow3_col2 {\n",
       "            background-color:  #f7fbff;\n",
       "            color:  #000000;\n",
       "        }    #T_a9e273fa_9c90_11ea_ab99_b0c09024592brow3_col3 {\n",
       "            background-color:  #a3cce3;\n",
       "            color:  #000000;\n",
       "        }    #T_a9e273fa_9c90_11ea_ab99_b0c09024592brow4_col1 {\n",
       "            background-color:  #f7fbff;\n",
       "            color:  #000000;\n",
       "        }    #T_a9e273fa_9c90_11ea_ab99_b0c09024592brow4_col2 {\n",
       "            background-color:  #69add5;\n",
       "            color:  #000000;\n",
       "        }    #T_a9e273fa_9c90_11ea_ab99_b0c09024592brow4_col3 {\n",
       "            background-color:  #bfd8ed;\n",
       "            color:  #000000;\n",
       "        }</style><table id=\"T_a9e273fa_9c90_11ea_ab99_b0c09024592b\" ><thead>    <tr>        <th class=\"blank level0\" ></th>        <th class=\"col_heading level0 col0\" >Date</th>        <th class=\"col_heading level0 col1\" >Confirmed</th>        <th class=\"col_heading level0 col2\" >Recovered</th>        <th class=\"col_heading level0 col3\" >Deaths</th>    </tr>    <tr>        <th class=\"index_name level0\" >Country/Region</th>        <th class=\"blank\" ></th>        <th class=\"blank\" ></th>        <th class=\"blank\" ></th>        <th class=\"blank\" ></th>    </tr></thead><tbody>\n",
       "                <tr>\n",
       "                        <th id=\"T_a9e273fa_9c90_11ea_ab99_b0c09024592blevel0_row0\" class=\"row_heading level0 row0\" >US</th>\n",
       "                        <td id=\"T_a9e273fa_9c90_11ea_ab99_b0c09024592brow0_col0\" class=\"data row0 col0\" >2020-05-21</td>\n",
       "                        <td id=\"T_a9e273fa_9c90_11ea_ab99_b0c09024592brow0_col1\" class=\"data row0 col1\" >1.57715e+06</td>\n",
       "                        <td id=\"T_a9e273fa_9c90_11ea_ab99_b0c09024592brow0_col2\" class=\"data row0 col2\" >298418</td>\n",
       "                        <td id=\"T_a9e273fa_9c90_11ea_ab99_b0c09024592brow0_col3\" class=\"data row0 col3\" >94702</td>\n",
       "            </tr>\n",
       "            <tr>\n",
       "                        <th id=\"T_a9e273fa_9c90_11ea_ab99_b0c09024592blevel0_row1\" class=\"row_heading level0 row1\" >Russia</th>\n",
       "                        <td id=\"T_a9e273fa_9c90_11ea_ab99_b0c09024592brow1_col0\" class=\"data row1 col0\" >2020-05-21</td>\n",
       "                        <td id=\"T_a9e273fa_9c90_11ea_ab99_b0c09024592brow1_col1\" class=\"data row1 col1\" >317554</td>\n",
       "                        <td id=\"T_a9e273fa_9c90_11ea_ab99_b0c09024592brow1_col2\" class=\"data row1 col2\" >92681</td>\n",
       "                        <td id=\"T_a9e273fa_9c90_11ea_ab99_b0c09024592brow1_col3\" class=\"data row1 col3\" >3099</td>\n",
       "            </tr>\n",
       "            <tr>\n",
       "                        <th id=\"T_a9e273fa_9c90_11ea_ab99_b0c09024592blevel0_row2\" class=\"row_heading level0 row2\" >Brazil</th>\n",
       "                        <td id=\"T_a9e273fa_9c90_11ea_ab99_b0c09024592brow2_col0\" class=\"data row2 col0\" >2020-05-21</td>\n",
       "                        <td id=\"T_a9e273fa_9c90_11ea_ab99_b0c09024592brow2_col1\" class=\"data row2 col1\" >310087</td>\n",
       "                        <td id=\"T_a9e273fa_9c90_11ea_ab99_b0c09024592brow2_col2\" class=\"data row2 col2\" >125960</td>\n",
       "                        <td id=\"T_a9e273fa_9c90_11ea_ab99_b0c09024592brow2_col3\" class=\"data row2 col3\" >20047</td>\n",
       "            </tr>\n",
       "            <tr>\n",
       "                        <th id=\"T_a9e273fa_9c90_11ea_ab99_b0c09024592blevel0_row3\" class=\"row_heading level0 row3\" >United Kingdom</th>\n",
       "                        <td id=\"T_a9e273fa_9c90_11ea_ab99_b0c09024592brow3_col0\" class=\"data row3 col0\" >2020-05-21</td>\n",
       "                        <td id=\"T_a9e273fa_9c90_11ea_ab99_b0c09024592brow3_col1\" class=\"data row3 col1\" >250908</td>\n",
       "                        <td id=\"T_a9e273fa_9c90_11ea_ab99_b0c09024592brow3_col2\" class=\"data row3 col2\" >0</td>\n",
       "                        <td id=\"T_a9e273fa_9c90_11ea_ab99_b0c09024592brow3_col3\" class=\"data row3 col3\" >36042</td>\n",
       "            </tr>\n",
       "            <tr>\n",
       "                        <th id=\"T_a9e273fa_9c90_11ea_ab99_b0c09024592blevel0_row4\" class=\"row_heading level0 row4\" >Spain</th>\n",
       "                        <td id=\"T_a9e273fa_9c90_11ea_ab99_b0c09024592brow4_col0\" class=\"data row4 col0\" >2020-05-21</td>\n",
       "                        <td id=\"T_a9e273fa_9c90_11ea_ab99_b0c09024592brow4_col1\" class=\"data row4 col1\" >233037</td>\n",
       "                        <td id=\"T_a9e273fa_9c90_11ea_ab99_b0c09024592brow4_col2\" class=\"data row4 col2\" >150376</td>\n",
       "                        <td id=\"T_a9e273fa_9c90_11ea_ab99_b0c09024592brow4_col3\" class=\"data row4 col3\" >27940</td>\n",
       "            </tr>\n",
       "    </tbody></table>"
      ],
      "text/plain": [
       "<pandas.io.formats.style.Styler at 0x1d5bbac69e8>"
      ]
     },
     "execution_count": 657,
     "metadata": {},
     "output_type": "execute_result"
    }
   ],
   "source": [
    "df_countries_10.head().style.background_gradient(cmap='Blues')"
   ]
  },
  {
   "cell_type": "markdown",
   "metadata": {},
   "source": [
    "## Visualizing covid-19 global data"
   ]
  },
  {
   "cell_type": "code",
   "execution_count": 658,
   "metadata": {},
   "outputs": [
    {
     "data": {
      "image/png": "[encoded data removed]",
      "text/plain": [
       "<Figure size 1296x504 with 1 Axes>"
      ]
     },
     "metadata": {
      "needs_background": "light"
     },
     "output_type": "display_data"
    }
   ],
   "source": [
    "plt.figure(figsize=(18,7))\n",
    "plt.barh(df_countries_10['Confirmed'].sort_values().index,df_countries_10['Confirmed'].sort_values().values,data=df)\n",
    "\n",
    "plt.tick_params(size=10,labelsize = 18)\n",
    "plt.xlabel(\"Confirmed cases in millions\",fontsize=18)\n",
    "plt.title(\"Top 10 Countries (Confirmed Cases)\",fontsize=20)\n",
    "plt.grid(alpha=0.3)\n",
    "plt.savefig('Confirmed_cases.png')"
   ]
  },
  {
   "cell_type": "code",
   "execution_count": null,
   "metadata": {},
   "outputs": [],
   "source": []
  },
  {
   "cell_type": "code",
   "execution_count": 659,
   "metadata": {},
   "outputs": [
    {
     "data": {
      "image/png": "[encoded data removed]",
      "text/plain": [
       "<Figure size 1296x504 with 1 Axes>"
      ]
     },
     "metadata": {
      "needs_background": "light"
     },
     "output_type": "display_data"
    }
   ],
   "source": [
    "plt.figure(figsize=(18,7))\n",
    "plt.barh(df_countries_10['Deaths'].sort_values().index,df_countries_10['Deaths'].sort_values().values,data=df)\n",
    "\n",
    "plt.tick_params(size=10,labelsize = 18)\n",
    "plt.xlabel(\"Total Deaths\",fontsize=18)\n",
    "plt.title(\"Top 10 Countries total deaths\",fontsize=20)\n",
    "plt.grid(alpha=0.3)\n",
    "plt.savefig('Total_Deaths.png')"
   ]
  },
  {
   "cell_type": "code",
   "execution_count": null,
   "metadata": {},
   "outputs": [],
   "source": []
  },
  {
   "cell_type": "code",
   "execution_count": 660,
   "metadata": {},
   "outputs": [
    {
     "data": {
      "image/png": "[encoded data removed]",
      "text/plain": [
       "<Figure size 1296x504 with 1 Axes>"
      ]
     },
     "metadata": {
      "needs_background": "light"
     },
     "output_type": "display_data"
    }
   ],
   "source": [
    "plt.figure(figsize=(18,7))\n",
    "plt.barh(df_countries_10['Recovered'].sort_values().index,df_countries_10['Recovered'].sort_values().values,data=df)\n",
    "\n",
    "plt.tick_params(size=10,labelsize = 18)\n",
    "plt.xlabel(\"Total Recoveries\",fontsize=18)\n",
    "plt.title(\"Top 10 Countries total recoveries\",fontsize=20)\n",
    "plt.grid(alpha=0.3)\n",
    "plt.savefig('Total_Recoveries.png')"
   ]
  },
  {
   "cell_type": "code",
   "execution_count": null,
   "metadata": {},
   "outputs": [],
   "source": []
  },
  {
   "cell_type": "code",
   "execution_count": 661,
   "metadata": {},
   "outputs": [
    {
     "data": {
      "text/html": [
       "<style  type=\"text/css\" >\n",
       "    #T_bac7665a_9c90_11ea_b0ff_b0c09024592brow0_col0 {\n",
       "            background-color:  #67000d;\n",
       "            color:  #f1f1f1;\n",
       "        }    #T_bac7665a_9c90_11ea_b0ff_b0c09024592brow0_col1 {\n",
       "            background-color:  #fc7f5f;\n",
       "            color:  #000000;\n",
       "        }    #T_bac7665a_9c90_11ea_b0ff_b0c09024592brow0_col2 {\n",
       "            background-color:  #d11e1f;\n",
       "            color:  #f1f1f1;\n",
       "        }    #T_bac7665a_9c90_11ea_b0ff_b0c09024592brow1_col0 {\n",
       "            background-color:  #fff5f0;\n",
       "            color:  #000000;\n",
       "        }    #T_bac7665a_9c90_11ea_b0ff_b0c09024592brow1_col1 {\n",
       "            background-color:  #67000d;\n",
       "            color:  #f1f1f1;\n",
       "        }    #T_bac7665a_9c90_11ea_b0ff_b0c09024592brow1_col2 {\n",
       "            background-color:  #fff5f0;\n",
       "            color:  #000000;\n",
       "        }    #T_bac7665a_9c90_11ea_b0ff_b0c09024592brow2_col0 {\n",
       "            background-color:  #f96346;\n",
       "            color:  #000000;\n",
       "        }    #T_bac7665a_9c90_11ea_b0ff_b0c09024592brow2_col1 {\n",
       "            background-color:  #fff5f0;\n",
       "            color:  #000000;\n",
       "        }    #T_bac7665a_9c90_11ea_b0ff_b0c09024592brow2_col2 {\n",
       "            background-color:  #67000d;\n",
       "            color:  #f1f1f1;\n",
       "        }</style><table id=\"T_bac7665a_9c90_11ea_b0ff_b0c09024592b\" ><thead>    <tr>        <th class=\"blank level0\" ></th>        <th class=\"col_heading level0 col0\" >Confirmed</th>        <th class=\"col_heading level0 col1\" >Recovered</th>        <th class=\"col_heading level0 col2\" >Deaths</th>    </tr></thead><tbody>\n",
       "                <tr>\n",
       "                        <th id=\"T_bac7665a_9c90_11ea_b0ff_b0c09024592blevel0_row0\" class=\"row_heading level0 row0\" >Confirmed</th>\n",
       "                        <td id=\"T_bac7665a_9c90_11ea_b0ff_b0c09024592brow0_col0\" class=\"data row0 col0\" >1</td>\n",
       "                        <td id=\"T_bac7665a_9c90_11ea_b0ff_b0c09024592brow0_col1\" class=\"data row0 col1\" >0.781761</td>\n",
       "                        <td id=\"T_bac7665a_9c90_11ea_b0ff_b0c09024592brow0_col2\" class=\"data row0 col2\" >0.894617</td>\n",
       "            </tr>\n",
       "            <tr>\n",
       "                        <th id=\"T_bac7665a_9c90_11ea_b0ff_b0c09024592blevel0_row1\" class=\"row_heading level0 row1\" >Recovered</th>\n",
       "                        <td id=\"T_bac7665a_9c90_11ea_b0ff_b0c09024592brow1_col0\" class=\"data row1 col0\" >0.781761</td>\n",
       "                        <td id=\"T_bac7665a_9c90_11ea_b0ff_b0c09024592brow1_col1\" class=\"data row1 col1\" >1</td>\n",
       "                        <td id=\"T_bac7665a_9c90_11ea_b0ff_b0c09024592brow1_col2\" class=\"data row1 col2\" >0.612791</td>\n",
       "            </tr>\n",
       "            <tr>\n",
       "                        <th id=\"T_bac7665a_9c90_11ea_b0ff_b0c09024592blevel0_row2\" class=\"row_heading level0 row2\" >Deaths</th>\n",
       "                        <td id=\"T_bac7665a_9c90_11ea_b0ff_b0c09024592brow2_col0\" class=\"data row2 col0\" >0.894617</td>\n",
       "                        <td id=\"T_bac7665a_9c90_11ea_b0ff_b0c09024592brow2_col1\" class=\"data row2 col1\" >0.612791</td>\n",
       "                        <td id=\"T_bac7665a_9c90_11ea_b0ff_b0c09024592brow2_col2\" class=\"data row2 col2\" >1</td>\n",
       "            </tr>\n",
       "    </tbody></table>"
      ],
      "text/plain": [
       "<pandas.io.formats.style.Styler at 0x1d5c9ee1eb8>"
      ]
     },
     "execution_count": 661,
     "metadata": {},
     "output_type": "execute_result"
    }
   ],
   "source": [
    "df_countries_10.corr().style.background_gradient(cmap='Reds')"
   ]
  },
  {
   "cell_type": "code",
   "execution_count": null,
   "metadata": {},
   "outputs": [],
   "source": []
  },
  {
   "cell_type": "code",
   "execution_count": 662,
   "metadata": {},
   "outputs": [
    {
     "data": {
      "text/html": [
       "        <script type=\"text/javascript\">\n",
       "        window.PlotlyConfig = {MathJaxConfig: 'local'};\n",
       "        if (window.MathJax) {MathJax.Hub.Config({SVG: {font: \"STIX-Web\"}});}\n",
       "        if (typeof require !== 'undefined') {\n",
       "        require.undef(\"plotly\");\n",
       "        requirejs.config({\n",
       "            paths: {\n",
       "                'plotly': ['https://cdn.plot.ly/plotly-latest.min']\n",
       "            }\n",
       "        });\n",
       "        require(['plotly'], function(Plotly) {\n",
       "            window._Plotly = Plotly;\n",
       "        });\n",
       "        }\n",
       "        </script>\n",
       "        "
      ]
     },
     "metadata": {},
     "output_type": "display_data"
    },
    {
     "data": {
      "application/vnd.plotly.v1+json": {
       "config": {
        "linkText": "Export to plot.ly",
        "plotlyServerURL": "https://plot.ly",
        "showLink": true
       },
       "data": [
        {
         "line": {
          "color": "rgba(219, 64, 82, 1.0)",
          "dash": "solid",
          "shape": "linear",
          "width": 1.3
         },
         "mode": "lines",
         "name": "Confirmed",
         "text": "",
         "type": "scatter",
         "x": [
          "US",
          "Russia",
          "Brazil",
          "United Kingdom",
          "Spain",
          "Italy",
          "France",
          "Germany",
          "Turkey",
          "Iran"
         ],
         "y": [
          1577147,
          317554,
          310087,
          250908,
          233037,
          228006,
          179306,
          179021,
          153548,
          129341
         ]
        },
        {
         "line": {
          "color": "rgba(55, 128, 191, 1.0)",
          "dash": "solid",
          "shape": "linear",
          "width": 1.3
         },
         "mode": "lines",
         "name": "Deaths",
         "text": "",
         "type": "scatter",
         "x": [
          "US",
          "Russia",
          "Brazil",
          "United Kingdom",
          "Spain",
          "Italy",
          "France",
          "Germany",
          "Turkey",
          "Iran"
         ],
         "y": [
          94702,
          3099,
          20047,
          36042,
          27940,
          32486,
          28167,
          8203,
          4249,
          7249
         ]
        },
        {
         "line": {
          "color": "rgba(0, 128, 0, 1.0)",
          "dash": "solid",
          "shape": "linear",
          "width": 1.3
         },
         "mode": "lines",
         "name": "Recovered",
         "text": "",
         "type": "scatter",
         "x": [
          "US",
          "Russia",
          "Brazil",
          "United Kingdom",
          "Spain",
          "Italy",
          "France",
          "Germany",
          "Turkey",
          "Iran"
         ],
         "y": [
          298418,
          92681,
          125960,
          0,
          150376,
          134560,
          62216,
          158087,
          114990,
          100564
         ]
        }
       ],
       "layout": {
        "legend": {
         "bgcolor": "#F5F6F9",
         "font": {
          "color": "#4D5663"
         }
        },
        "paper_bgcolor": "#F5F6F9",
        "plot_bgcolor": "#F5F6F9",
        "template": {
         "data": {
          "bar": [
           {
            "error_x": {
             "color": "#2a3f5f"
            },
            "error_y": {
             "color": "#2a3f5f"
            },
            "marker": {
             "line": {
              "color": "#E5ECF6",
              "width": 0.5
             }
            },
            "type": "bar"
           }
          ],
          "barpolar": [
           {
            "marker": {
             "line": {
              "color": "#E5ECF6",
              "width": 0.5
             }
            },
            "type": "barpolar"
           }
          ],
          "carpet": [
           {
            "aaxis": {
             "endlinecolor": "#2a3f5f",
             "gridcolor": "white",
             "linecolor": "white",
             "minorgridcolor": "white",
             "startlinecolor": "#2a3f5f"
            },
            "baxis": {
             "endlinecolor": "#2a3f5f",
             "gridcolor": "white",
             "linecolor": "white",
             "minorgridcolor": "white",
             "startlinecolor": "#2a3f5f"
            },
            "type": "carpet"
           }
          ],
          "choropleth": [
           {
            "colorbar": {
             "outlinewidth": 0,
             "ticks": ""
            },
            "type": "choropleth"
           }
          ],
          "contour": [
           {
            "colorbar": {
             "outlinewidth": 0,
             "ticks": ""
            },
            "colorscale": [
             [
              0,
              "#0d0887"
             ],
             [
              0.1111111111111111,
              "#46039f"
             ],
             [
              0.2222222222222222,
              "#7201a8"
             ],
             [
              0.3333333333333333,
              "#9c179e"
             ],
             [
              0.4444444444444444,
              "#bd3786"
             ],
             [
              0.5555555555555556,
              "#d8576b"
             ],
             [
              0.6666666666666666,
              "#ed7953"
             ],
             [
              0.7777777777777778,
              "#fb9f3a"
             ],
             [
              0.8888888888888888,
              "#fdca26"
             ],
             [
              1,
              "#f0f921"
             ]
            ],
            "type": "contour"
           }
          ],
          "contourcarpet": [
           {
            "colorbar": {
             "outlinewidth": 0,
             "ticks": ""
            },
            "type": "contourcarpet"
           }
          ],
          "heatmap": [
           {
            "colorbar": {
             "outlinewidth": 0,
             "ticks": ""
            },
            "colorscale": [
             [
              0,
              "#0d0887"
             ],
             [
              0.1111111111111111,
              "#46039f"
             ],
             [
              0.2222222222222222,
              "#7201a8"
             ],
             [
              0.3333333333333333,
              "#9c179e"
             ],
             [
              0.4444444444444444,
              "#bd3786"
             ],
             [
              0.5555555555555556,
              "#d8576b"
             ],
             [
              0.6666666666666666,
              "#ed7953"
             ],
             [
              0.7777777777777778,
              "#fb9f3a"
             ],
             [
              0.8888888888888888,
              "#fdca26"
             ],
             [
              1,
              "#f0f921"
             ]
            ],
            "type": "heatmap"
           }
          ],
          "heatmapgl": [
           {
            "colorbar": {
             "outlinewidth": 0,
             "ticks": ""
            },
            "colorscale": [
             [
              0,
              "#0d0887"
             ],
             [
              0.1111111111111111,
              "#46039f"
             ],
             [
              0.2222222222222222,
              "#7201a8"
             ],
             [
              0.3333333333333333,
              "#9c179e"
             ],
             [
              0.4444444444444444,
              "#bd3786"
             ],
             [
              0.5555555555555556,
              "#d8576b"
             ],
             [
              0.6666666666666666,
              "#ed7953"
             ],
             [
              0.7777777777777778,
              "#fb9f3a"
             ],
             [
              0.8888888888888888,
              "#fdca26"
             ],
             [
              1,
              "#f0f921"
             ]
            ],
            "type": "heatmapgl"
           }
          ],
          "histogram": [
           {
            "marker": {
             "colorbar": {
              "outlinewidth": 0,
              "ticks": ""
             }
            },
            "type": "histogram"
           }
          ],
          "histogram2d": [
           {
            "colorbar": {
             "outlinewidth": 0,
             "ticks": ""
            },
            "colorscale": [
             [
              0,
              "#0d0887"
             ],
             [
              0.1111111111111111,
              "#46039f"
             ],
             [
              0.2222222222222222,
              "#7201a8"
             ],
             [
              0.3333333333333333,
              "#9c179e"
             ],
             [
              0.4444444444444444,
              "#bd3786"
             ],
             [
              0.5555555555555556,
              "#d8576b"
             ],
             [
              0.6666666666666666,
              "#ed7953"
             ],
             [
              0.7777777777777778,
              "#fb9f3a"
             ],
             [
              0.8888888888888888,
              "#fdca26"
             ],
             [
              1,
              "#f0f921"
             ]
            ],
            "type": "histogram2d"
           }
          ],
          "histogram2dcontour": [
           {
            "colorbar": {
             "outlinewidth": 0,
             "ticks": ""
            },
            "colorscale": [
             [
              0,
              "#0d0887"
             ],
             [
              0.1111111111111111,
              "#46039f"
             ],
             [
              0.2222222222222222,
              "#7201a8"
             ],
             [
              0.3333333333333333,
              "#9c179e"
             ],
             [
              0.4444444444444444,
              "#bd3786"
             ],
             [
              0.5555555555555556,
              "#d8576b"
             ],
             [
              0.6666666666666666,
              "#ed7953"
             ],
             [
              0.7777777777777778,
              "#fb9f3a"
             ],
             [
              0.8888888888888888,
              "#fdca26"
             ],
             [
              1,
              "#f0f921"
             ]
            ],
            "type": "histogram2dcontour"
           }
          ],
          "mesh3d": [
           {
            "colorbar": {
             "outlinewidth": 0,
             "ticks": ""
            },
            "type": "mesh3d"
           }
          ],
          "parcoords": [
           {
            "line": {
             "colorbar": {
              "outlinewidth": 0,
              "ticks": ""
             }
            },
            "type": "parcoords"
           }
          ],
          "pie": [
           {
            "automargin": true,
            "type": "pie"
           }
          ],
          "scatter": [
           {
            "marker": {
             "colorbar": {
              "outlinewidth": 0,
              "ticks": ""
             }
            },
            "type": "scatter"
           }
          ],
          "scatter3d": [
           {
            "line": {
             "colorbar": {
              "outlinewidth": 0,
              "ticks": ""
             }
            },
            "marker": {
             "colorbar": {
              "outlinewidth": 0,
              "ticks": ""
             }
            },
            "type": "scatter3d"
           }
          ],
          "scattercarpet": [
           {
            "marker": {
             "colorbar": {
              "outlinewidth": 0,
              "ticks": ""
             }
            },
            "type": "scattercarpet"
           }
          ],
          "scattergeo": [
           {
            "marker": {
             "colorbar": {
              "outlinewidth": 0,
              "ticks": ""
             }
            },
            "type": "scattergeo"
           }
          ],
          "scattergl": [
           {
            "marker": {
             "colorbar": {
              "outlinewidth": 0,
              "ticks": ""
             }
            },
            "type": "scattergl"
           }
          ],
          "scattermapbox": [
           {
            "marker": {
             "colorbar": {
              "outlinewidth": 0,
              "ticks": ""
             }
            },
            "type": "scattermapbox"
           }
          ],
          "scatterpolar": [
           {
            "marker": {
             "colorbar": {
              "outlinewidth": 0,
              "ticks": ""
             }
            },
            "type": "scatterpolar"
           }
          ],
          "scatterpolargl": [
           {
            "marker": {
             "colorbar": {
              "outlinewidth": 0,
              "ticks": ""
             }
            },
            "type": "scatterpolargl"
           }
          ],
          "scatterternary": [
           {
            "marker": {
             "colorbar": {
              "outlinewidth": 0,
              "ticks": ""
             }
            },
            "type": "scatterternary"
           }
          ],
          "surface": [
           {
            "colorbar": {
             "outlinewidth": 0,
             "ticks": ""
            },
            "colorscale": [
             [
              0,
              "#0d0887"
             ],
             [
              0.1111111111111111,
              "#46039f"
             ],
             [
              0.2222222222222222,
              "#7201a8"
             ],
             [
              0.3333333333333333,
              "#9c179e"
             ],
             [
              0.4444444444444444,
              "#bd3786"
             ],
             [
              0.5555555555555556,
              "#d8576b"
             ],
             [
              0.6666666666666666,
              "#ed7953"
             ],
             [
              0.7777777777777778,
              "#fb9f3a"
             ],
             [
              0.8888888888888888,
              "#fdca26"
             ],
             [
              1,
              "#f0f921"
             ]
            ],
            "type": "surface"
           }
          ],
          "table": [
           {
            "cells": {
             "fill": {
              "color": "#EBF0F8"
             },
             "line": {
              "color": "white"
             }
            },
            "header": {
             "fill": {
              "color": "#C8D4E3"
             },
             "line": {
              "color": "white"
             }
            },
            "type": "table"
           }
          ]
         },
         "layout": {
          "annotationdefaults": {
           "arrowcolor": "#2a3f5f",
           "arrowhead": 0,
           "arrowwidth": 1
          },
          "coloraxis": {
           "colorbar": {
            "outlinewidth": 0,
            "ticks": ""
           }
          },
          "colorscale": {
           "diverging": [
            [
             0,
             "#8e0152"
            ],
            [
             0.1,
             "#c51b7d"
            ],
            [
             0.2,
             "#de77ae"
            ],
            [
             0.3,
             "#f1b6da"
            ],
            [
             0.4,
             "#fde0ef"
            ],
            [
             0.5,
             "#f7f7f7"
            ],
            [
             0.6,
             "#e6f5d0"
            ],
            [
             0.7,
             "#b8e186"
            ],
            [
             0.8,
             "#7fbc41"
            ],
            [
             0.9,
             "#4d9221"
            ],
            [
             1,
             "#276419"
            ]
           ],
           "sequential": [
            [
             0,
             "#0d0887"
            ],
            [
             0.1111111111111111,
             "#46039f"
            ],
            [
             0.2222222222222222,
             "#7201a8"
            ],
            [
             0.3333333333333333,
             "#9c179e"
            ],
            [
             0.4444444444444444,
             "#bd3786"
            ],
            [
             0.5555555555555556,
             "#d8576b"
            ],
            [
             0.6666666666666666,
             "#ed7953"
            ],
            [
             0.7777777777777778,
             "#fb9f3a"
            ],
            [
             0.8888888888888888,
             "#fdca26"
            ],
            [
             1,
             "#f0f921"
            ]
           ],
           "sequentialminus": [
            [
             0,
             "#0d0887"
            ],
            [
             0.1111111111111111,
             "#46039f"
            ],
            [
             0.2222222222222222,
             "#7201a8"
            ],
            [
             0.3333333333333333,
             "#9c179e"
            ],
            [
             0.4444444444444444,
             "#bd3786"
            ],
            [
             0.5555555555555556,
             "#d8576b"
            ],
            [
             0.6666666666666666,
             "#ed7953"
            ],
            [
             0.7777777777777778,
             "#fb9f3a"
            ],
            [
             0.8888888888888888,
             "#fdca26"
            ],
            [
             1,
             "#f0f921"
            ]
           ]
          },
          "colorway": [
           "#636efa",
           "#EF553B",
           "#00cc96",
           "#ab63fa",
           "#FFA15A",
           "#19d3f3",
           "#FF6692",
           "#B6E880",
           "#FF97FF",
           "#FECB52"
          ],
          "font": {
           "color": "#2a3f5f"
          },
          "geo": {
           "bgcolor": "white",
           "lakecolor": "white",
           "landcolor": "#E5ECF6",
           "showlakes": true,
           "showland": true,
           "subunitcolor": "white"
          },
          "hoverlabel": {
           "align": "left"
          },
          "hovermode": "closest",
          "mapbox": {
           "style": "light"
          },
          "paper_bgcolor": "white",
          "plot_bgcolor": "#E5ECF6",
          "polar": {
           "angularaxis": {
            "gridcolor": "white",
            "linecolor": "white",
            "ticks": ""
           },
           "bgcolor": "#E5ECF6",
           "radialaxis": {
            "gridcolor": "white",
            "linecolor": "white",
            "ticks": ""
           }
          },
          "scene": {
           "xaxis": {
            "backgroundcolor": "#E5ECF6",
            "gridcolor": "white",
            "gridwidth": 2,
            "linecolor": "white",
            "showbackground": true,
            "ticks": "",
            "zerolinecolor": "white"
           },
           "yaxis": {
            "backgroundcolor": "#E5ECF6",
            "gridcolor": "white",
            "gridwidth": 2,
            "linecolor": "white",
            "showbackground": true,
            "ticks": "",
            "zerolinecolor": "white"
           },
           "zaxis": {
            "backgroundcolor": "#E5ECF6",
            "gridcolor": "white",
            "gridwidth": 2,
            "linecolor": "white",
            "showbackground": true,
            "ticks": "",
            "zerolinecolor": "white"
           }
          },
          "shapedefaults": {
           "line": {
            "color": "#2a3f5f"
           }
          },
          "ternary": {
           "aaxis": {
            "gridcolor": "white",
            "linecolor": "white",
            "ticks": ""
           },
           "baxis": {
            "gridcolor": "white",
            "linecolor": "white",
            "ticks": ""
           },
           "bgcolor": "#E5ECF6",
           "caxis": {
            "gridcolor": "white",
            "linecolor": "white",
            "ticks": ""
           }
          },
          "title": {
           "x": 0.05
          },
          "xaxis": {
           "automargin": true,
           "gridcolor": "white",
           "linecolor": "white",
           "ticks": "",
           "title": {
            "standoff": 15
           },
           "zerolinecolor": "white",
           "zerolinewidth": 2
          },
          "yaxis": {
           "automargin": true,
           "gridcolor": "white",
           "linecolor": "white",
           "ticks": "",
           "title": {
            "standoff": 15
           },
           "zerolinecolor": "white",
           "zerolinewidth": 2
          }
         }
        },
        "title": {
         "font": {
          "color": "#4D5663"
         },
         "text": "Top 10 countries comparision"
        },
        "xaxis": {
         "gridcolor": "Pink",
         "showgrid": true,
         "tickfont": {
          "color": "#4D5663"
         },
         "title": {
          "font": {
           "color": "#4D5663"
          },
          "text": "Country"
         },
         "zerolinecolor": "#E1E5ED"
        },
        "yaxis": {
         "gridcolor": "Pink",
         "showgrid": true,
         "tickfont": {
          "color": "#4D5663"
         },
         "title": {
          "font": {
           "color": "#4D5663"
          },
          "text": "Case Count"
         },
         "zerolinecolor": "#E1E5ED"
        }
       }
      },
      "text/html": [
       "<div>\n",
       "        \n",
       "        \n",
       "            <div id=\"5a1d95ad-1aa3-47a7-a9f1-99a342952869\" class=\"plotly-graph-div\" style=\"height:525px; width:100%;\"></div>\n",
       "            <script type=\"text/javascript\">\n",
       "                require([\"plotly\"], function(Plotly) {\n",
       "                    window.PLOTLYENV=window.PLOTLYENV || {};\n",
       "                    window.PLOTLYENV.BASE_URL='https://plot.ly';\n",
       "                    \n",
       "                if (document.getElementById(\"5a1d95ad-1aa3-47a7-a9f1-99a342952869\")) {\n",
       "                    Plotly.newPlot(\n",
       "                        '5a1d95ad-1aa3-47a7-a9f1-99a342952869',\n",
       "                        [{\"line\": {\"color\": \"rgba(219, 64, 82, 1.0)\", \"dash\": \"solid\", \"shape\": \"linear\", \"width\": 1.3}, \"mode\": \"lines\", \"name\": \"Confirmed\", \"text\": \"\", \"type\": \"scatter\", \"x\": [\"US\", \"Russia\", \"Brazil\", \"United Kingdom\", \"Spain\", \"Italy\", \"France\", \"Germany\", \"Turkey\", \"Iran\"], \"y\": [1577147.0, 317554.0, 310087.0, 250908.0, 233037.0, 228006.0, 179306.0, 179021.0, 153548.0, 129341.0]}, {\"line\": {\"color\": \"rgba(55, 128, 191, 1.0)\", \"dash\": \"solid\", \"shape\": \"linear\", \"width\": 1.3}, \"mode\": \"lines\", \"name\": \"Deaths\", \"text\": \"\", \"type\": \"scatter\", \"x\": [\"US\", \"Russia\", \"Brazil\", \"United Kingdom\", \"Spain\", \"Italy\", \"France\", \"Germany\", \"Turkey\", \"Iran\"], \"y\": [94702.0, 3099.0, 20047.0, 36042.0, 27940.0, 32486.0, 28167.0, 8203.0, 4249.0, 7249.0]}, {\"line\": {\"color\": \"rgba(0, 128, 0, 1.0)\", \"dash\": \"solid\", \"shape\": \"linear\", \"width\": 1.3}, \"mode\": \"lines\", \"name\": \"Recovered\", \"text\": \"\", \"type\": \"scatter\", \"x\": [\"US\", \"Russia\", \"Brazil\", \"United Kingdom\", \"Spain\", \"Italy\", \"France\", \"Germany\", \"Turkey\", \"Iran\"], \"y\": [298418.0, 92681.0, 125960.0, 0.0, 150376.0, 134560.0, 62216.0, 158087.0, 114990.0, 100564.0]}],\n",
       "                        {\"legend\": {\"bgcolor\": \"#F5F6F9\", \"font\": {\"color\": \"#4D5663\"}}, \"paper_bgcolor\": \"#F5F6F9\", \"plot_bgcolor\": \"#F5F6F9\", \"template\": {\"data\": {\"bar\": [{\"error_x\": {\"color\": \"#2a3f5f\"}, \"error_y\": {\"color\": \"#2a3f5f\"}, \"marker\": {\"line\": {\"color\": \"#E5ECF6\", \"width\": 0.5}}, \"type\": \"bar\"}], \"barpolar\": [{\"marker\": {\"line\": {\"color\": \"#E5ECF6\", \"width\": 0.5}}, \"type\": \"barpolar\"}], \"carpet\": [{\"aaxis\": {\"endlinecolor\": \"#2a3f5f\", \"gridcolor\": \"white\", \"linecolor\": \"white\", \"minorgridcolor\": \"white\", \"startlinecolor\": \"#2a3f5f\"}, \"baxis\": {\"endlinecolor\": \"#2a3f5f\", \"gridcolor\": \"white\", \"linecolor\": \"white\", \"minorgridcolor\": \"white\", \"startlinecolor\": \"#2a3f5f\"}, \"type\": \"carpet\"}], \"choropleth\": [{\"colorbar\": {\"outlinewidth\": 0, \"ticks\": \"\"}, \"type\": \"choropleth\"}], \"contour\": [{\"colorbar\": {\"outlinewidth\": 0, \"ticks\": \"\"}, \"colorscale\": [[0.0, \"#0d0887\"], [0.1111111111111111, \"#46039f\"], [0.2222222222222222, \"#7201a8\"], [0.3333333333333333, \"#9c179e\"], [0.4444444444444444, \"#bd3786\"], [0.5555555555555556, \"#d8576b\"], [0.6666666666666666, \"#ed7953\"], [0.7777777777777778, \"#fb9f3a\"], [0.8888888888888888, \"#fdca26\"], [1.0, \"#f0f921\"]], \"type\": \"contour\"}], \"contourcarpet\": [{\"colorbar\": {\"outlinewidth\": 0, \"ticks\": \"\"}, \"type\": \"contourcarpet\"}], \"heatmap\": [{\"colorbar\": {\"outlinewidth\": 0, \"ticks\": \"\"}, \"colorscale\": [[0.0, \"#0d0887\"], [0.1111111111111111, \"#46039f\"], [0.2222222222222222, \"#7201a8\"], [0.3333333333333333, \"#9c179e\"], [0.4444444444444444, \"#bd3786\"], [0.5555555555555556, \"#d8576b\"], [0.6666666666666666, \"#ed7953\"], [0.7777777777777778, \"#fb9f3a\"], [0.8888888888888888, \"#fdca26\"], [1.0, \"#f0f921\"]], \"type\": \"heatmap\"}], \"heatmapgl\": [{\"colorbar\": {\"outlinewidth\": 0, \"ticks\": \"\"}, \"colorscale\": [[0.0, \"#0d0887\"], [0.1111111111111111, \"#46039f\"], [0.2222222222222222, \"#7201a8\"], [0.3333333333333333, \"#9c179e\"], [0.4444444444444444, \"#bd3786\"], [0.5555555555555556, \"#d8576b\"], [0.6666666666666666, \"#ed7953\"], [0.7777777777777778, \"#fb9f3a\"], [0.8888888888888888, \"#fdca26\"], [1.0, \"#f0f921\"]], \"type\": \"heatmapgl\"}], \"histogram\": [{\"marker\": {\"colorbar\": {\"outlinewidth\": 0, \"ticks\": \"\"}}, \"type\": \"histogram\"}], \"histogram2d\": [{\"colorbar\": {\"outlinewidth\": 0, \"ticks\": \"\"}, \"colorscale\": [[0.0, \"#0d0887\"], [0.1111111111111111, \"#46039f\"], [0.2222222222222222, \"#7201a8\"], [0.3333333333333333, \"#9c179e\"], [0.4444444444444444, \"#bd3786\"], [0.5555555555555556, \"#d8576b\"], [0.6666666666666666, \"#ed7953\"], [0.7777777777777778, \"#fb9f3a\"], [0.8888888888888888, \"#fdca26\"], [1.0, \"#f0f921\"]], \"type\": \"histogram2d\"}], \"histogram2dcontour\": [{\"colorbar\": {\"outlinewidth\": 0, \"ticks\": \"\"}, \"colorscale\": [[0.0, \"#0d0887\"], [0.1111111111111111, \"#46039f\"], [0.2222222222222222, \"#7201a8\"], [0.3333333333333333, \"#9c179e\"], [0.4444444444444444, \"#bd3786\"], [0.5555555555555556, \"#d8576b\"], [0.6666666666666666, \"#ed7953\"], [0.7777777777777778, \"#fb9f3a\"], [0.8888888888888888, \"#fdca26\"], [1.0, \"#f0f921\"]], \"type\": \"histogram2dcontour\"}], \"mesh3d\": [{\"colorbar\": {\"outlinewidth\": 0, \"ticks\": \"\"}, \"type\": \"mesh3d\"}], \"parcoords\": [{\"line\": {\"colorbar\": {\"outlinewidth\": 0, \"ticks\": \"\"}}, \"type\": \"parcoords\"}], \"pie\": [{\"automargin\": true, \"type\": \"pie\"}], \"scatter\": [{\"marker\": {\"colorbar\": {\"outlinewidth\": 0, \"ticks\": \"\"}}, \"type\": \"scatter\"}], \"scatter3d\": [{\"line\": {\"colorbar\": {\"outlinewidth\": 0, \"ticks\": \"\"}}, \"marker\": {\"colorbar\": {\"outlinewidth\": 0, \"ticks\": \"\"}}, \"type\": \"scatter3d\"}], \"scattercarpet\": [{\"marker\": {\"colorbar\": {\"outlinewidth\": 0, \"ticks\": \"\"}}, \"type\": \"scattercarpet\"}], \"scattergeo\": [{\"marker\": {\"colorbar\": {\"outlinewidth\": 0, \"ticks\": \"\"}}, \"type\": \"scattergeo\"}], \"scattergl\": [{\"marker\": {\"colorbar\": {\"outlinewidth\": 0, \"ticks\": \"\"}}, \"type\": \"scattergl\"}], \"scattermapbox\": [{\"marker\": {\"colorbar\": {\"outlinewidth\": 0, \"ticks\": \"\"}}, \"type\": \"scattermapbox\"}], \"scatterpolar\": [{\"marker\": {\"colorbar\": {\"outlinewidth\": 0, \"ticks\": \"\"}}, \"type\": \"scatterpolar\"}], \"scatterpolargl\": [{\"marker\": {\"colorbar\": {\"outlinewidth\": 0, \"ticks\": \"\"}}, \"type\": \"scatterpolargl\"}], \"scatterternary\": [{\"marker\": {\"colorbar\": {\"outlinewidth\": 0, \"ticks\": \"\"}}, \"type\": \"scatterternary\"}], \"surface\": [{\"colorbar\": {\"outlinewidth\": 0, \"ticks\": \"\"}, \"colorscale\": [[0.0, \"#0d0887\"], [0.1111111111111111, \"#46039f\"], [0.2222222222222222, \"#7201a8\"], [0.3333333333333333, \"#9c179e\"], [0.4444444444444444, \"#bd3786\"], [0.5555555555555556, \"#d8576b\"], [0.6666666666666666, \"#ed7953\"], [0.7777777777777778, \"#fb9f3a\"], [0.8888888888888888, \"#fdca26\"], [1.0, \"#f0f921\"]], \"type\": \"surface\"}], \"table\": [{\"cells\": {\"fill\": {\"color\": \"#EBF0F8\"}, \"line\": {\"color\": \"white\"}}, \"header\": {\"fill\": {\"color\": \"#C8D4E3\"}, \"line\": {\"color\": \"white\"}}, \"type\": \"table\"}]}, \"layout\": {\"annotationdefaults\": {\"arrowcolor\": \"#2a3f5f\", \"arrowhead\": 0, \"arrowwidth\": 1}, \"coloraxis\": {\"colorbar\": {\"outlinewidth\": 0, \"ticks\": \"\"}}, \"colorscale\": {\"diverging\": [[0, \"#8e0152\"], [0.1, \"#c51b7d\"], [0.2, \"#de77ae\"], [0.3, \"#f1b6da\"], [0.4, \"#fde0ef\"], [0.5, \"#f7f7f7\"], [0.6, \"#e6f5d0\"], [0.7, \"#b8e186\"], [0.8, \"#7fbc41\"], [0.9, \"#4d9221\"], [1, \"#276419\"]], \"sequential\": [[0.0, \"#0d0887\"], [0.1111111111111111, \"#46039f\"], [0.2222222222222222, \"#7201a8\"], [0.3333333333333333, \"#9c179e\"], [0.4444444444444444, \"#bd3786\"], [0.5555555555555556, \"#d8576b\"], [0.6666666666666666, \"#ed7953\"], [0.7777777777777778, \"#fb9f3a\"], [0.8888888888888888, \"#fdca26\"], [1.0, \"#f0f921\"]], \"sequentialminus\": [[0.0, \"#0d0887\"], [0.1111111111111111, \"#46039f\"], [0.2222222222222222, \"#7201a8\"], [0.3333333333333333, \"#9c179e\"], [0.4444444444444444, \"#bd3786\"], [0.5555555555555556, \"#d8576b\"], [0.6666666666666666, \"#ed7953\"], [0.7777777777777778, \"#fb9f3a\"], [0.8888888888888888, \"#fdca26\"], [1.0, \"#f0f921\"]]}, \"colorway\": [\"#636efa\", \"#EF553B\", \"#00cc96\", \"#ab63fa\", \"#FFA15A\", \"#19d3f3\", \"#FF6692\", \"#B6E880\", \"#FF97FF\", \"#FECB52\"], \"font\": {\"color\": \"#2a3f5f\"}, \"geo\": {\"bgcolor\": \"white\", \"lakecolor\": \"white\", \"landcolor\": \"#E5ECF6\", \"showlakes\": true, \"showland\": true, \"subunitcolor\": \"white\"}, \"hoverlabel\": {\"align\": \"left\"}, \"hovermode\": \"closest\", \"mapbox\": {\"style\": \"light\"}, \"paper_bgcolor\": \"white\", \"plot_bgcolor\": \"#E5ECF6\", \"polar\": {\"angularaxis\": {\"gridcolor\": \"white\", \"linecolor\": \"white\", \"ticks\": \"\"}, \"bgcolor\": \"#E5ECF6\", \"radialaxis\": {\"gridcolor\": \"white\", \"linecolor\": \"white\", \"ticks\": \"\"}}, \"scene\": {\"xaxis\": {\"backgroundcolor\": \"#E5ECF6\", \"gridcolor\": \"white\", \"gridwidth\": 2, \"linecolor\": \"white\", \"showbackground\": true, \"ticks\": \"\", \"zerolinecolor\": \"white\"}, \"yaxis\": {\"backgroundcolor\": \"#E5ECF6\", \"gridcolor\": \"white\", \"gridwidth\": 2, \"linecolor\": \"white\", \"showbackground\": true, \"ticks\": \"\", \"zerolinecolor\": \"white\"}, \"zaxis\": {\"backgroundcolor\": \"#E5ECF6\", \"gridcolor\": \"white\", \"gridwidth\": 2, \"linecolor\": \"white\", \"showbackground\": true, \"ticks\": \"\", \"zerolinecolor\": \"white\"}}, \"shapedefaults\": {\"line\": {\"color\": \"#2a3f5f\"}}, \"ternary\": {\"aaxis\": {\"gridcolor\": \"white\", \"linecolor\": \"white\", \"ticks\": \"\"}, \"baxis\": {\"gridcolor\": \"white\", \"linecolor\": \"white\", \"ticks\": \"\"}, \"bgcolor\": \"#E5ECF6\", \"caxis\": {\"gridcolor\": \"white\", \"linecolor\": \"white\", \"ticks\": \"\"}}, \"title\": {\"x\": 0.05}, \"xaxis\": {\"automargin\": true, \"gridcolor\": \"white\", \"linecolor\": \"white\", \"ticks\": \"\", \"title\": {\"standoff\": 15}, \"zerolinecolor\": \"white\", \"zerolinewidth\": 2}, \"yaxis\": {\"automargin\": true, \"gridcolor\": \"white\", \"linecolor\": \"white\", \"ticks\": \"\", \"title\": {\"standoff\": 15}, \"zerolinecolor\": \"white\", \"zerolinewidth\": 2}}}, \"title\": {\"font\": {\"color\": \"#4D5663\"}, \"text\": \"Top 10 countries comparision\"}, \"xaxis\": {\"gridcolor\": \"Pink\", \"showgrid\": true, \"tickfont\": {\"color\": \"#4D5663\"}, \"title\": {\"font\": {\"color\": \"#4D5663\"}, \"text\": \"Country\"}, \"zerolinecolor\": \"#E1E5ED\"}, \"yaxis\": {\"gridcolor\": \"Pink\", \"showgrid\": true, \"tickfont\": {\"color\": \"#4D5663\"}, \"title\": {\"font\": {\"color\": \"#4D5663\"}, \"text\": \"Case Count\"}, \"zerolinecolor\": \"#E1E5ED\"}},\n",
       "                        {\"showLink\": true, \"linkText\": \"Export to plot.ly\", \"plotlyServerURL\": \"https://plot.ly\", \"responsive\": true}\n",
       "                    ).then(function(){\n",
       "                            \n",
       "var gd = document.getElementById('5a1d95ad-1aa3-47a7-a9f1-99a342952869');\n",
       "var x = new MutationObserver(function (mutations, observer) {{\n",
       "        var display = window.getComputedStyle(gd).display;\n",
       "        if (!display || display === 'none') {{\n",
       "            console.log([gd, 'removed!']);\n",
       "            Plotly.purge(gd);\n",
       "            observer.disconnect();\n",
       "        }}\n",
       "}});\n",
       "\n",
       "// Listen for the removal of the full notebook cells\n",
       "var notebookContainer = gd.closest('#notebook-container');\n",
       "if (notebookContainer) {{\n",
       "    x.observe(notebookContainer, {childList: true});\n",
       "}}\n",
       "\n",
       "// Listen for the clearing of the current output cell\n",
       "var outputEl = gd.closest('.output');\n",
       "if (outputEl) {{\n",
       "    x.observe(outputEl, {childList: true});\n",
       "}}\n",
       "\n",
       "                        })\n",
       "                };\n",
       "                });\n",
       "            </script>\n",
       "        </div>"
      ]
     },
     "metadata": {},
     "output_type": "display_data"
    }
   ],
   "source": [
    "cf.go_offline()\n",
    "df_countries_10[['Confirmed','Deaths','Recovered']].iplot(kind='scatter',colors=['red','Blue','Green'],size=1,xTitle='Country',\n",
    "                                                          yTitle='Case Count',gridcolor='Pink',title='Top 10 countries comparision',\n",
    "                                                         filename=\"my_barplot\")\n",
    "#plt.savefig('top 10 countries comparision.png')"
   ]
  },
  {
   "cell_type": "code",
   "execution_count": null,
   "metadata": {},
   "outputs": [],
   "source": []
  },
  {
   "cell_type": "code",
   "execution_count": 678,
   "metadata": {},
   "outputs": [
    {
     "data": {
      "application/vnd.plotly.v1+json": {
       "config": {
        "linkText": "Export to plot.ly",
        "plotlyServerURL": "https://plot.ly",
        "showLink": true
       },
       "data": [
        {
         "colorscale": [
          [
           0,
           "rgb(165,0,38)"
          ],
          [
           0.1,
           "rgb(215,48,39)"
          ],
          [
           0.2,
           "rgb(244,109,67)"
          ],
          [
           0.3,
           "rgb(253,174,97)"
          ],
          [
           0.4,
           "rgb(254,224,144)"
          ],
          [
           0.5,
           "rgb(255,255,191)"
          ],
          [
           0.6,
           "rgb(224,243,248)"
          ],
          [
           0.7,
           "rgb(171,217,233)"
          ],
          [
           0.8,
           "rgb(116,173,209)"
          ],
          [
           0.9,
           "rgb(69,117,180)"
          ],
          [
           1,
           "rgb(49,54,149)"
          ]
         ],
         "type": "surface",
         "x": [
          0,
          1,
          2,
          3,
          4,
          5,
          6,
          7,
          8,
          9
         ],
         "y": [
          0,
          1,
          2
         ],
         "z": [
          [
           1577147,
           317554,
           310087,
           250908,
           233037,
           228006,
           179306,
           179021,
           153548,
           129341
          ],
          [
           94702,
           3099,
           20047,
           36042,
           27940,
           32486,
           28167,
           8203,
           4249,
           7249
          ],
          [
           298418,
           92681,
           125960,
           0,
           150376,
           134560,
           62216,
           158087,
           114990,
           100564
          ]
         ]
        }
       ],
       "layout": {
        "legend": {
         "bgcolor": "#F5F6F9",
         "font": {
          "color": "#4D5663"
         }
        },
        "paper_bgcolor": "#F5F6F9",
        "plot_bgcolor": "#F5F6F9",
        "template": {
         "data": {
          "bar": [
           {
            "error_x": {
             "color": "#2a3f5f"
            },
            "error_y": {
             "color": "#2a3f5f"
            },
            "marker": {
             "line": {
              "color": "#E5ECF6",
              "width": 0.5
             }
            },
            "type": "bar"
           }
          ],
          "barpolar": [
           {
            "marker": {
             "line": {
              "color": "#E5ECF6",
              "width": 0.5
             }
            },
            "type": "barpolar"
           }
          ],
          "carpet": [
           {
            "aaxis": {
             "endlinecolor": "#2a3f5f",
             "gridcolor": "white",
             "linecolor": "white",
             "minorgridcolor": "white",
             "startlinecolor": "#2a3f5f"
            },
            "baxis": {
             "endlinecolor": "#2a3f5f",
             "gridcolor": "white",
             "linecolor": "white",
             "minorgridcolor": "white",
             "startlinecolor": "#2a3f5f"
            },
            "type": "carpet"
           }
          ],
          "choropleth": [
           {
            "colorbar": {
             "outlinewidth": 0,
             "ticks": ""
            },
            "type": "choropleth"
           }
          ],
          "contour": [
           {
            "colorbar": {
             "outlinewidth": 0,
             "ticks": ""
            },
            "colorscale": [
             [
              0,
              "#0d0887"
             ],
             [
              0.1111111111111111,
              "#46039f"
             ],
             [
              0.2222222222222222,
              "#7201a8"
             ],
             [
              0.3333333333333333,
              "#9c179e"
             ],
             [
              0.4444444444444444,
              "#bd3786"
             ],
             [
              0.5555555555555556,
              "#d8576b"
             ],
             [
              0.6666666666666666,
              "#ed7953"
             ],
             [
              0.7777777777777778,
              "#fb9f3a"
             ],
             [
              0.8888888888888888,
              "#fdca26"
             ],
             [
              1,
              "#f0f921"
             ]
            ],
            "type": "contour"
           }
          ],
          "contourcarpet": [
           {
            "colorbar": {
             "outlinewidth": 0,
             "ticks": ""
            },
            "type": "contourcarpet"
           }
          ],
          "heatmap": [
           {
            "colorbar": {
             "outlinewidth": 0,
             "ticks": ""
            },
            "colorscale": [
             [
              0,
              "#0d0887"
             ],
             [
              0.1111111111111111,
              "#46039f"
             ],
             [
              0.2222222222222222,
              "#7201a8"
             ],
             [
              0.3333333333333333,
              "#9c179e"
             ],
             [
              0.4444444444444444,
              "#bd3786"
             ],
             [
              0.5555555555555556,
              "#d8576b"
             ],
             [
              0.6666666666666666,
              "#ed7953"
             ],
             [
              0.7777777777777778,
              "#fb9f3a"
             ],
             [
              0.8888888888888888,
              "#fdca26"
             ],
             [
              1,
              "#f0f921"
             ]
            ],
            "type": "heatmap"
           }
          ],
          "heatmapgl": [
           {
            "colorbar": {
             "outlinewidth": 0,
             "ticks": ""
            },
            "colorscale": [
             [
              0,
              "#0d0887"
             ],
             [
              0.1111111111111111,
              "#46039f"
             ],
             [
              0.2222222222222222,
              "#7201a8"
             ],
             [
              0.3333333333333333,
              "#9c179e"
             ],
             [
              0.4444444444444444,
              "#bd3786"
             ],
             [
              0.5555555555555556,
              "#d8576b"
             ],
             [
              0.6666666666666666,
              "#ed7953"
             ],
             [
              0.7777777777777778,
              "#fb9f3a"
             ],
             [
              0.8888888888888888,
              "#fdca26"
             ],
             [
              1,
              "#f0f921"
             ]
            ],
            "type": "heatmapgl"
           }
          ],
          "histogram": [
           {
            "marker": {
             "colorbar": {
              "outlinewidth": 0,
              "ticks": ""
             }
            },
            "type": "histogram"
           }
          ],
          "histogram2d": [
           {
            "colorbar": {
             "outlinewidth": 0,
             "ticks": ""
            },
            "colorscale": [
             [
              0,
              "#0d0887"
             ],
             [
              0.1111111111111111,
              "#46039f"
             ],
             [
              0.2222222222222222,
              "#7201a8"
             ],
             [
              0.3333333333333333,
              "#9c179e"
             ],
             [
              0.4444444444444444,
              "#bd3786"
             ],
             [
              0.5555555555555556,
              "#d8576b"
             ],
             [
              0.6666666666666666,
              "#ed7953"
             ],
             [
              0.7777777777777778,
              "#fb9f3a"
             ],
             [
              0.8888888888888888,
              "#fdca26"
             ],
             [
              1,
              "#f0f921"
             ]
            ],
            "type": "histogram2d"
           }
          ],
          "histogram2dcontour": [
           {
            "colorbar": {
             "outlinewidth": 0,
             "ticks": ""
            },
            "colorscale": [
             [
              0,
              "#0d0887"
             ],
             [
              0.1111111111111111,
              "#46039f"
             ],
             [
              0.2222222222222222,
              "#7201a8"
             ],
             [
              0.3333333333333333,
              "#9c179e"
             ],
             [
              0.4444444444444444,
              "#bd3786"
             ],
             [
              0.5555555555555556,
              "#d8576b"
             ],
             [
              0.6666666666666666,
              "#ed7953"
             ],
             [
              0.7777777777777778,
              "#fb9f3a"
             ],
             [
              0.8888888888888888,
              "#fdca26"
             ],
             [
              1,
              "#f0f921"
             ]
            ],
            "type": "histogram2dcontour"
           }
          ],
          "mesh3d": [
           {
            "colorbar": {
             "outlinewidth": 0,
             "ticks": ""
            },
            "type": "mesh3d"
           }
          ],
          "parcoords": [
           {
            "line": {
             "colorbar": {
              "outlinewidth": 0,
              "ticks": ""
             }
            },
            "type": "parcoords"
           }
          ],
          "pie": [
           {
            "automargin": true,
            "type": "pie"
           }
          ],
          "scatter": [
           {
            "marker": {
             "colorbar": {
              "outlinewidth": 0,
              "ticks": ""
             }
            },
            "type": "scatter"
           }
          ],
          "scatter3d": [
           {
            "line": {
             "colorbar": {
              "outlinewidth": 0,
              "ticks": ""
             }
            },
            "marker": {
             "colorbar": {
              "outlinewidth": 0,
              "ticks": ""
             }
            },
            "type": "scatter3d"
           }
          ],
          "scattercarpet": [
           {
            "marker": {
             "colorbar": {
              "outlinewidth": 0,
              "ticks": ""
             }
            },
            "type": "scattercarpet"
           }
          ],
          "scattergeo": [
           {
            "marker": {
             "colorbar": {
              "outlinewidth": 0,
              "ticks": ""
             }
            },
            "type": "scattergeo"
           }
          ],
          "scattergl": [
           {
            "marker": {
             "colorbar": {
              "outlinewidth": 0,
              "ticks": ""
             }
            },
            "type": "scattergl"
           }
          ],
          "scattermapbox": [
           {
            "marker": {
             "colorbar": {
              "outlinewidth": 0,
              "ticks": ""
             }
            },
            "type": "scattermapbox"
           }
          ],
          "scatterpolar": [
           {
            "marker": {
             "colorbar": {
              "outlinewidth": 0,
              "ticks": ""
             }
            },
            "type": "scatterpolar"
           }
          ],
          "scatterpolargl": [
           {
            "marker": {
             "colorbar": {
              "outlinewidth": 0,
              "ticks": ""
             }
            },
            "type": "scatterpolargl"
           }
          ],
          "scatterternary": [
           {
            "marker": {
             "colorbar": {
              "outlinewidth": 0,
              "ticks": ""
             }
            },
            "type": "scatterternary"
           }
          ],
          "surface": [
           {
            "colorbar": {
             "outlinewidth": 0,
             "ticks": ""
            },
            "colorscale": [
             [
              0,
              "#0d0887"
             ],
             [
              0.1111111111111111,
              "#46039f"
             ],
             [
              0.2222222222222222,
              "#7201a8"
             ],
             [
              0.3333333333333333,
              "#9c179e"
             ],
             [
              0.4444444444444444,
              "#bd3786"
             ],
             [
              0.5555555555555556,
              "#d8576b"
             ],
             [
              0.6666666666666666,
              "#ed7953"
             ],
             [
              0.7777777777777778,
              "#fb9f3a"
             ],
             [
              0.8888888888888888,
              "#fdca26"
             ],
             [
              1,
              "#f0f921"
             ]
            ],
            "type": "surface"
           }
          ],
          "table": [
           {
            "cells": {
             "fill": {
              "color": "#EBF0F8"
             },
             "line": {
              "color": "white"
             }
            },
            "header": {
             "fill": {
              "color": "#C8D4E3"
             },
             "line": {
              "color": "white"
             }
            },
            "type": "table"
           }
          ]
         },
         "layout": {
          "annotationdefaults": {
           "arrowcolor": "#2a3f5f",
           "arrowhead": 0,
           "arrowwidth": 1
          },
          "coloraxis": {
           "colorbar": {
            "outlinewidth": 0,
            "ticks": ""
           }
          },
          "colorscale": {
           "diverging": [
            [
             0,
             "#8e0152"
            ],
            [
             0.1,
             "#c51b7d"
            ],
            [
             0.2,
             "#de77ae"
            ],
            [
             0.3,
             "#f1b6da"
            ],
            [
             0.4,
             "#fde0ef"
            ],
            [
             0.5,
             "#f7f7f7"
            ],
            [
             0.6,
             "#e6f5d0"
            ],
            [
             0.7,
             "#b8e186"
            ],
            [
             0.8,
             "#7fbc41"
            ],
            [
             0.9,
             "#4d9221"
            ],
            [
             1,
             "#276419"
            ]
           ],
           "sequential": [
            [
             0,
             "#0d0887"
            ],
            [
             0.1111111111111111,
             "#46039f"
            ],
            [
             0.2222222222222222,
             "#7201a8"
            ],
            [
             0.3333333333333333,
             "#9c179e"
            ],
            [
             0.4444444444444444,
             "#bd3786"
            ],
            [
             0.5555555555555556,
             "#d8576b"
            ],
            [
             0.6666666666666666,
             "#ed7953"
            ],
            [
             0.7777777777777778,
             "#fb9f3a"
            ],
            [
             0.8888888888888888,
             "#fdca26"
            ],
            [
             1,
             "#f0f921"
            ]
           ],
           "sequentialminus": [
            [
             0,
             "#0d0887"
            ],
            [
             0.1111111111111111,
             "#46039f"
            ],
            [
             0.2222222222222222,
             "#7201a8"
            ],
            [
             0.3333333333333333,
             "#9c179e"
            ],
            [
             0.4444444444444444,
             "#bd3786"
            ],
            [
             0.5555555555555556,
             "#d8576b"
            ],
            [
             0.6666666666666666,
             "#ed7953"
            ],
            [
             0.7777777777777778,
             "#fb9f3a"
            ],
            [
             0.8888888888888888,
             "#fdca26"
            ],
            [
             1,
             "#f0f921"
            ]
           ]
          },
          "colorway": [
           "#636efa",
           "#EF553B",
           "#00cc96",
           "#ab63fa",
           "#FFA15A",
           "#19d3f3",
           "#FF6692",
           "#B6E880",
           "#FF97FF",
           "#FECB52"
          ],
          "font": {
           "color": "#2a3f5f"
          },
          "geo": {
           "bgcolor": "white",
           "lakecolor": "white",
           "landcolor": "#E5ECF6",
           "showlakes": true,
           "showland": true,
           "subunitcolor": "white"
          },
          "hoverlabel": {
           "align": "left"
          },
          "hovermode": "closest",
          "mapbox": {
           "style": "light"
          },
          "paper_bgcolor": "white",
          "plot_bgcolor": "#E5ECF6",
          "polar": {
           "angularaxis": {
            "gridcolor": "white",
            "linecolor": "white",
            "ticks": ""
           },
           "bgcolor": "#E5ECF6",
           "radialaxis": {
            "gridcolor": "white",
            "linecolor": "white",
            "ticks": ""
           }
          },
          "scene": {
           "xaxis": {
            "backgroundcolor": "#E5ECF6",
            "gridcolor": "white",
            "gridwidth": 2,
            "linecolor": "white",
            "showbackground": true,
            "ticks": "",
            "zerolinecolor": "white"
           },
           "yaxis": {
            "backgroundcolor": "#E5ECF6",
            "gridcolor": "white",
            "gridwidth": 2,
            "linecolor": "white",
            "showbackground": true,
            "ticks": "",
            "zerolinecolor": "white"
           },
           "zaxis": {
            "backgroundcolor": "#E5ECF6",
            "gridcolor": "white",
            "gridwidth": 2,
            "linecolor": "white",
            "showbackground": true,
            "ticks": "",
            "zerolinecolor": "white"
           }
          },
          "shapedefaults": {
           "line": {
            "color": "#2a3f5f"
           }
          },
          "ternary": {
           "aaxis": {
            "gridcolor": "white",
            "linecolor": "white",
            "ticks": ""
           },
           "baxis": {
            "gridcolor": "white",
            "linecolor": "white",
            "ticks": ""
           },
           "bgcolor": "#E5ECF6",
           "caxis": {
            "gridcolor": "white",
            "linecolor": "white",
            "ticks": ""
           }
          },
          "title": {
           "x": 0.05
          },
          "xaxis": {
           "automargin": true,
           "gridcolor": "white",
           "linecolor": "white",
           "ticks": "",
           "title": {
            "standoff": 15
           },
           "zerolinecolor": "white",
           "zerolinewidth": 2
          },
          "yaxis": {
           "automargin": true,
           "gridcolor": "white",
           "linecolor": "white",
           "ticks": "",
           "title": {
            "standoff": 15
           },
           "zerolinecolor": "white",
           "zerolinewidth": 2
          }
         }
        },
        "title": {
         "font": {
          "color": "#4D5663"
         }
        },
        "xaxis": {
         "gridcolor": "#E1E5ED",
         "showgrid": true,
         "tickfont": {
          "color": "#4D5663"
         },
         "title": {
          "font": {
           "color": "#4D5663"
          },
          "text": ""
         },
         "zerolinecolor": "#E1E5ED"
        },
        "yaxis": {
         "gridcolor": "#E1E5ED",
         "showgrid": true,
         "tickfont": {
          "color": "#4D5663"
         },
         "title": {
          "font": {
           "color": "#4D5663"
          },
          "text": ""
         },
         "zerolinecolor": "#E1E5ED"
        }
       }
      },
      "text/html": [
       "<div>\n",
       "        \n",
       "        \n",
       "            <div id=\"7f3e4908-953a-4cd0-aa38-8c0417071479\" class=\"plotly-graph-div\" style=\"height:525px; width:100%;\"></div>\n",
       "            <script type=\"text/javascript\">\n",
       "                require([\"plotly\"], function(Plotly) {\n",
       "                    window.PLOTLYENV=window.PLOTLYENV || {};\n",
       "                    window.PLOTLYENV.BASE_URL='https://plot.ly';\n",
       "                    \n",
       "                if (document.getElementById(\"7f3e4908-953a-4cd0-aa38-8c0417071479\")) {\n",
       "                    Plotly.newPlot(\n",
       "                        '7f3e4908-953a-4cd0-aa38-8c0417071479',\n",
       "                        [{\"colorscale\": [[0.0, \"rgb(165,0,38)\"], [0.1, \"rgb(215,48,39)\"], [0.2, \"rgb(244,109,67)\"], [0.3, \"rgb(253,174,97)\"], [0.4, \"rgb(254,224,144)\"], [0.5, \"rgb(255,255,191)\"], [0.6, \"rgb(224,243,248)\"], [0.7, \"rgb(171,217,233)\"], [0.8, \"rgb(116,173,209)\"], [0.9, \"rgb(69,117,180)\"], [1.0, \"rgb(49,54,149)\"]], \"type\": \"surface\", \"x\": [0, 1, 2, 3, 4, 5, 6, 7, 8, 9], \"y\": [0, 1, 2], \"z\": [[1577147.0, 317554.0, 310087.0, 250908.0, 233037.0, 228006.0, 179306.0, 179021.0, 153548.0, 129341.0], [94702.0, 3099.0, 20047.0, 36042.0, 27940.0, 32486.0, 28167.0, 8203.0, 4249.0, 7249.0], [298418.0, 92681.0, 125960.0, 0.0, 150376.0, 134560.0, 62216.0, 158087.0, 114990.0, 100564.0]]}],\n",
       "                        {\"legend\": {\"bgcolor\": \"#F5F6F9\", \"font\": {\"color\": \"#4D5663\"}}, \"paper_bgcolor\": \"#F5F6F9\", \"plot_bgcolor\": \"#F5F6F9\", \"template\": {\"data\": {\"bar\": [{\"error_x\": {\"color\": \"#2a3f5f\"}, \"error_y\": {\"color\": \"#2a3f5f\"}, \"marker\": {\"line\": {\"color\": \"#E5ECF6\", \"width\": 0.5}}, \"type\": \"bar\"}], \"barpolar\": [{\"marker\": {\"line\": {\"color\": \"#E5ECF6\", \"width\": 0.5}}, \"type\": \"barpolar\"}], \"carpet\": [{\"aaxis\": {\"endlinecolor\": \"#2a3f5f\", \"gridcolor\": \"white\", \"linecolor\": \"white\", \"minorgridcolor\": \"white\", \"startlinecolor\": \"#2a3f5f\"}, \"baxis\": {\"endlinecolor\": \"#2a3f5f\", \"gridcolor\": \"white\", \"linecolor\": \"white\", \"minorgridcolor\": \"white\", \"startlinecolor\": \"#2a3f5f\"}, \"type\": \"carpet\"}], \"choropleth\": [{\"colorbar\": {\"outlinewidth\": 0, \"ticks\": \"\"}, \"type\": \"choropleth\"}], \"contour\": [{\"colorbar\": {\"outlinewidth\": 0, \"ticks\": \"\"}, \"colorscale\": [[0.0, \"#0d0887\"], [0.1111111111111111, \"#46039f\"], [0.2222222222222222, \"#7201a8\"], [0.3333333333333333, \"#9c179e\"], [0.4444444444444444, \"#bd3786\"], [0.5555555555555556, \"#d8576b\"], [0.6666666666666666, \"#ed7953\"], [0.7777777777777778, \"#fb9f3a\"], [0.8888888888888888, \"#fdca26\"], [1.0, \"#f0f921\"]], \"type\": \"contour\"}], \"contourcarpet\": [{\"colorbar\": {\"outlinewidth\": 0, \"ticks\": \"\"}, \"type\": \"contourcarpet\"}], \"heatmap\": [{\"colorbar\": {\"outlinewidth\": 0, \"ticks\": \"\"}, \"colorscale\": [[0.0, \"#0d0887\"], [0.1111111111111111, \"#46039f\"], [0.2222222222222222, \"#7201a8\"], [0.3333333333333333, \"#9c179e\"], [0.4444444444444444, \"#bd3786\"], [0.5555555555555556, \"#d8576b\"], [0.6666666666666666, \"#ed7953\"], [0.7777777777777778, \"#fb9f3a\"], [0.8888888888888888, \"#fdca26\"], [1.0, \"#f0f921\"]], \"type\": \"heatmap\"}], \"heatmapgl\": [{\"colorbar\": {\"outlinewidth\": 0, \"ticks\": \"\"}, \"colorscale\": [[0.0, \"#0d0887\"], [0.1111111111111111, \"#46039f\"], [0.2222222222222222, \"#7201a8\"], [0.3333333333333333, \"#9c179e\"], [0.4444444444444444, \"#bd3786\"], [0.5555555555555556, \"#d8576b\"], [0.6666666666666666, \"#ed7953\"], [0.7777777777777778, \"#fb9f3a\"], [0.8888888888888888, \"#fdca26\"], [1.0, \"#f0f921\"]], \"type\": \"heatmapgl\"}], \"histogram\": [{\"marker\": {\"colorbar\": {\"outlinewidth\": 0, \"ticks\": \"\"}}, \"type\": \"histogram\"}], \"histogram2d\": [{\"colorbar\": {\"outlinewidth\": 0, \"ticks\": \"\"}, \"colorscale\": [[0.0, \"#0d0887\"], [0.1111111111111111, \"#46039f\"], [0.2222222222222222, \"#7201a8\"], [0.3333333333333333, \"#9c179e\"], [0.4444444444444444, \"#bd3786\"], [0.5555555555555556, \"#d8576b\"], [0.6666666666666666, \"#ed7953\"], [0.7777777777777778, \"#fb9f3a\"], [0.8888888888888888, \"#fdca26\"], [1.0, \"#f0f921\"]], \"type\": \"histogram2d\"}], \"histogram2dcontour\": [{\"colorbar\": {\"outlinewidth\": 0, \"ticks\": \"\"}, \"colorscale\": [[0.0, \"#0d0887\"], [0.1111111111111111, \"#46039f\"], [0.2222222222222222, \"#7201a8\"], [0.3333333333333333, \"#9c179e\"], [0.4444444444444444, \"#bd3786\"], [0.5555555555555556, \"#d8576b\"], [0.6666666666666666, \"#ed7953\"], [0.7777777777777778, \"#fb9f3a\"], [0.8888888888888888, \"#fdca26\"], [1.0, \"#f0f921\"]], \"type\": \"histogram2dcontour\"}], \"mesh3d\": [{\"colorbar\": {\"outlinewidth\": 0, \"ticks\": \"\"}, \"type\": \"mesh3d\"}], \"parcoords\": [{\"line\": {\"colorbar\": {\"outlinewidth\": 0, \"ticks\": \"\"}}, \"type\": \"parcoords\"}], \"pie\": [{\"automargin\": true, \"type\": \"pie\"}], \"scatter\": [{\"marker\": {\"colorbar\": {\"outlinewidth\": 0, \"ticks\": \"\"}}, \"type\": \"scatter\"}], \"scatter3d\": [{\"line\": {\"colorbar\": {\"outlinewidth\": 0, \"ticks\": \"\"}}, \"marker\": {\"colorbar\": {\"outlinewidth\": 0, \"ticks\": \"\"}}, \"type\": \"scatter3d\"}], \"scattercarpet\": [{\"marker\": {\"colorbar\": {\"outlinewidth\": 0, \"ticks\": \"\"}}, \"type\": \"scattercarpet\"}], \"scattergeo\": [{\"marker\": {\"colorbar\": {\"outlinewidth\": 0, \"ticks\": \"\"}}, \"type\": \"scattergeo\"}], \"scattergl\": [{\"marker\": {\"colorbar\": {\"outlinewidth\": 0, \"ticks\": \"\"}}, \"type\": \"scattergl\"}], \"scattermapbox\": [{\"marker\": {\"colorbar\": {\"outlinewidth\": 0, \"ticks\": \"\"}}, \"type\": \"scattermapbox\"}], \"scatterpolar\": [{\"marker\": {\"colorbar\": {\"outlinewidth\": 0, \"ticks\": \"\"}}, \"type\": \"scatterpolar\"}], \"scatterpolargl\": [{\"marker\": {\"colorbar\": {\"outlinewidth\": 0, \"ticks\": \"\"}}, \"type\": \"scatterpolargl\"}], \"scatterternary\": [{\"marker\": {\"colorbar\": {\"outlinewidth\": 0, \"ticks\": \"\"}}, \"type\": \"scatterternary\"}], \"surface\": [{\"colorbar\": {\"outlinewidth\": 0, \"ticks\": \"\"}, \"colorscale\": [[0.0, \"#0d0887\"], [0.1111111111111111, \"#46039f\"], [0.2222222222222222, \"#7201a8\"], [0.3333333333333333, \"#9c179e\"], [0.4444444444444444, \"#bd3786\"], [0.5555555555555556, \"#d8576b\"], [0.6666666666666666, \"#ed7953\"], [0.7777777777777778, \"#fb9f3a\"], [0.8888888888888888, \"#fdca26\"], [1.0, \"#f0f921\"]], \"type\": \"surface\"}], \"table\": [{\"cells\": {\"fill\": {\"color\": \"#EBF0F8\"}, \"line\": {\"color\": \"white\"}}, \"header\": {\"fill\": {\"color\": \"#C8D4E3\"}, \"line\": {\"color\": \"white\"}}, \"type\": \"table\"}]}, \"layout\": {\"annotationdefaults\": {\"arrowcolor\": \"#2a3f5f\", \"arrowhead\": 0, \"arrowwidth\": 1}, \"coloraxis\": {\"colorbar\": {\"outlinewidth\": 0, \"ticks\": \"\"}}, \"colorscale\": {\"diverging\": [[0, \"#8e0152\"], [0.1, \"#c51b7d\"], [0.2, \"#de77ae\"], [0.3, \"#f1b6da\"], [0.4, \"#fde0ef\"], [0.5, \"#f7f7f7\"], [0.6, \"#e6f5d0\"], [0.7, \"#b8e186\"], [0.8, \"#7fbc41\"], [0.9, \"#4d9221\"], [1, \"#276419\"]], \"sequential\": [[0.0, \"#0d0887\"], [0.1111111111111111, \"#46039f\"], [0.2222222222222222, \"#7201a8\"], [0.3333333333333333, \"#9c179e\"], [0.4444444444444444, \"#bd3786\"], [0.5555555555555556, \"#d8576b\"], [0.6666666666666666, \"#ed7953\"], [0.7777777777777778, \"#fb9f3a\"], [0.8888888888888888, \"#fdca26\"], [1.0, \"#f0f921\"]], \"sequentialminus\": [[0.0, \"#0d0887\"], [0.1111111111111111, \"#46039f\"], [0.2222222222222222, \"#7201a8\"], [0.3333333333333333, \"#9c179e\"], [0.4444444444444444, \"#bd3786\"], [0.5555555555555556, \"#d8576b\"], [0.6666666666666666, \"#ed7953\"], [0.7777777777777778, \"#fb9f3a\"], [0.8888888888888888, \"#fdca26\"], [1.0, \"#f0f921\"]]}, \"colorway\": [\"#636efa\", \"#EF553B\", \"#00cc96\", \"#ab63fa\", \"#FFA15A\", \"#19d3f3\", \"#FF6692\", \"#B6E880\", \"#FF97FF\", \"#FECB52\"], \"font\": {\"color\": \"#2a3f5f\"}, \"geo\": {\"bgcolor\": \"white\", \"lakecolor\": \"white\", \"landcolor\": \"#E5ECF6\", \"showlakes\": true, \"showland\": true, \"subunitcolor\": \"white\"}, \"hoverlabel\": {\"align\": \"left\"}, \"hovermode\": \"closest\", \"mapbox\": {\"style\": \"light\"}, \"paper_bgcolor\": \"white\", \"plot_bgcolor\": \"#E5ECF6\", \"polar\": {\"angularaxis\": {\"gridcolor\": \"white\", \"linecolor\": \"white\", \"ticks\": \"\"}, \"bgcolor\": \"#E5ECF6\", \"radialaxis\": {\"gridcolor\": \"white\", \"linecolor\": \"white\", \"ticks\": \"\"}}, \"scene\": {\"xaxis\": {\"backgroundcolor\": \"#E5ECF6\", \"gridcolor\": \"white\", \"gridwidth\": 2, \"linecolor\": \"white\", \"showbackground\": true, \"ticks\": \"\", \"zerolinecolor\": \"white\"}, \"yaxis\": {\"backgroundcolor\": \"#E5ECF6\", \"gridcolor\": \"white\", \"gridwidth\": 2, \"linecolor\": \"white\", \"showbackground\": true, \"ticks\": \"\", \"zerolinecolor\": \"white\"}, \"zaxis\": {\"backgroundcolor\": \"#E5ECF6\", \"gridcolor\": \"white\", \"gridwidth\": 2, \"linecolor\": \"white\", \"showbackground\": true, \"ticks\": \"\", \"zerolinecolor\": \"white\"}}, \"shapedefaults\": {\"line\": {\"color\": \"#2a3f5f\"}}, \"ternary\": {\"aaxis\": {\"gridcolor\": \"white\", \"linecolor\": \"white\", \"ticks\": \"\"}, \"baxis\": {\"gridcolor\": \"white\", \"linecolor\": \"white\", \"ticks\": \"\"}, \"bgcolor\": \"#E5ECF6\", \"caxis\": {\"gridcolor\": \"white\", \"linecolor\": \"white\", \"ticks\": \"\"}}, \"title\": {\"x\": 0.05}, \"xaxis\": {\"automargin\": true, \"gridcolor\": \"white\", \"linecolor\": \"white\", \"ticks\": \"\", \"title\": {\"standoff\": 15}, \"zerolinecolor\": \"white\", \"zerolinewidth\": 2}, \"yaxis\": {\"automargin\": true, \"gridcolor\": \"white\", \"linecolor\": \"white\", \"ticks\": \"\", \"title\": {\"standoff\": 15}, \"zerolinecolor\": \"white\", \"zerolinewidth\": 2}}}, \"title\": {\"font\": {\"color\": \"#4D5663\"}}, \"xaxis\": {\"gridcolor\": \"#E1E5ED\", \"showgrid\": true, \"tickfont\": {\"color\": \"#4D5663\"}, \"title\": {\"font\": {\"color\": \"#4D5663\"}, \"text\": \"\"}, \"zerolinecolor\": \"#E1E5ED\"}, \"yaxis\": {\"gridcolor\": \"#E1E5ED\", \"showgrid\": true, \"tickfont\": {\"color\": \"#4D5663\"}, \"title\": {\"font\": {\"color\": \"#4D5663\"}, \"text\": \"\"}, \"zerolinecolor\": \"#E1E5ED\"}},\n",
       "                        {\"showLink\": true, \"linkText\": \"Export to plot.ly\", \"plotlyServerURL\": \"https://plot.ly\", \"responsive\": true}\n",
       "                    ).then(function(){\n",
       "                            \n",
       "var gd = document.getElementById('7f3e4908-953a-4cd0-aa38-8c0417071479');\n",
       "var x = new MutationObserver(function (mutations, observer) {{\n",
       "        var display = window.getComputedStyle(gd).display;\n",
       "        if (!display || display === 'none') {{\n",
       "            console.log([gd, 'removed!']);\n",
       "            Plotly.purge(gd);\n",
       "            observer.disconnect();\n",
       "        }}\n",
       "}});\n",
       "\n",
       "// Listen for the removal of the full notebook cells\n",
       "var notebookContainer = gd.closest('#notebook-container');\n",
       "if (notebookContainer) {{\n",
       "    x.observe(notebookContainer, {childList: true});\n",
       "}}\n",
       "\n",
       "// Listen for the clearing of the current output cell\n",
       "var outputEl = gd.closest('.output');\n",
       "if (outputEl) {{\n",
       "    x.observe(outputEl, {childList: true});\n",
       "}}\n",
       "\n",
       "                        })\n",
       "                };\n",
       "                });\n",
       "            </script>\n",
       "        </div>"
      ]
     },
     "metadata": {},
     "output_type": "display_data"
    }
   ],
   "source": [
    "df3 = df_countries_10[['Confirmed','Deaths','Recovered']].values\n",
    "df3 = pd.DataFrame(df3)\n",
    "df3\n",
    "df3.iplot(kind='surface',colorscale='rdylbu')\n"
   ]
  },
  {
   "cell_type": "markdown",
   "metadata": {},
   "source": [
    "## Global spread of covid-19 on world geographical map"
   ]
  },
  {
   "cell_type": "code",
   "execution_count": 679,
   "metadata": {},
   "outputs": [
    {
     "data": {
      "text/html": [
       "        <script type=\"text/javascript\">\n",
       "        window.PlotlyConfig = {MathJaxConfig: 'local'};\n",
       "        if (window.MathJax) {MathJax.Hub.Config({SVG: {font: \"STIX-Web\"}});}\n",
       "        if (typeof require !== 'undefined') {\n",
       "        require.undef(\"plotly\");\n",
       "        requirejs.config({\n",
       "            paths: {\n",
       "                'plotly': ['https://cdn.plot.ly/plotly-latest.min']\n",
       "            }\n",
       "        });\n",
       "        require(['plotly'], function(Plotly) {\n",
       "            window._Plotly = Plotly;\n",
       "        });\n",
       "        }\n",
       "        </script>\n",
       "        "
      ]
     },
     "metadata": {},
     "output_type": "display_data"
    }
   ],
   "source": [
    "init_notebook_mode(connected=True) \n",
    "import plotly.graph_objs as go "
   ]
  },
  {
   "cell_type": "code",
   "execution_count": 680,
   "metadata": {},
   "outputs": [
    {
     "data": {
      "text/plain": [
       "Index(['US', 'Russia', 'Brazil', 'United Kingdom', 'Spain', 'Italy', 'France',\n",
       "       'Germany', 'Turkey', 'Iran'],\n",
       "      dtype='object', name='Country/Region')"
      ]
     },
     "execution_count": 680,
     "metadata": {},
     "output_type": "execute_result"
    }
   ],
   "source": [
    "df_countries_10.index"
   ]
  },
  {
   "cell_type": "code",
   "execution_count": null,
   "metadata": {},
   "outputs": [],
   "source": []
  },
  {
   "cell_type": "code",
   "execution_count": 681,
   "metadata": {},
   "outputs": [
    {
     "data": {
      "application/vnd.plotly.v1+json": {
       "config": {
        "linkText": "Export to plot.ly",
        "plotlyServerURL": "https://plot.ly",
        "showLink": false
       },
       "data": [
        {
         "colorbar": {
          "bgcolor": "White",
          "title": {
           "text": "Confirmd number of cases "
          }
         },
         "colorscale": [
          [
           0,
           "rgb(252, 222, 156)"
          ],
          [
           0.16666666666666666,
           "rgb(250, 164, 118)"
          ],
          [
           0.3333333333333333,
           "rgb(240, 116, 110)"
          ],
          [
           0.5,
           "rgb(227, 79, 111)"
          ],
          [
           0.6666666666666666,
           "rgb(220, 57, 119)"
          ],
          [
           0.8333333333333334,
           "rgb(185, 37, 122)"
          ],
          [
           1,
           "rgb(124, 29, 111)"
          ]
         ],
         "locationmode": "country names",
         "locations": [
          "US",
          "Russia",
          "Brazil",
          "United Kingdom",
          "Spain",
          "Italy",
          "France",
          "Germany",
          "Turkey",
          "Iran",
          "India",
          "Peru",
          "China",
          "Saudi Arabia",
          "Mexico",
          "Chile",
          "Belgium",
          "Pakistan",
          "Canada",
          "Netherlands",
          "Qatar",
          "Ecuador",
          "Belarus",
          "Sweden",
          "Switzerland",
          "Portugal",
          "Singapore",
          "Bangladesh",
          "United Arab Emirates",
          "Canada",
          "Ireland",
          "Indonesia",
          "Poland",
          "Ukraine",
          "South Africa",
          "Kuwait",
          "Colombia",
          "Romania",
          "Israel",
          "Japan",
          "Austria",
          "Egypt",
          "Dominican Republic",
          "Philippines",
          "Denmark",
          "Korea, South",
          "Serbia",
          "Panama",
          "Argentina",
          "Czechia",
          "Afghanistan",
          "Norway",
          "Bahrain",
          "Algeria",
          "Kazakhstan",
          "Morocco",
          "Malaysia",
          "Nigeria",
          "Canada",
          "Moldova",
          "Finland",
          "Oman",
          "Ghana",
          "Armenia",
          "Bolivia",
          "Cameroon",
          "Luxembourg",
          "Iraq",
          "Azerbaijan",
          "Hungary",
          "Honduras",
          "Sudan",
          "Australia",
          "Guinea",
          "Thailand",
          "Uzbekistan",
          "Greece",
          "Senegal",
          "Guatemala",
          "Canada",
          "Bosnia and Herzegovina",
          "Tajikistan",
          "Bulgaria",
          "Cote d'Ivoire",
          "Croatia",
          "Djibouti",
          "Cuba",
          "North Macedonia",
          "Congo (Kinshasa)",
          "Iceland",
          "Estonia",
          "El Salvador",
          "Somalia",
          "Lithuania",
          "Australia",
          "China",
          "Gabon",
          "New Zealand",
          "Slovakia",
          "France",
          "Slovenia",
          "Kyrgyzstan",
          "China",
          "China",
          "Maldives",
          "Kenya",
          "Guinea-Bissau",
          "Australia",
          "China",
          "Sri Lanka",
          "Canada",
          "Tunisia",
          "Latvia",
          "Lebanon",
          "China",
          "Kosovo",
          "China",
          "Albania",
          "Mali",
          "China",
          "China",
          "Niger",
          "Cyprus",
          "Costa Rica",
          "Equatorial Guinea",
          "Venezuela",
          "Zambia",
          "Paraguay",
          "Burkina Faso",
          "China",
          "Andorra",
          "Uruguay",
          "Haiti",
          "Georgia",
          "Diamond Princess",
          "Jordan",
          "China",
          "San Marino",
          "China",
          "Canada",
          "Malta",
          "China",
          "Chad",
          "Sierra Leone",
          "China",
          "China",
          "United Kingdom",
          "Australia",
          "Jamaica",
          "Tanzania",
          "South Sudan",
          "Congo (Brazzaville)",
          "Nepal",
          "France",
          "Taiwan*",
          "Australia",
          "Central African Republic",
          "West Bank and Gaza",
          "Madagascar",
          "Ethiopia",
          "Cabo Verde",
          "China",
          "Togo",
          "United Kingdom",
          "Mauritius",
          "China",
          "Vietnam",
          "Montenegro",
          "Rwanda",
          "China",
          "Canada",
          "Nicaragua",
          "Canada",
          "China",
          "Sao Tome and Principe",
          "France",
          "Liberia",
          "Australia",
          "Eswatini",
          "China",
          "Burma",
          "China",
          "Yemen",
          "France",
          "China",
          "Denmark",
          "China",
          "Mauritania",
          "China",
          "Mozambique",
          "Uganda",
          "France",
          "United Kingdom",
          "China",
          "China",
          "China",
          "Brunei",
          "Mongolia",
          "China",
          "Benin",
          "Guyana",
          "United Kingdom",
          "Cambodia",
          "United Kingdom",
          "Canada",
          "Trinidad and Tobago",
          "Australia",
          "Netherlands",
          "Bahamas",
          "Monaco",
          "Barbados",
          "Liechtenstein",
          "Netherlands",
          "China",
          "China",
          "Malawi",
          "Libya",
          "France",
          "Syria",
          "Angola",
          "Zimbabwe",
          "China",
          "Burundi",
          "France",
          "Eritrea",
          "Comoros",
          "Australia",
          "Botswana",
          "Canada",
          "Antigua and Barbuda",
          "Gambia",
          "Timor-Leste",
          "Grenada",
          "Bhutan",
          "Laos",
          "China",
          "Belize",
          "Namibia",
          "Saint Lucia",
          "France",
          "Fiji",
          "Saint Vincent and the Grenadines",
          "Netherlands",
          "Dominica",
          "Saint Kitts and Nevis",
          "Canada",
          "United Kingdom",
          "United Kingdom",
          "Holy See",
          "United Kingdom",
          "Seychelles",
          "Canada",
          "Suriname",
          "Denmark",
          "MS Zaandam",
          "United Kingdom",
          "Papua New Guinea",
          "France",
          "Western Sahara",
          "Netherlands",
          "Canada",
          "United Kingdom",
          "China",
          "Canada",
          "France",
          "Lesotho",
          "Canada"
         ],
         "reversescale": true,
         "text": [
          "US",
          "Russia",
          "Brazil",
          "United Kingdom",
          "Spain",
          "Italy",
          "France",
          "Germany",
          "Turkey",
          "Iran",
          "India",
          "Peru",
          "China",
          "Saudi Arabia",
          "Mexico",
          "Chile",
          "Belgium",
          "Pakistan",
          "Canada",
          "Netherlands",
          "Qatar",
          "Ecuador",
          "Belarus",
          "Sweden",
          "Switzerland",
          "Portugal",
          "Singapore",
          "Bangladesh",
          "United Arab Emirates",
          "Canada",
          "Ireland",
          "Indonesia",
          "Poland",
          "Ukraine",
          "South Africa",
          "Kuwait",
          "Colombia",
          "Romania",
          "Israel",
          "Japan",
          "Austria",
          "Egypt",
          "Dominican Republic",
          "Philippines",
          "Denmark",
          "Korea, South",
          "Serbia",
          "Panama",
          "Argentina",
          "Czechia",
          "Afghanistan",
          "Norway",
          "Bahrain",
          "Algeria",
          "Kazakhstan",
          "Morocco",
          "Malaysia",
          "Nigeria",
          "Canada",
          "Moldova",
          "Finland",
          "Oman",
          "Ghana",
          "Armenia",
          "Bolivia",
          "Cameroon",
          "Luxembourg",
          "Iraq",
          "Azerbaijan",
          "Hungary",
          "Honduras",
          "Sudan",
          "Australia",
          "Guinea",
          "Thailand",
          "Uzbekistan",
          "Greece",
          "Senegal",
          "Guatemala",
          "Canada",
          "Bosnia and Herzegovina",
          "Tajikistan",
          "Bulgaria",
          "Cote d'Ivoire",
          "Croatia",
          "Djibouti",
          "Cuba",
          "North Macedonia",
          "Congo (Kinshasa)",
          "Iceland",
          "Estonia",
          "El Salvador",
          "Somalia",
          "Lithuania",
          "Australia",
          "China",
          "Gabon",
          "New Zealand",
          "Slovakia",
          "France",
          "Slovenia",
          "Kyrgyzstan",
          "China",
          "China",
          "Maldives",
          "Kenya",
          "Guinea-Bissau",
          "Australia",
          "China",
          "Sri Lanka",
          "Canada",
          "Tunisia",
          "Latvia",
          "Lebanon",
          "China",
          "Kosovo",
          "China",
          "Albania",
          "Mali",
          "China",
          "China",
          "Niger",
          "Cyprus",
          "Costa Rica",
          "Equatorial Guinea",
          "Venezuela",
          "Zambia",
          "Paraguay",
          "Burkina Faso",
          "China",
          "Andorra",
          "Uruguay",
          "Haiti",
          "Georgia",
          "Diamond Princess",
          "Jordan",
          "China",
          "San Marino",
          "China",
          "Canada",
          "Malta",
          "China",
          "Chad",
          "Sierra Leone",
          "China",
          "China",
          "United Kingdom",
          "Australia",
          "Jamaica",
          "Tanzania",
          "South Sudan",
          "Congo (Brazzaville)",
          "Nepal",
          "France",
          "Taiwan*",
          "Australia",
          "Central African Republic",
          "West Bank and Gaza",
          "Madagascar",
          "Ethiopia",
          "Cabo Verde",
          "China",
          "Togo",
          "United Kingdom",
          "Mauritius",
          "China",
          "Vietnam",
          "Montenegro",
          "Rwanda",
          "China",
          "Canada",
          "Nicaragua",
          "Canada",
          "China",
          "Sao Tome and Principe",
          "France",
          "Liberia",
          "Australia",
          "Eswatini",
          "China",
          "Burma",
          "China",
          "Yemen",
          "France",
          "China",
          "Denmark",
          "China",
          "Mauritania",
          "China",
          "Mozambique",
          "Uganda",
          "France",
          "United Kingdom",
          "China",
          "China",
          "China",
          "Brunei",
          "Mongolia",
          "China",
          "Benin",
          "Guyana",
          "United Kingdom",
          "Cambodia",
          "United Kingdom",
          "Canada",
          "Trinidad and Tobago",
          "Australia",
          "Netherlands",
          "Bahamas",
          "Monaco",
          "Barbados",
          "Liechtenstein",
          "Netherlands",
          "China",
          "China",
          "Malawi",
          "Libya",
          "France",
          "Syria",
          "Angola",
          "Zimbabwe",
          "China",
          "Burundi",
          "France",
          "Eritrea",
          "Comoros",
          "Australia",
          "Botswana",
          "Canada",
          "Antigua and Barbuda",
          "Gambia",
          "Timor-Leste",
          "Grenada",
          "Bhutan",
          "Laos",
          "China",
          "Belize",
          "Namibia",
          "Saint Lucia",
          "France",
          "Fiji",
          "Saint Vincent and the Grenadines",
          "Netherlands",
          "Dominica",
          "Saint Kitts and Nevis",
          "Canada",
          "United Kingdom",
          "United Kingdom",
          "Holy See",
          "United Kingdom",
          "Seychelles",
          "Canada",
          "Suriname",
          "Denmark",
          "MS Zaandam",
          "United Kingdom",
          "Papua New Guinea",
          "France",
          "Western Sahara",
          "Netherlands",
          "Canada",
          "United Kingdom",
          "China",
          "Canada",
          "France",
          "Lesotho",
          "Canada"
         ],
         "type": "choropleth",
         "z": [
          1577147,
          317554,
          310087,
          250908,
          233037,
          228006,
          179306,
          179021,
          153548,
          129341,
          118226,
          108769,
          68135,
          65077,
          59567,
          57581,
          56235,
          48091,
          45504,
          44700,
          38651,
          35306,
          33371,
          32172,
          30694,
          29912,
          29812,
          28511,
          26898,
          25595,
          24391,
          20162,
          20143,
          19706,
          19137,
          18609,
          18330,
          17585,
          16683,
          16424,
          16404,
          15003,
          13657,
          13434,
          11182,
          11142,
          10919,
          10116,
          9931,
          8754,
          8676,
          8309,
          8174,
          7728,
          7234,
          7211,
          7059,
          7016,
          6768,
          6704,
          6493,
          6370,
          6269,
          5606,
          5187,
          4288,
          3980,
          3877,
          3749,
          3641,
          3204,
          3138,
          3084,
          3067,
          3037,
          2964,
          2853,
          2812,
          2512,
          2479,
          2350,
          2350,
          2331,
          2301,
          2237,
          2047,
          1908,
          1898,
          1835,
          1803,
          1800,
          1640,
          1594,
          1593,
          1593,
          1590,
          1567,
          1504,
          1502,
          1475,
          1468,
          1313,
          1276,
          1268,
          1216,
          1109,
          1109,
          1058,
          1055,
          1055,
          1046,
          1046,
          1025,
          1024,
          1019,
          1003,
          991,
          969,
          947,
          945,
          937,
          924,
          923,
          903,
          903,
          882,
          866,
          836,
          812,
          788,
          762,
          749,
          734,
          721,
          712,
          684,
          666,
          658,
          653,
          622,
          599,
          593,
          588,
          585,
          579,
          561,
          558,
          557,
          534,
          509,
          481,
          469,
          457,
          449,
          440,
          439,
          436,
          423,
          405,
          399,
          356,
          356,
          354,
          336,
          332,
          328,
          324,
          324,
          320,
          308,
          290,
          279,
          260,
          254,
          251,
          249,
          240,
          228,
          220,
          216,
          199,
          198,
          197,
          192,
          192,
          187,
          185,
          173,
          169,
          162,
          160,
          155,
          151,
          151,
          149,
          147,
          141,
          140,
          139,
          135,
          127,
          125,
          123,
          121,
          121,
          116,
          107,
          101,
          97,
          97,
          90,
          82,
          77,
          76,
          75,
          72,
          71,
          60,
          58,
          58,
          51,
          45,
          42,
          40,
          39,
          34,
          29,
          29,
          27,
          25,
          24,
          24,
          22,
          21,
          19,
          18,
          18,
          18,
          18,
          18,
          18,
          18,
          16,
          16,
          15,
          13,
          13,
          12,
          12,
          11,
          11,
          11,
          11,
          11,
          9,
          8,
          8,
          6,
          6,
          6,
          5,
          3,
          1,
          1,
          1,
          1,
          null
         ]
        }
       ],
       "layout": {
        "geo": {
         "showframe": false
        },
        "template": {
         "data": {
          "bar": [
           {
            "error_x": {
             "color": "#2a3f5f"
            },
            "error_y": {
             "color": "#2a3f5f"
            },
            "marker": {
             "line": {
              "color": "#E5ECF6",
              "width": 0.5
             }
            },
            "type": "bar"
           }
          ],
          "barpolar": [
           {
            "marker": {
             "line": {
              "color": "#E5ECF6",
              "width": 0.5
             }
            },
            "type": "barpolar"
           }
          ],
          "carpet": [
           {
            "aaxis": {
             "endlinecolor": "#2a3f5f",
             "gridcolor": "white",
             "linecolor": "white",
             "minorgridcolor": "white",
             "startlinecolor": "#2a3f5f"
            },
            "baxis": {
             "endlinecolor": "#2a3f5f",
             "gridcolor": "white",
             "linecolor": "white",
             "minorgridcolor": "white",
             "startlinecolor": "#2a3f5f"
            },
            "type": "carpet"
           }
          ],
          "choropleth": [
           {
            "colorbar": {
             "outlinewidth": 0,
             "ticks": ""
            },
            "type": "choropleth"
           }
          ],
          "contour": [
           {
            "colorbar": {
             "outlinewidth": 0,
             "ticks": ""
            },
            "colorscale": [
             [
              0,
              "#0d0887"
             ],
             [
              0.1111111111111111,
              "#46039f"
             ],
             [
              0.2222222222222222,
              "#7201a8"
             ],
             [
              0.3333333333333333,
              "#9c179e"
             ],
             [
              0.4444444444444444,
              "#bd3786"
             ],
             [
              0.5555555555555556,
              "#d8576b"
             ],
             [
              0.6666666666666666,
              "#ed7953"
             ],
             [
              0.7777777777777778,
              "#fb9f3a"
             ],
             [
              0.8888888888888888,
              "#fdca26"
             ],
             [
              1,
              "#f0f921"
             ]
            ],
            "type": "contour"
           }
          ],
          "contourcarpet": [
           {
            "colorbar": {
             "outlinewidth": 0,
             "ticks": ""
            },
            "type": "contourcarpet"
           }
          ],
          "heatmap": [
           {
            "colorbar": {
             "outlinewidth": 0,
             "ticks": ""
            },
            "colorscale": [
             [
              0,
              "#0d0887"
             ],
             [
              0.1111111111111111,
              "#46039f"
             ],
             [
              0.2222222222222222,
              "#7201a8"
             ],
             [
              0.3333333333333333,
              "#9c179e"
             ],
             [
              0.4444444444444444,
              "#bd3786"
             ],
             [
              0.5555555555555556,
              "#d8576b"
             ],
             [
              0.6666666666666666,
              "#ed7953"
             ],
             [
              0.7777777777777778,
              "#fb9f3a"
             ],
             [
              0.8888888888888888,
              "#fdca26"
             ],
             [
              1,
              "#f0f921"
             ]
            ],
            "type": "heatmap"
           }
          ],
          "heatmapgl": [
           {
            "colorbar": {
             "outlinewidth": 0,
             "ticks": ""
            },
            "colorscale": [
             [
              0,
              "#0d0887"
             ],
             [
              0.1111111111111111,
              "#46039f"
             ],
             [
              0.2222222222222222,
              "#7201a8"
             ],
             [
              0.3333333333333333,
              "#9c179e"
             ],
             [
              0.4444444444444444,
              "#bd3786"
             ],
             [
              0.5555555555555556,
              "#d8576b"
             ],
             [
              0.6666666666666666,
              "#ed7953"
             ],
             [
              0.7777777777777778,
              "#fb9f3a"
             ],
             [
              0.8888888888888888,
              "#fdca26"
             ],
             [
              1,
              "#f0f921"
             ]
            ],
            "type": "heatmapgl"
           }
          ],
          "histogram": [
           {
            "marker": {
             "colorbar": {
              "outlinewidth": 0,
              "ticks": ""
             }
            },
            "type": "histogram"
           }
          ],
          "histogram2d": [
           {
            "colorbar": {
             "outlinewidth": 0,
             "ticks": ""
            },
            "colorscale": [
             [
              0,
              "#0d0887"
             ],
             [
              0.1111111111111111,
              "#46039f"
             ],
             [
              0.2222222222222222,
              "#7201a8"
             ],
             [
              0.3333333333333333,
              "#9c179e"
             ],
             [
              0.4444444444444444,
              "#bd3786"
             ],
             [
              0.5555555555555556,
              "#d8576b"
             ],
             [
              0.6666666666666666,
              "#ed7953"
             ],
             [
              0.7777777777777778,
              "#fb9f3a"
             ],
             [
              0.8888888888888888,
              "#fdca26"
             ],
             [
              1,
              "#f0f921"
             ]
            ],
            "type": "histogram2d"
           }
          ],
          "histogram2dcontour": [
           {
            "colorbar": {
             "outlinewidth": 0,
             "ticks": ""
            },
            "colorscale": [
             [
              0,
              "#0d0887"
             ],
             [
              0.1111111111111111,
              "#46039f"
             ],
             [
              0.2222222222222222,
              "#7201a8"
             ],
             [
              0.3333333333333333,
              "#9c179e"
             ],
             [
              0.4444444444444444,
              "#bd3786"
             ],
             [
              0.5555555555555556,
              "#d8576b"
             ],
             [
              0.6666666666666666,
              "#ed7953"
             ],
             [
              0.7777777777777778,
              "#fb9f3a"
             ],
             [
              0.8888888888888888,
              "#fdca26"
             ],
             [
              1,
              "#f0f921"
             ]
            ],
            "type": "histogram2dcontour"
           }
          ],
          "mesh3d": [
           {
            "colorbar": {
             "outlinewidth": 0,
             "ticks": ""
            },
            "type": "mesh3d"
           }
          ],
          "parcoords": [
           {
            "line": {
             "colorbar": {
              "outlinewidth": 0,
              "ticks": ""
             }
            },
            "type": "parcoords"
           }
          ],
          "pie": [
           {
            "automargin": true,
            "type": "pie"
           }
          ],
          "scatter": [
           {
            "marker": {
             "colorbar": {
              "outlinewidth": 0,
              "ticks": ""
             }
            },
            "type": "scatter"
           }
          ],
          "scatter3d": [
           {
            "line": {
             "colorbar": {
              "outlinewidth": 0,
              "ticks": ""
             }
            },
            "marker": {
             "colorbar": {
              "outlinewidth": 0,
              "ticks": ""
             }
            },
            "type": "scatter3d"
           }
          ],
          "scattercarpet": [
           {
            "marker": {
             "colorbar": {
              "outlinewidth": 0,
              "ticks": ""
             }
            },
            "type": "scattercarpet"
           }
          ],
          "scattergeo": [
           {
            "marker": {
             "colorbar": {
              "outlinewidth": 0,
              "ticks": ""
             }
            },
            "type": "scattergeo"
           }
          ],
          "scattergl": [
           {
            "marker": {
             "colorbar": {
              "outlinewidth": 0,
              "ticks": ""
             }
            },
            "type": "scattergl"
           }
          ],
          "scattermapbox": [
           {
            "marker": {
             "colorbar": {
              "outlinewidth": 0,
              "ticks": ""
             }
            },
            "type": "scattermapbox"
           }
          ],
          "scatterpolar": [
           {
            "marker": {
             "colorbar": {
              "outlinewidth": 0,
              "ticks": ""
             }
            },
            "type": "scatterpolar"
           }
          ],
          "scatterpolargl": [
           {
            "marker": {
             "colorbar": {
              "outlinewidth": 0,
              "ticks": ""
             }
            },
            "type": "scatterpolargl"
           }
          ],
          "scatterternary": [
           {
            "marker": {
             "colorbar": {
              "outlinewidth": 0,
              "ticks": ""
             }
            },
            "type": "scatterternary"
           }
          ],
          "surface": [
           {
            "colorbar": {
             "outlinewidth": 0,
             "ticks": ""
            },
            "colorscale": [
             [
              0,
              "#0d0887"
             ],
             [
              0.1111111111111111,
              "#46039f"
             ],
             [
              0.2222222222222222,
              "#7201a8"
             ],
             [
              0.3333333333333333,
              "#9c179e"
             ],
             [
              0.4444444444444444,
              "#bd3786"
             ],
             [
              0.5555555555555556,
              "#d8576b"
             ],
             [
              0.6666666666666666,
              "#ed7953"
             ],
             [
              0.7777777777777778,
              "#fb9f3a"
             ],
             [
              0.8888888888888888,
              "#fdca26"
             ],
             [
              1,
              "#f0f921"
             ]
            ],
            "type": "surface"
           }
          ],
          "table": [
           {
            "cells": {
             "fill": {
              "color": "#EBF0F8"
             },
             "line": {
              "color": "white"
             }
            },
            "header": {
             "fill": {
              "color": "#C8D4E3"
             },
             "line": {
              "color": "white"
             }
            },
            "type": "table"
           }
          ]
         },
         "layout": {
          "annotationdefaults": {
           "arrowcolor": "#2a3f5f",
           "arrowhead": 0,
           "arrowwidth": 1
          },
          "coloraxis": {
           "colorbar": {
            "outlinewidth": 0,
            "ticks": ""
           }
          },
          "colorscale": {
           "diverging": [
            [
             0,
             "#8e0152"
            ],
            [
             0.1,
             "#c51b7d"
            ],
            [
             0.2,
             "#de77ae"
            ],
            [
             0.3,
             "#f1b6da"
            ],
            [
             0.4,
             "#fde0ef"
            ],
            [
             0.5,
             "#f7f7f7"
            ],
            [
             0.6,
             "#e6f5d0"
            ],
            [
             0.7,
             "#b8e186"
            ],
            [
             0.8,
             "#7fbc41"
            ],
            [
             0.9,
             "#4d9221"
            ],
            [
             1,
             "#276419"
            ]
           ],
           "sequential": [
            [
             0,
             "#0d0887"
            ],
            [
             0.1111111111111111,
             "#46039f"
            ],
            [
             0.2222222222222222,
             "#7201a8"
            ],
            [
             0.3333333333333333,
             "#9c179e"
            ],
            [
             0.4444444444444444,
             "#bd3786"
            ],
            [
             0.5555555555555556,
             "#d8576b"
            ],
            [
             0.6666666666666666,
             "#ed7953"
            ],
            [
             0.7777777777777778,
             "#fb9f3a"
            ],
            [
             0.8888888888888888,
             "#fdca26"
            ],
            [
             1,
             "#f0f921"
            ]
           ],
           "sequentialminus": [
            [
             0,
             "#0d0887"
            ],
            [
             0.1111111111111111,
             "#46039f"
            ],
            [
             0.2222222222222222,
             "#7201a8"
            ],
            [
             0.3333333333333333,
             "#9c179e"
            ],
            [
             0.4444444444444444,
             "#bd3786"
            ],
            [
             0.5555555555555556,
             "#d8576b"
            ],
            [
             0.6666666666666666,
             "#ed7953"
            ],
            [
             0.7777777777777778,
             "#fb9f3a"
            ],
            [
             0.8888888888888888,
             "#fdca26"
            ],
            [
             1,
             "#f0f921"
            ]
           ]
          },
          "colorway": [
           "#636efa",
           "#EF553B",
           "#00cc96",
           "#ab63fa",
           "#FFA15A",
           "#19d3f3",
           "#FF6692",
           "#B6E880",
           "#FF97FF",
           "#FECB52"
          ],
          "font": {
           "color": "#2a3f5f"
          },
          "geo": {
           "bgcolor": "white",
           "lakecolor": "white",
           "landcolor": "#E5ECF6",
           "showlakes": true,
           "showland": true,
           "subunitcolor": "white"
          },
          "hoverlabel": {
           "align": "left"
          },
          "hovermode": "closest",
          "mapbox": {
           "style": "light"
          },
          "paper_bgcolor": "white",
          "plot_bgcolor": "#E5ECF6",
          "polar": {
           "angularaxis": {
            "gridcolor": "white",
            "linecolor": "white",
            "ticks": ""
           },
           "bgcolor": "#E5ECF6",
           "radialaxis": {
            "gridcolor": "white",
            "linecolor": "white",
            "ticks": ""
           }
          },
          "scene": {
           "xaxis": {
            "backgroundcolor": "#E5ECF6",
            "gridcolor": "white",
            "gridwidth": 2,
            "linecolor": "white",
            "showbackground": true,
            "ticks": "",
            "zerolinecolor": "white"
           },
           "yaxis": {
            "backgroundcolor": "#E5ECF6",
            "gridcolor": "white",
            "gridwidth": 2,
            "linecolor": "white",
            "showbackground": true,
            "ticks": "",
            "zerolinecolor": "white"
           },
           "zaxis": {
            "backgroundcolor": "#E5ECF6",
            "gridcolor": "white",
            "gridwidth": 2,
            "linecolor": "white",
            "showbackground": true,
            "ticks": "",
            "zerolinecolor": "white"
           }
          },
          "shapedefaults": {
           "line": {
            "color": "#2a3f5f"
           }
          },
          "ternary": {
           "aaxis": {
            "gridcolor": "white",
            "linecolor": "white",
            "ticks": ""
           },
           "baxis": {
            "gridcolor": "white",
            "linecolor": "white",
            "ticks": ""
           },
           "bgcolor": "#E5ECF6",
           "caxis": {
            "gridcolor": "white",
            "linecolor": "white",
            "ticks": ""
           }
          },
          "title": {
           "x": 0.05
          },
          "xaxis": {
           "automargin": true,
           "gridcolor": "white",
           "linecolor": "white",
           "ticks": "",
           "title": {
            "standoff": 15
           },
           "zerolinecolor": "white",
           "zerolinewidth": 2
          },
          "yaxis": {
           "automargin": true,
           "gridcolor": "white",
           "linecolor": "white",
           "ticks": "",
           "title": {
            "standoff": 15
           },
           "zerolinecolor": "white",
           "zerolinewidth": 2
          }
         }
        },
        "title": {
         "text": "COVID-19 spread across world"
        }
       }
      },
      "text/html": [
       "<div>\n",
       "        \n",
       "        \n",
       "            <div id=\"c6c73739-ef28-4040-b27e-eeab295bfc06\" class=\"plotly-graph-div\" style=\"height:525px; width:100%;\"></div>\n",
       "            <script type=\"text/javascript\">\n",
       "                require([\"plotly\"], function(Plotly) {\n",
       "                    window.PLOTLYENV=window.PLOTLYENV || {};\n",
       "                    \n",
       "                if (document.getElementById(\"c6c73739-ef28-4040-b27e-eeab295bfc06\")) {\n",
       "                    Plotly.newPlot(\n",
       "                        'c6c73739-ef28-4040-b27e-eeab295bfc06',\n",
       "                        [{\"colorbar\": {\"bgcolor\": \"White\", \"title\": {\"text\": \"Confirmd number of cases \"}}, \"colorscale\": [[0.0, \"rgb(252, 222, 156)\"], [0.16666666666666666, \"rgb(250, 164, 118)\"], [0.3333333333333333, \"rgb(240, 116, 110)\"], [0.5, \"rgb(227, 79, 111)\"], [0.6666666666666666, \"rgb(220, 57, 119)\"], [0.8333333333333334, \"rgb(185, 37, 122)\"], [1.0, \"rgb(124, 29, 111)\"]], \"locationmode\": \"country names\", \"locations\": [\"US\", \"Russia\", \"Brazil\", \"United Kingdom\", \"Spain\", \"Italy\", \"France\", \"Germany\", \"Turkey\", \"Iran\", \"India\", \"Peru\", \"China\", \"Saudi Arabia\", \"Mexico\", \"Chile\", \"Belgium\", \"Pakistan\", \"Canada\", \"Netherlands\", \"Qatar\", \"Ecuador\", \"Belarus\", \"Sweden\", \"Switzerland\", \"Portugal\", \"Singapore\", \"Bangladesh\", \"United Arab Emirates\", \"Canada\", \"Ireland\", \"Indonesia\", \"Poland\", \"Ukraine\", \"South Africa\", \"Kuwait\", \"Colombia\", \"Romania\", \"Israel\", \"Japan\", \"Austria\", \"Egypt\", \"Dominican Republic\", \"Philippines\", \"Denmark\", \"Korea, South\", \"Serbia\", \"Panama\", \"Argentina\", \"Czechia\", \"Afghanistan\", \"Norway\", \"Bahrain\", \"Algeria\", \"Kazakhstan\", \"Morocco\", \"Malaysia\", \"Nigeria\", \"Canada\", \"Moldova\", \"Finland\", \"Oman\", \"Ghana\", \"Armenia\", \"Bolivia\", \"Cameroon\", \"Luxembourg\", \"Iraq\", \"Azerbaijan\", \"Hungary\", \"Honduras\", \"Sudan\", \"Australia\", \"Guinea\", \"Thailand\", \"Uzbekistan\", \"Greece\", \"Senegal\", \"Guatemala\", \"Canada\", \"Bosnia and Herzegovina\", \"Tajikistan\", \"Bulgaria\", \"Cote d'Ivoire\", \"Croatia\", \"Djibouti\", \"Cuba\", \"North Macedonia\", \"Congo (Kinshasa)\", \"Iceland\", \"Estonia\", \"El Salvador\", \"Somalia\", \"Lithuania\", \"Australia\", \"China\", \"Gabon\", \"New Zealand\", \"Slovakia\", \"France\", \"Slovenia\", \"Kyrgyzstan\", \"China\", \"China\", \"Maldives\", \"Kenya\", \"Guinea-Bissau\", \"Australia\", \"China\", \"Sri Lanka\", \"Canada\", \"Tunisia\", \"Latvia\", \"Lebanon\", \"China\", \"Kosovo\", \"China\", \"Albania\", \"Mali\", \"China\", \"China\", \"Niger\", \"Cyprus\", \"Costa Rica\", \"Equatorial Guinea\", \"Venezuela\", \"Zambia\", \"Paraguay\", \"Burkina Faso\", \"China\", \"Andorra\", \"Uruguay\", \"Haiti\", \"Georgia\", \"Diamond Princess\", \"Jordan\", \"China\", \"San Marino\", \"China\", \"Canada\", \"Malta\", \"China\", \"Chad\", \"Sierra Leone\", \"China\", \"China\", \"United Kingdom\", \"Australia\", \"Jamaica\", \"Tanzania\", \"South Sudan\", \"Congo (Brazzaville)\", \"Nepal\", \"France\", \"Taiwan*\", \"Australia\", \"Central African Republic\", \"West Bank and Gaza\", \"Madagascar\", \"Ethiopia\", \"Cabo Verde\", \"China\", \"Togo\", \"United Kingdom\", \"Mauritius\", \"China\", \"Vietnam\", \"Montenegro\", \"Rwanda\", \"China\", \"Canada\", \"Nicaragua\", \"Canada\", \"China\", \"Sao Tome and Principe\", \"France\", \"Liberia\", \"Australia\", \"Eswatini\", \"China\", \"Burma\", \"China\", \"Yemen\", \"France\", \"China\", \"Denmark\", \"China\", \"Mauritania\", \"China\", \"Mozambique\", \"Uganda\", \"France\", \"United Kingdom\", \"China\", \"China\", \"China\", \"Brunei\", \"Mongolia\", \"China\", \"Benin\", \"Guyana\", \"United Kingdom\", \"Cambodia\", \"United Kingdom\", \"Canada\", \"Trinidad and Tobago\", \"Australia\", \"Netherlands\", \"Bahamas\", \"Monaco\", \"Barbados\", \"Liechtenstein\", \"Netherlands\", \"China\", \"China\", \"Malawi\", \"Libya\", \"France\", \"Syria\", \"Angola\", \"Zimbabwe\", \"China\", \"Burundi\", \"France\", \"Eritrea\", \"Comoros\", \"Australia\", \"Botswana\", \"Canada\", \"Antigua and Barbuda\", \"Gambia\", \"Timor-Leste\", \"Grenada\", \"Bhutan\", \"Laos\", \"China\", \"Belize\", \"Namibia\", \"Saint Lucia\", \"France\", \"Fiji\", \"Saint Vincent and the Grenadines\", \"Netherlands\", \"Dominica\", \"Saint Kitts and Nevis\", \"Canada\", \"United Kingdom\", \"United Kingdom\", \"Holy See\", \"United Kingdom\", \"Seychelles\", \"Canada\", \"Suriname\", \"Denmark\", \"MS Zaandam\", \"United Kingdom\", \"Papua New Guinea\", \"France\", \"Western Sahara\", \"Netherlands\", \"Canada\", \"United Kingdom\", \"China\", \"Canada\", \"France\", \"Lesotho\", \"Canada\"], \"reversescale\": true, \"text\": [\"US\", \"Russia\", \"Brazil\", \"United Kingdom\", \"Spain\", \"Italy\", \"France\", \"Germany\", \"Turkey\", \"Iran\", \"India\", \"Peru\", \"China\", \"Saudi Arabia\", \"Mexico\", \"Chile\", \"Belgium\", \"Pakistan\", \"Canada\", \"Netherlands\", \"Qatar\", \"Ecuador\", \"Belarus\", \"Sweden\", \"Switzerland\", \"Portugal\", \"Singapore\", \"Bangladesh\", \"United Arab Emirates\", \"Canada\", \"Ireland\", \"Indonesia\", \"Poland\", \"Ukraine\", \"South Africa\", \"Kuwait\", \"Colombia\", \"Romania\", \"Israel\", \"Japan\", \"Austria\", \"Egypt\", \"Dominican Republic\", \"Philippines\", \"Denmark\", \"Korea, South\", \"Serbia\", \"Panama\", \"Argentina\", \"Czechia\", \"Afghanistan\", \"Norway\", \"Bahrain\", \"Algeria\", \"Kazakhstan\", \"Morocco\", \"Malaysia\", \"Nigeria\", \"Canada\", \"Moldova\", \"Finland\", \"Oman\", \"Ghana\", \"Armenia\", \"Bolivia\", \"Cameroon\", \"Luxembourg\", \"Iraq\", \"Azerbaijan\", \"Hungary\", \"Honduras\", \"Sudan\", \"Australia\", \"Guinea\", \"Thailand\", \"Uzbekistan\", \"Greece\", \"Senegal\", \"Guatemala\", \"Canada\", \"Bosnia and Herzegovina\", \"Tajikistan\", \"Bulgaria\", \"Cote d'Ivoire\", \"Croatia\", \"Djibouti\", \"Cuba\", \"North Macedonia\", \"Congo (Kinshasa)\", \"Iceland\", \"Estonia\", \"El Salvador\", \"Somalia\", \"Lithuania\", \"Australia\", \"China\", \"Gabon\", \"New Zealand\", \"Slovakia\", \"France\", \"Slovenia\", \"Kyrgyzstan\", \"China\", \"China\", \"Maldives\", \"Kenya\", \"Guinea-Bissau\", \"Australia\", \"China\", \"Sri Lanka\", \"Canada\", \"Tunisia\", \"Latvia\", \"Lebanon\", \"China\", \"Kosovo\", \"China\", \"Albania\", \"Mali\", \"China\", \"China\", \"Niger\", \"Cyprus\", \"Costa Rica\", \"Equatorial Guinea\", \"Venezuela\", \"Zambia\", \"Paraguay\", \"Burkina Faso\", \"China\", \"Andorra\", \"Uruguay\", \"Haiti\", \"Georgia\", \"Diamond Princess\", \"Jordan\", \"China\", \"San Marino\", \"China\", \"Canada\", \"Malta\", \"China\", \"Chad\", \"Sierra Leone\", \"China\", \"China\", \"United Kingdom\", \"Australia\", \"Jamaica\", \"Tanzania\", \"South Sudan\", \"Congo (Brazzaville)\", \"Nepal\", \"France\", \"Taiwan*\", \"Australia\", \"Central African Republic\", \"West Bank and Gaza\", \"Madagascar\", \"Ethiopia\", \"Cabo Verde\", \"China\", \"Togo\", \"United Kingdom\", \"Mauritius\", \"China\", \"Vietnam\", \"Montenegro\", \"Rwanda\", \"China\", \"Canada\", \"Nicaragua\", \"Canada\", \"China\", \"Sao Tome and Principe\", \"France\", \"Liberia\", \"Australia\", \"Eswatini\", \"China\", \"Burma\", \"China\", \"Yemen\", \"France\", \"China\", \"Denmark\", \"China\", \"Mauritania\", \"China\", \"Mozambique\", \"Uganda\", \"France\", \"United Kingdom\", \"China\", \"China\", \"China\", \"Brunei\", \"Mongolia\", \"China\", \"Benin\", \"Guyana\", \"United Kingdom\", \"Cambodia\", \"United Kingdom\", \"Canada\", \"Trinidad and Tobago\", \"Australia\", \"Netherlands\", \"Bahamas\", \"Monaco\", \"Barbados\", \"Liechtenstein\", \"Netherlands\", \"China\", \"China\", \"Malawi\", \"Libya\", \"France\", \"Syria\", \"Angola\", \"Zimbabwe\", \"China\", \"Burundi\", \"France\", \"Eritrea\", \"Comoros\", \"Australia\", \"Botswana\", \"Canada\", \"Antigua and Barbuda\", \"Gambia\", \"Timor-Leste\", \"Grenada\", \"Bhutan\", \"Laos\", \"China\", \"Belize\", \"Namibia\", \"Saint Lucia\", \"France\", \"Fiji\", \"Saint Vincent and the Grenadines\", \"Netherlands\", \"Dominica\", \"Saint Kitts and Nevis\", \"Canada\", \"United Kingdom\", \"United Kingdom\", \"Holy See\", \"United Kingdom\", \"Seychelles\", \"Canada\", \"Suriname\", \"Denmark\", \"MS Zaandam\", \"United Kingdom\", \"Papua New Guinea\", \"France\", \"Western Sahara\", \"Netherlands\", \"Canada\", \"United Kingdom\", \"China\", \"Canada\", \"France\", \"Lesotho\", \"Canada\"], \"type\": \"choropleth\", \"z\": [1577147.0, 317554.0, 310087.0, 250908.0, 233037.0, 228006.0, 179306.0, 179021.0, 153548.0, 129341.0, 118226.0, 108769.0, 68135.0, 65077.0, 59567.0, 57581.0, 56235.0, 48091.0, 45504.0, 44700.0, 38651.0, 35306.0, 33371.0, 32172.0, 30694.0, 29912.0, 29812.0, 28511.0, 26898.0, 25595.0, 24391.0, 20162.0, 20143.0, 19706.0, 19137.0, 18609.0, 18330.0, 17585.0, 16683.0, 16424.0, 16404.0, 15003.0, 13657.0, 13434.0, 11182.0, 11142.0, 10919.0, 10116.0, 9931.0, 8754.0, 8676.0, 8309.0, 8174.0, 7728.0, 7234.0, 7211.0, 7059.0, 7016.0, 6768.0, 6704.0, 6493.0, 6370.0, 6269.0, 5606.0, 5187.0, 4288.0, 3980.0, 3877.0, 3749.0, 3641.0, 3204.0, 3138.0, 3084.0, 3067.0, 3037.0, 2964.0, 2853.0, 2812.0, 2512.0, 2479.0, 2350.0, 2350.0, 2331.0, 2301.0, 2237.0, 2047.0, 1908.0, 1898.0, 1835.0, 1803.0, 1800.0, 1640.0, 1594.0, 1593.0, 1593.0, 1590.0, 1567.0, 1504.0, 1502.0, 1475.0, 1468.0, 1313.0, 1276.0, 1268.0, 1216.0, 1109.0, 1109.0, 1058.0, 1055.0, 1055.0, 1046.0, 1046.0, 1025.0, 1024.0, 1019.0, 1003.0, 991.0, 969.0, 947.0, 945.0, 937.0, 924.0, 923.0, 903.0, 903.0, 882.0, 866.0, 836.0, 812.0, 788.0, 762.0, 749.0, 734.0, 721.0, 712.0, 684.0, 666.0, 658.0, 653.0, 622.0, 599.0, 593.0, 588.0, 585.0, 579.0, 561.0, 558.0, 557.0, 534.0, 509.0, 481.0, 469.0, 457.0, 449.0, 440.0, 439.0, 436.0, 423.0, 405.0, 399.0, 356.0, 356.0, 354.0, 336.0, 332.0, 328.0, 324.0, 324.0, 320.0, 308.0, 290.0, 279.0, 260.0, 254.0, 251.0, 249.0, 240.0, 228.0, 220.0, 216.0, 199.0, 198.0, 197.0, 192.0, 192.0, 187.0, 185.0, 173.0, 169.0, 162.0, 160.0, 155.0, 151.0, 151.0, 149.0, 147.0, 141.0, 140.0, 139.0, 135.0, 127.0, 125.0, 123.0, 121.0, 121.0, 116.0, 107.0, 101.0, 97.0, 97.0, 90.0, 82.0, 77.0, 76.0, 75.0, 72.0, 71.0, 60.0, 58.0, 58.0, 51.0, 45.0, 42.0, 40.0, 39.0, 34.0, 29.0, 29.0, 27.0, 25.0, 24.0, 24.0, 22.0, 21.0, 19.0, 18.0, 18.0, 18.0, 18.0, 18.0, 18.0, 18.0, 16.0, 16.0, 15.0, 13.0, 13.0, 12.0, 12.0, 11.0, 11.0, 11.0, 11.0, 11.0, 9.0, 8.0, 8.0, 6.0, 6.0, 6.0, 5.0, 3.0, 1.0, 1.0, 1.0, 1.0, null]}],\n",
       "                        {\"geo\": {\"showframe\": false}, \"template\": {\"data\": {\"bar\": [{\"error_x\": {\"color\": \"#2a3f5f\"}, \"error_y\": {\"color\": \"#2a3f5f\"}, \"marker\": {\"line\": {\"color\": \"#E5ECF6\", \"width\": 0.5}}, \"type\": \"bar\"}], \"barpolar\": [{\"marker\": {\"line\": {\"color\": \"#E5ECF6\", \"width\": 0.5}}, \"type\": \"barpolar\"}], \"carpet\": [{\"aaxis\": {\"endlinecolor\": \"#2a3f5f\", \"gridcolor\": \"white\", \"linecolor\": \"white\", \"minorgridcolor\": \"white\", \"startlinecolor\": \"#2a3f5f\"}, \"baxis\": {\"endlinecolor\": \"#2a3f5f\", \"gridcolor\": \"white\", \"linecolor\": \"white\", \"minorgridcolor\": \"white\", \"startlinecolor\": \"#2a3f5f\"}, \"type\": \"carpet\"}], \"choropleth\": [{\"colorbar\": {\"outlinewidth\": 0, \"ticks\": \"\"}, \"type\": \"choropleth\"}], \"contour\": [{\"colorbar\": {\"outlinewidth\": 0, \"ticks\": \"\"}, \"colorscale\": [[0.0, \"#0d0887\"], [0.1111111111111111, \"#46039f\"], [0.2222222222222222, \"#7201a8\"], [0.3333333333333333, \"#9c179e\"], [0.4444444444444444, \"#bd3786\"], [0.5555555555555556, \"#d8576b\"], [0.6666666666666666, \"#ed7953\"], [0.7777777777777778, \"#fb9f3a\"], [0.8888888888888888, \"#fdca26\"], [1.0, \"#f0f921\"]], \"type\": \"contour\"}], \"contourcarpet\": [{\"colorbar\": {\"outlinewidth\": 0, \"ticks\": \"\"}, \"type\": \"contourcarpet\"}], \"heatmap\": [{\"colorbar\": {\"outlinewidth\": 0, \"ticks\": \"\"}, \"colorscale\": [[0.0, \"#0d0887\"], [0.1111111111111111, \"#46039f\"], [0.2222222222222222, \"#7201a8\"], [0.3333333333333333, \"#9c179e\"], [0.4444444444444444, \"#bd3786\"], [0.5555555555555556, \"#d8576b\"], [0.6666666666666666, \"#ed7953\"], [0.7777777777777778, \"#fb9f3a\"], [0.8888888888888888, \"#fdca26\"], [1.0, \"#f0f921\"]], \"type\": \"heatmap\"}], \"heatmapgl\": [{\"colorbar\": {\"outlinewidth\": 0, \"ticks\": \"\"}, \"colorscale\": [[0.0, \"#0d0887\"], [0.1111111111111111, \"#46039f\"], [0.2222222222222222, \"#7201a8\"], [0.3333333333333333, \"#9c179e\"], [0.4444444444444444, \"#bd3786\"], [0.5555555555555556, \"#d8576b\"], [0.6666666666666666, \"#ed7953\"], [0.7777777777777778, \"#fb9f3a\"], [0.8888888888888888, \"#fdca26\"], [1.0, \"#f0f921\"]], \"type\": \"heatmapgl\"}], \"histogram\": [{\"marker\": {\"colorbar\": {\"outlinewidth\": 0, \"ticks\": \"\"}}, \"type\": \"histogram\"}], \"histogram2d\": [{\"colorbar\": {\"outlinewidth\": 0, \"ticks\": \"\"}, \"colorscale\": [[0.0, \"#0d0887\"], [0.1111111111111111, \"#46039f\"], [0.2222222222222222, \"#7201a8\"], [0.3333333333333333, \"#9c179e\"], [0.4444444444444444, \"#bd3786\"], [0.5555555555555556, \"#d8576b\"], [0.6666666666666666, \"#ed7953\"], [0.7777777777777778, \"#fb9f3a\"], [0.8888888888888888, \"#fdca26\"], [1.0, \"#f0f921\"]], \"type\": \"histogram2d\"}], \"histogram2dcontour\": [{\"colorbar\": {\"outlinewidth\": 0, \"ticks\": \"\"}, \"colorscale\": [[0.0, \"#0d0887\"], [0.1111111111111111, \"#46039f\"], [0.2222222222222222, \"#7201a8\"], [0.3333333333333333, \"#9c179e\"], [0.4444444444444444, \"#bd3786\"], [0.5555555555555556, \"#d8576b\"], [0.6666666666666666, \"#ed7953\"], [0.7777777777777778, \"#fb9f3a\"], [0.8888888888888888, \"#fdca26\"], [1.0, \"#f0f921\"]], \"type\": \"histogram2dcontour\"}], \"mesh3d\": [{\"colorbar\": {\"outlinewidth\": 0, \"ticks\": \"\"}, \"type\": \"mesh3d\"}], \"parcoords\": [{\"line\": {\"colorbar\": {\"outlinewidth\": 0, \"ticks\": \"\"}}, \"type\": \"parcoords\"}], \"pie\": [{\"automargin\": true, \"type\": \"pie\"}], \"scatter\": [{\"marker\": {\"colorbar\": {\"outlinewidth\": 0, \"ticks\": \"\"}}, \"type\": \"scatter\"}], \"scatter3d\": [{\"line\": {\"colorbar\": {\"outlinewidth\": 0, \"ticks\": \"\"}}, \"marker\": {\"colorbar\": {\"outlinewidth\": 0, \"ticks\": \"\"}}, \"type\": \"scatter3d\"}], \"scattercarpet\": [{\"marker\": {\"colorbar\": {\"outlinewidth\": 0, \"ticks\": \"\"}}, \"type\": \"scattercarpet\"}], \"scattergeo\": [{\"marker\": {\"colorbar\": {\"outlinewidth\": 0, \"ticks\": \"\"}}, \"type\": \"scattergeo\"}], \"scattergl\": [{\"marker\": {\"colorbar\": {\"outlinewidth\": 0, \"ticks\": \"\"}}, \"type\": \"scattergl\"}], \"scattermapbox\": [{\"marker\": {\"colorbar\": {\"outlinewidth\": 0, \"ticks\": \"\"}}, \"type\": \"scattermapbox\"}], \"scatterpolar\": [{\"marker\": {\"colorbar\": {\"outlinewidth\": 0, \"ticks\": \"\"}}, \"type\": \"scatterpolar\"}], \"scatterpolargl\": [{\"marker\": {\"colorbar\": {\"outlinewidth\": 0, \"ticks\": \"\"}}, \"type\": \"scatterpolargl\"}], \"scatterternary\": [{\"marker\": {\"colorbar\": {\"outlinewidth\": 0, \"ticks\": \"\"}}, \"type\": \"scatterternary\"}], \"surface\": [{\"colorbar\": {\"outlinewidth\": 0, \"ticks\": \"\"}, \"colorscale\": [[0.0, \"#0d0887\"], [0.1111111111111111, \"#46039f\"], [0.2222222222222222, \"#7201a8\"], [0.3333333333333333, \"#9c179e\"], [0.4444444444444444, \"#bd3786\"], [0.5555555555555556, \"#d8576b\"], [0.6666666666666666, \"#ed7953\"], [0.7777777777777778, \"#fb9f3a\"], [0.8888888888888888, \"#fdca26\"], [1.0, \"#f0f921\"]], \"type\": \"surface\"}], \"table\": [{\"cells\": {\"fill\": {\"color\": \"#EBF0F8\"}, \"line\": {\"color\": \"white\"}}, \"header\": {\"fill\": {\"color\": \"#C8D4E3\"}, \"line\": {\"color\": \"white\"}}, \"type\": \"table\"}]}, \"layout\": {\"annotationdefaults\": {\"arrowcolor\": \"#2a3f5f\", \"arrowhead\": 0, \"arrowwidth\": 1}, \"coloraxis\": {\"colorbar\": {\"outlinewidth\": 0, \"ticks\": \"\"}}, \"colorscale\": {\"diverging\": [[0, \"#8e0152\"], [0.1, \"#c51b7d\"], [0.2, \"#de77ae\"], [0.3, \"#f1b6da\"], [0.4, \"#fde0ef\"], [0.5, \"#f7f7f7\"], [0.6, \"#e6f5d0\"], [0.7, \"#b8e186\"], [0.8, \"#7fbc41\"], [0.9, \"#4d9221\"], [1, \"#276419\"]], \"sequential\": [[0.0, \"#0d0887\"], [0.1111111111111111, \"#46039f\"], [0.2222222222222222, \"#7201a8\"], [0.3333333333333333, \"#9c179e\"], [0.4444444444444444, \"#bd3786\"], [0.5555555555555556, \"#d8576b\"], [0.6666666666666666, \"#ed7953\"], [0.7777777777777778, \"#fb9f3a\"], [0.8888888888888888, \"#fdca26\"], [1.0, \"#f0f921\"]], \"sequentialminus\": [[0.0, \"#0d0887\"], [0.1111111111111111, \"#46039f\"], [0.2222222222222222, \"#7201a8\"], [0.3333333333333333, \"#9c179e\"], [0.4444444444444444, \"#bd3786\"], [0.5555555555555556, \"#d8576b\"], [0.6666666666666666, \"#ed7953\"], [0.7777777777777778, \"#fb9f3a\"], [0.8888888888888888, \"#fdca26\"], [1.0, \"#f0f921\"]]}, \"colorway\": [\"#636efa\", \"#EF553B\", \"#00cc96\", \"#ab63fa\", \"#FFA15A\", \"#19d3f3\", \"#FF6692\", \"#B6E880\", \"#FF97FF\", \"#FECB52\"], \"font\": {\"color\": \"#2a3f5f\"}, \"geo\": {\"bgcolor\": \"white\", \"lakecolor\": \"white\", \"landcolor\": \"#E5ECF6\", \"showlakes\": true, \"showland\": true, \"subunitcolor\": \"white\"}, \"hoverlabel\": {\"align\": \"left\"}, \"hovermode\": \"closest\", \"mapbox\": {\"style\": \"light\"}, \"paper_bgcolor\": \"white\", \"plot_bgcolor\": \"#E5ECF6\", \"polar\": {\"angularaxis\": {\"gridcolor\": \"white\", \"linecolor\": \"white\", \"ticks\": \"\"}, \"bgcolor\": \"#E5ECF6\", \"radialaxis\": {\"gridcolor\": \"white\", \"linecolor\": \"white\", \"ticks\": \"\"}}, \"scene\": {\"xaxis\": {\"backgroundcolor\": \"#E5ECF6\", \"gridcolor\": \"white\", \"gridwidth\": 2, \"linecolor\": \"white\", \"showbackground\": true, \"ticks\": \"\", \"zerolinecolor\": \"white\"}, \"yaxis\": {\"backgroundcolor\": \"#E5ECF6\", \"gridcolor\": \"white\", \"gridwidth\": 2, \"linecolor\": \"white\", \"showbackground\": true, \"ticks\": \"\", \"zerolinecolor\": \"white\"}, \"zaxis\": {\"backgroundcolor\": \"#E5ECF6\", \"gridcolor\": \"white\", \"gridwidth\": 2, \"linecolor\": \"white\", \"showbackground\": true, \"ticks\": \"\", \"zerolinecolor\": \"white\"}}, \"shapedefaults\": {\"line\": {\"color\": \"#2a3f5f\"}}, \"ternary\": {\"aaxis\": {\"gridcolor\": \"white\", \"linecolor\": \"white\", \"ticks\": \"\"}, \"baxis\": {\"gridcolor\": \"white\", \"linecolor\": \"white\", \"ticks\": \"\"}, \"bgcolor\": \"#E5ECF6\", \"caxis\": {\"gridcolor\": \"white\", \"linecolor\": \"white\", \"ticks\": \"\"}}, \"title\": {\"x\": 0.05}, \"xaxis\": {\"automargin\": true, \"gridcolor\": \"white\", \"linecolor\": \"white\", \"ticks\": \"\", \"title\": {\"standoff\": 15}, \"zerolinecolor\": \"white\", \"zerolinewidth\": 2}, \"yaxis\": {\"automargin\": true, \"gridcolor\": \"white\", \"linecolor\": \"white\", \"ticks\": \"\", \"title\": {\"standoff\": 15}, \"zerolinecolor\": \"white\", \"zerolinewidth\": 2}}}, \"title\": {\"text\": \"COVID-19 spread across world\"}},\n",
       "                        {\"responsive\": true}\n",
       "                    ).then(function(){\n",
       "                            \n",
       "var gd = document.getElementById('c6c73739-ef28-4040-b27e-eeab295bfc06');\n",
       "var x = new MutationObserver(function (mutations, observer) {{\n",
       "        var display = window.getComputedStyle(gd).display;\n",
       "        if (!display || display === 'none') {{\n",
       "            console.log([gd, 'removed!']);\n",
       "            Plotly.purge(gd);\n",
       "            observer.disconnect();\n",
       "        }}\n",
       "}});\n",
       "\n",
       "// Listen for the removal of the full notebook cells\n",
       "var notebookContainer = gd.closest('#notebook-container');\n",
       "if (notebookContainer) {{\n",
       "    x.observe(notebookContainer, {childList: true});\n",
       "}}\n",
       "\n",
       "// Listen for the clearing of the current output cell\n",
       "var outputEl = gd.closest('.output');\n",
       "if (outputEl) {{\n",
       "    x.observe(outputEl, {childList: true});\n",
       "}}\n",
       "\n",
       "                        })\n",
       "                };\n",
       "                });\n",
       "            </script>\n",
       "        </div>"
      ]
     },
     "metadata": {},
     "output_type": "display_data"
    },
    {
     "data": {
      "text/plain": [
       "<Figure size 432x288 with 0 Axes>"
      ]
     },
     "metadata": {},
     "output_type": "display_data"
    }
   ],
   "source": [
    "data = dict(\n",
    "        type = 'choropleth',\n",
    "        colorscale = 'sunsetdark',\n",
    "        reversescale = True,\n",
    "        locations = df_countries.index,\n",
    "        locationmode = \"country names\",\n",
    "        z = df_countries['Confirmed'],\n",
    "        text = df_countries.index,\n",
    "        colorbar = {'title' : 'Confirmd number of cases ',\n",
    "                    #'titlefont':'',\n",
    "                    'bgcolor':'White'}\n",
    "      ) \n",
    "\n",
    "layout = dict(title = 'COVID-19 spread across world',\n",
    "                geo = dict(showframe = False)\n",
    "             )\n",
    "choromap = go.Figure(data = [data],layout = layout)\n",
    "iplot(choromap)\n",
    "plt.savefig('Global spread.png')"
   ]
  },
  {
   "cell_type": "code",
   "execution_count": null,
   "metadata": {},
   "outputs": [],
   "source": []
  },
  {
   "cell_type": "code",
   "execution_count": 682,
   "metadata": {},
   "outputs": [],
   "source": [
    "#covid_data['Province/State'].isnull()"
   ]
  },
  {
   "cell_type": "code",
   "execution_count": 683,
   "metadata": {},
   "outputs": [],
   "source": [
    "ctr_date_data = covid_data[covid_data['Province/State'].isnull()]\n",
    "ctr_date_data.drop(['Province/State','Lat','Long'],axis=1,inplace=True)"
   ]
  },
  {
   "cell_type": "code",
   "execution_count": null,
   "metadata": {},
   "outputs": [],
   "source": []
  },
  {
   "cell_type": "code",
   "execution_count": null,
   "metadata": {},
   "outputs": [],
   "source": []
  },
  {
   "cell_type": "code",
   "execution_count": 684,
   "metadata": {},
   "outputs": [],
   "source": [
    "#df_countries_11 = df_countries.head(11)\n",
    "ctr_date_data  = ctr_date_data.reset_index().rename(columns={'Country/Region':'Country'})\n",
    "ctr_date_data.set_index('Country',inplace=True)"
   ]
  },
  {
   "cell_type": "code",
   "execution_count": null,
   "metadata": {},
   "outputs": [],
   "source": []
  },
  {
   "cell_type": "code",
   "execution_count": 685,
   "metadata": {
    "scrolled": true
   },
   "outputs": [
    {
     "data": {
      "text/html": [
       "<div>\n",
       "<style scoped>\n",
       "    .dataframe tbody tr th:only-of-type {\n",
       "        vertical-align: middle;\n",
       "    }\n",
       "\n",
       "    .dataframe tbody tr th {\n",
       "        vertical-align: top;\n",
       "    }\n",
       "\n",
       "    .dataframe thead th {\n",
       "        text-align: right;\n",
       "    }\n",
       "</style>\n",
       "<table border=\"1\" class=\"dataframe\">\n",
       "  <thead>\n",
       "    <tr style=\"text-align: right;\">\n",
       "      <th></th>\n",
       "      <th>index</th>\n",
       "      <th>Date</th>\n",
       "      <th>Confirmed</th>\n",
       "      <th>Recovered</th>\n",
       "      <th>Deaths</th>\n",
       "    </tr>\n",
       "    <tr>\n",
       "      <th>Country</th>\n",
       "      <th></th>\n",
       "      <th></th>\n",
       "      <th></th>\n",
       "      <th></th>\n",
       "      <th></th>\n",
       "    </tr>\n",
       "  </thead>\n",
       "  <tbody>\n",
       "    <tr>\n",
       "      <th>Afghanistan</th>\n",
       "      <td>0</td>\n",
       "      <td>2020-01-22</td>\n",
       "      <td>0.0</td>\n",
       "      <td>0.0</td>\n",
       "      <td>0.0</td>\n",
       "    </tr>\n",
       "    <tr>\n",
       "      <th>Afghanistan</th>\n",
       "      <td>1</td>\n",
       "      <td>2020-01-23</td>\n",
       "      <td>0.0</td>\n",
       "      <td>0.0</td>\n",
       "      <td>0.0</td>\n",
       "    </tr>\n",
       "    <tr>\n",
       "      <th>Afghanistan</th>\n",
       "      <td>2</td>\n",
       "      <td>2020-01-24</td>\n",
       "      <td>0.0</td>\n",
       "      <td>0.0</td>\n",
       "      <td>0.0</td>\n",
       "    </tr>\n",
       "    <tr>\n",
       "      <th>Afghanistan</th>\n",
       "      <td>3</td>\n",
       "      <td>2020-01-25</td>\n",
       "      <td>0.0</td>\n",
       "      <td>0.0</td>\n",
       "      <td>0.0</td>\n",
       "    </tr>\n",
       "    <tr>\n",
       "      <th>Afghanistan</th>\n",
       "      <td>4</td>\n",
       "      <td>2020-01-26</td>\n",
       "      <td>0.0</td>\n",
       "      <td>0.0</td>\n",
       "      <td>0.0</td>\n",
       "    </tr>\n",
       "  </tbody>\n",
       "</table>\n",
       "</div>"
      ],
      "text/plain": [
       "             index        Date  Confirmed  Recovered  Deaths\n",
       "Country                                                     \n",
       "Afghanistan      0  2020-01-22        0.0        0.0     0.0\n",
       "Afghanistan      1  2020-01-23        0.0        0.0     0.0\n",
       "Afghanistan      2  2020-01-24        0.0        0.0     0.0\n",
       "Afghanistan      3  2020-01-25        0.0        0.0     0.0\n",
       "Afghanistan      4  2020-01-26        0.0        0.0     0.0"
      ]
     },
     "execution_count": 685,
     "metadata": {},
     "output_type": "execute_result"
    }
   ],
   "source": [
    "ctr_date_data.head()"
   ]
  },
  {
   "cell_type": "markdown",
   "metadata": {},
   "source": [
    "## Counting the number of days since the dayt 0th corona patient found"
   ]
  },
  {
   "cell_type": "code",
   "execution_count": 686,
   "metadata": {},
   "outputs": [],
   "source": [
    "ctr_date_data.drop('index',axis=1,inplace=True)"
   ]
  },
  {
   "cell_type": "code",
   "execution_count": 687,
   "metadata": {},
   "outputs": [
    {
     "data": {
      "text/plain": [
       "121"
      ]
     },
     "execution_count": 687,
     "metadata": {},
     "output_type": "execute_result"
    }
   ],
   "source": [
    "days = ctr_date_data[ctr_date_data.index == 'Afghanistan'].count()\n",
    "day = days['Date']\n",
    "#day = days[days.index == 'Afghanistan']\n",
    "day"
   ]
  },
  {
   "cell_type": "markdown",
   "metadata": {},
   "source": [
    "## Plotting a graph for top 10 countries and comparing it with India"
   ]
  },
  {
   "cell_type": "code",
   "execution_count": 688,
   "metadata": {},
   "outputs": [
    {
     "data": {
      "image/png": "[encoded data removed]",
      "text/plain": [
       "<Figure size 1080x864 with 1 Axes>"
      ]
     },
     "metadata": {
      "needs_background": "light"
     },
     "output_type": "display_data"
    }
   ],
   "source": [
    "#day\n",
    "f = plt.figure(figsize=(15,12))\n",
    "ax = f.add_subplot(111)\n",
    "for i,country in enumerate(ctr_date_data.groupby('Country').count().index):\n",
    "    t = ctr_date_data.loc[ctr_date_data.index== country].values\n",
    "    date = np.arange(0,len(t[:day]))\n",
    "    xnew = np.linspace(date.min(), date.max(), day)\n",
    "    #t[:-1]\n",
    "    f = make_interp_spline(date, t[:,1:2], k=1)\n",
    "    norm = f(xnew)\n",
    "    if country in ('US','India','Spain','Russia','United Kingdome','Italy','Germany','Turkey','France','Brazil'):\n",
    "        if country == 'India':\n",
    "            marker_style = dict(linewidth=4, linestyle='-', marker='o',markersize=10, markerfacecolor='#150783')\n",
    "            plt.plot(xnew,norm,\"--\",label = country,**marker_style)\n",
    "        else:\n",
    "            plt.plot(xnew,norm,'-o',label = country,linewidth =3, markevery=[-1])\n",
    "\n",
    "plt.tick_params(labelsize = 14)        \n",
    "plt.xticks(np.arange(0,day,7),[ \"D\"+str(i) for i in range(day)][::7]) \n",
    "\n",
    "\n",
    "plt.xlabel(\"Days\",fontsize=17)\n",
    "plt.ylabel(\"Total Confirmed Cases\",fontsize=17)\n",
    "plt.title(\"Comparison of Different Countries and India\",fontsize=15)\n",
    "plt.legend(loc = \"center right\")\n",
    "plt.yscale(\"symlog\")\n",
    "plt.grid(which=\"both\",color='gray', linestyle='-', linewidth=1)\n",
    "plt.savefig('Trend Comparison with India.png')\n",
    "plt.show()\n"
   ]
  },
  {
   "cell_type": "code",
   "execution_count": null,
   "metadata": {},
   "outputs": [],
   "source": []
  },
  {
   "cell_type": "code",
   "execution_count": null,
   "metadata": {},
   "outputs": [],
   "source": []
  }
 ],
 "metadata": {
  "kernelspec": {
   "display_name": "Python 3",
   "language": "python",
   "name": "python3"
  },
  "language_info": {
   "codemirror_mode": {
    "name": "ipython",
    "version": 3
   },
   "file_extension": ".py",
   "mimetype": "text/x-python",
   "name": "python",
   "nbconvert_exporter": "python",
   "pygments_lexer": "ipython3",
   "version": "3.7.3"
  }
 },
 "nbformat": 4,
 "nbformat_minor": 2
}
